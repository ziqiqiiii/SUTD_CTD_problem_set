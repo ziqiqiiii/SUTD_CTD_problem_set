{
 "cells": [
  {
   "cell_type": "markdown",
   "metadata": {
    "cellIdentifier": "gwn2l38yveitio3jt1u40d",
    "colab_type": "text",
    "deletable": false,
    "editable": false,
    "id": "1hVEGotd1HQG",
    "nbgrader": {
     "grade": false,
     "locked": true,
     "solution": false
    }
   },
   "source": [
    "### 10.014 Computational Thinking For Design, Fall 2024\n",
    "\n",
    "## Problem Set 5B\n",
    "\n",
    "© Singapore University of Technology and Design, 2024    "
   ]
  },
  {
   "cell_type": "markdown",
   "metadata": {
    "cellIdentifier": "jm0q1rtx2m5es7upnew0v",
    "deletable": false,
    "editable": false,
    "nbgrader": {
     "grade": false,
     "locked": true,
     "solution": false
    }
   },
   "source": [
    "### Problem 5.10 ```search( ls, value)```"
   ]
  },
  {
   "cell_type": "markdown",
   "metadata": {
    "cellIdentifier": "1nr3crhy8k2qos4vraxt2",
    "deletable": false,
    "editable": false,
    "nbgrader": {
     "grade": false,
     "locked": true,
     "solution": false
    }
   },
   "source": [
    "*This problem is placed in this problem set to help you revise how to loop over a list.*\n",
    "\n",
    "This function takes in a list of integers ```ls``` and an integer ```value```. ```ls``` is not necessarily sorted. \n",
    "\n",
    "If ```value``` is an element in ```ls```, this function returns the index at which ```element``` is first found. Otherwise, ```None``` is returned.\n",
    "\n",
    "Here's the pseudocode for the **Linear Search** algorithm.\n",
    "\n",
    "----- \n",
    "\n",
    "\n",
    "1. for index ```i``` from 0 to the last index of ```ls```\n",
    "   \n",
    "   \n",
    "   a. if ```ls[i]``` is equal to ```value```, return ```i```\n",
    "   \n",
    "   \n",
    "2. return None\n",
    "\n",
    "\n",
    "\n",
    "----- \n",
    "\n",
    "----\n",
    "\n",
    "**Questions to think about** \n",
    "\n",
    "1. **For the pseudocode above**,\n",
    "   \n",
    "   a. how is this similar to the algorithm for determining if a given integer is a prime number? \n",
    "   \n",
    "   b. What is the effect of a return statement?\n",
    "   \n",
    "   c. Why do you need to wait for the loop to be completed before executing Step 2? \n",
    "\n",
    "2. **Challenge yourself** Try implementing the **binary search algorithm** (do a google search) for this problem. If you are interested in Computer Science, this will be an important problem to learn. \n",
    "   \n",
    "-------\n",
    "\n",
    "```python\n",
    "ls = [10,20,30,40,50,40]\n",
    "print(search(ls, 30)) ### 2 \n",
    "print(search(ls, 40)) ### 3 \n",
    "print(search(ls, 41)) ### None \n",
    "```\n"
   ]
  },
  {
   "cell_type": "code",
   "execution_count": null,
   "metadata": {
    "cellIdentifier": "sl72pzryfktzfi35qy8p"
   },
   "outputs": [],
   "source": [
    "def search( ls, value):\n",
    "    n = len(ls)\n",
    "    ###\n",
    "    ### YOUR CODE HERE\n",
    "    ###\n",
    "    return None "
   ]
  },
  {
   "cell_type": "code",
   "execution_count": null,
   "metadata": {
    "cellIdentifier": "nw3hcvujn6l0sj5bvnfn3x",
    "deletable": false,
    "editable": false,
    "nbgrader": {
     "grade": true,
     "grade_id": "5.10test1",
     "locked": true,
     "points": "1",
     "solution": false
    }
   },
   "outputs": [],
   "source": [
    "###\n",
    "### AUTOGRADER TEST - DO NOT REMOVE\n",
    "###\n"
   ]
  },
  {
   "cell_type": "markdown",
   "metadata": {
    "cellIdentifier": "k784emirujkvy7qpmtj66r",
    "colab_type": "text",
    "deletable": false,
    "editable": false,
    "id": "yaB8Tptqkbdy",
    "nbgrader": {
     "grade": false,
     "locked": true,
     "solution": false
    }
   },
   "source": [
    "### Problem 5.11 ```increase_value(dd,k)```"
   ]
  },
  {
   "cell_type": "markdown",
   "metadata": {
    "cellIdentifier": "1lqnvrj74fdhaw17laigm5",
    "colab_type": "text",
    "deletable": false,
    "editable": false,
    "id": "Kdwd_cFj1KOI",
    "nbgrader": {
     "grade": false,
     "locked": true,
     "solution": false
    }
   },
   "source": [
    "\n",
    "The function takes in a dictionary ```dd``` and a key ```k```. The corresponding value of each key is an integer.\n",
    "\n",
    "If ```k``` exists as a key\n",
    "- increase the corresponding value by one.\n",
    "- else, nothing happens to ```dd```\n",
    "\n",
    "Note that ```dd``` is modified in-place. \n",
    "\n",
    "**sample test cases**\n",
    "```python \n",
    "dd1 = {1:2, 2:3}\n",
    "key = 2\n",
    "increase_value(dd1, key)\n",
    "print(dd1)\n",
    "\n",
    "dd2 = {7:10, 8:40}\n",
    "key = 3\n",
    "increase_value(dd2, key)\n",
    "print(dd2)\n",
    "```\n",
    "\n",
    "**expected output**\n",
    "```python\n",
    "{1:2, 2:4}\n",
    "{7:10, 8:40}\n",
    "```\n",
    "\n"
   ]
  },
  {
   "cell_type": "markdown",
   "metadata": {
    "cellIdentifier": "auzbr89nkyegaalgh995dq",
    "deletable": false,
    "editable": false,
    "nbgrader": {
     "grade": false,
     "locked": true,
     "solution": false
    }
   },
   "source": [
    "#### Your solution here: "
   ]
  },
  {
   "cell_type": "code",
   "execution_count": null,
   "metadata": {
    "cellIdentifier": "fuk2glp5y2ktxj50z3y71e",
    "nbgrader": {
     "grade": false,
     "grade_id": "5.02test1",
     "locked": false,
     "points": "2",
     "solution": false
    }
   },
   "outputs": [],
   "source": [
    "def increase_value(sample_dict,key):\n",
    "    ###\n",
    "    ### YOUR CODE HERE\n",
    "    ###\n",
    "    pass\n",
    "    \n",
    "sample_dict = {1:2, 2:3}\n",
    "key = 2\n",
    "increase_value(sample_dict, key)\n",
    "print(sample_dict)\n",
    "dd2 = {7:10, 8:40}\n",
    "key = 3\n",
    "increase_value(dd2, key)\n",
    "print(dd2)"
   ]
  },
  {
   "cell_type": "code",
   "execution_count": null,
   "metadata": {
    "cellIdentifier": "vx1w9afe5t8a8pgnd8k9bt",
    "deletable": false,
    "editable": false,
    "nbgrader": {
     "grade": true,
     "grade_id": "5.11test1",
     "locked": true,
     "points": "1",
     "solution": false
    }
   },
   "outputs": [],
   "source": [
    "###\n",
    "### AUTOGRADER TEST - DO NOT REMOVE\n",
    "###\n"
   ]
  },
  {
   "cell_type": "code",
   "execution_count": null,
   "metadata": {
    "cellIdentifier": "8zxqmicch8oiflvls5mkhq",
    "deletable": false,
    "editable": false,
    "nbgrader": {
     "grade": true,
     "grade_id": "5.11test2",
     "locked": true,
     "points": "1",
     "solution": false
    }
   },
   "outputs": [],
   "source": [
    "###\n",
    "### AUTOGRADER TEST - DO NOT REMOVE\n",
    "###\n"
   ]
  },
  {
   "cell_type": "markdown",
   "metadata": {
    "cellIdentifier": "1pz04hstp1v264ihxszzz5",
    "colab_type": "text",
    "deletable": false,
    "editable": false,
    "id": "JlcXn0StlNL8",
    "nbgrader": {
     "grade": false,
     "locked": true,
     "solution": false
    }
   },
   "source": [
    "### Problem 5.12a  ```translate_point(dd, key, vector )```"
   ]
  },
  {
   "cell_type": "markdown",
   "metadata": {
    "cellIdentifier": "aoqqn9idzz4d3ic8li8sy",
    "colab_type": "text",
    "deletable": false,
    "editable": false,
    "id": "tYLYZPx75LRS",
    "nbgrader": {
     "grade": false,
     "locked": true,
     "solution": false
    }
   },
   "source": [
    "A dictionary ```dd``` has the following format: \n",
    "\n",
    "```python\n",
    "dd = {'A': (1,2), 'B': (-3,4), 'C': (-1,2)}\n",
    "```\n",
    "\n",
    "Each key-value pair represents a point in 2-D space. The key is the label of the point, and the associated value is a tuple containing the coordinates of the point. \n",
    "\n",
    "```dd``` represents the vertices in a triangle. Assume that the points are not collinear, and there are always three key-value pairs in the dictionary.  \n",
    "\n",
    "This function takes in ```dd```, a key ```key``` and a translation vector ```vector```.\n",
    "\n",
    "You are guaranteed that ```vector``` is a tuple with two elements.\n",
    "\n",
    "If ```key``` exists in ```dd```\n",
    "- **modify the corresponding value in-place** by applying the translation vector to the point, thus changing its position. \n",
    "- else, do nothing\n",
    "\n",
    "**sample test cases**\n",
    "```python\n",
    "dd = {'A': (1,2), 'B': (-3,4), 'C': (-1,2)}\n",
    "key = 'A'\n",
    "vector = (3, 2)\n",
    "translate_point(dd, key, vector)\n",
    "print(dd)\n",
    "\n",
    "dd2 = {'F': (1,2), 'G': (-3,4), 'H': (-1,2)}\n",
    "key = 'D'\n",
    "vector = (3, 2)\n",
    "translate_point(dd2, key, vector)\n",
    "print(dd2)\n",
    "```\n",
    "\n",
    "**expected output**\n",
    "```python\n",
    "{'A': (4,4), 'B': (-3,4), 'C': (-1,2)}\n",
    "{'F': (1,2), 'G': (-3,4), 'H': (-1,2)}\n",
    "```\n"
   ]
  },
  {
   "cell_type": "markdown",
   "metadata": {
    "cellIdentifier": "6kq0v9grrsmrqcxvfp608c",
    "deletable": false,
    "editable": false,
    "nbgrader": {
     "grade": false,
     "locked": true,
     "solution": false
    }
   },
   "source": [
    "#### Your solution here: "
   ]
  },
  {
   "cell_type": "code",
   "execution_count": null,
   "metadata": {
    "cellIdentifier": "tszzvm556gzgy14pj269"
   },
   "outputs": [],
   "source": [
    "def translate_point(dd,key,vector):\n",
    "    pass\n",
    "    ###\n",
    "    ### YOUR CODE HERE\n",
    "    ###\n",
    "\n",
    "dd = {'A': (1,2), 'B': (-3,4), 'C': (-1,2)}\n",
    "key = 'A'\n",
    "vector = (3, 2)\n",
    "translate_point(dd, key, vector)\n",
    "print(dd)\n",
    "\n",
    "dd2 = {'F': (1,2), 'G': (-3,4), 'H': (-1,2)}\n",
    "key = 'D'\n",
    "vector = (3, 2)\n",
    "translate_point(dd2, key, vector)\n",
    "print(dd2)"
   ]
  },
  {
   "cell_type": "code",
   "execution_count": null,
   "metadata": {
    "cellIdentifier": "8pocq2e1f1vjpeomes9k",
    "deletable": false,
    "editable": false,
    "nbgrader": {
     "grade": true,
     "grade_id": "5.12test1",
     "locked": true,
     "points": "1",
     "solution": false
    }
   },
   "outputs": [],
   "source": [
    "###\n",
    "### AUTOGRADER TEST - DO NOT REMOVE\n",
    "###\n"
   ]
  },
  {
   "cell_type": "code",
   "execution_count": null,
   "metadata": {
    "cellIdentifier": "ycu3rtrpjjg19u6hpgmkqi",
    "deletable": false,
    "editable": false,
    "nbgrader": {
     "grade": true,
     "grade_id": "5.12test2",
     "locked": true,
     "points": "1",
     "solution": false
    }
   },
   "outputs": [],
   "source": [
    "###\n",
    "### AUTOGRADER TEST - DO NOT REMOVE\n",
    "###\n"
   ]
  },
  {
   "cell_type": "markdown",
   "metadata": {
    "cellIdentifier": "3jtp0untd9nj2smmk006q",
    "colab_type": "text",
    "deletable": false,
    "editable": false,
    "id": "JlcXn0StlNL8",
    "nbgrader": {
     "grade": false,
     "locked": true,
     "solution": false
    }
   },
   "source": [
    "### Problem 5.12b  ```translate_point_new(dd, key, vector )```"
   ]
  },
  {
   "cell_type": "markdown",
   "metadata": {
    "cellIdentifier": "s0hu7spft3ockhd85trfpv",
    "colab_type": "text",
    "deletable": false,
    "editable": false,
    "id": "tYLYZPx75LRS",
    "nbgrader": {
     "grade": false,
     "locked": true,
     "solution": false
    }
   },
   "source": [
    "A dictionary ```dd``` has the following format: \n",
    "\n",
    "```python\n",
    "dd = {'A': (1,2), 'B': (-3,4), 'C': (-1,2)}\n",
    "```\n",
    "\n",
    "Each key-value pair represents a point in 2-D space. The key is the label of the point, and the associated value is a tuple containing the coordinates of the point. \n",
    "\n",
    "```dd``` represents the vertices in a triangle. Assume that the points are not collinear, and there are always three key-value pairs in the dictionary.  \n",
    "\n",
    "This function takes in ```dd```, a key ```key``` and a translation vector ```vector```.\n",
    "\n",
    "You are guaranteed that ```vector``` is a tuple with two elements.\n",
    "\n",
    "This function always returns a copy of ```dd```.\n",
    "\n",
    "---\n",
    "**ALGORITHM**\n",
    "\n",
    "1. ```dd_out``` is a copy of ```dd```\n",
    "\n",
    "2. If ```key``` exists in ```dd_out```, modify the corresponding value by applying ```vector``` to it\n",
    "3. return ```dd_out```\n",
    "\n",
    "--- \n",
    "\n",
    "**sample test cases**\n",
    "```python\n",
    "dd = {'A': (1,2), 'B': (-3,4), 'C': (-1,2)}\n",
    "key = 'A'\n",
    "vector = (3, 2)\n",
    "d_new = translate_point_new(dd, key, vector)\n",
    "print(dd)\n",
    "print(d_new)\n",
    "print(dd is d_new)\n",
    "```\n",
    "\n",
    "**expected output**\n",
    "```python\n",
    "{'A': (1, 2), 'B': (-3, 4), 'C': (-1, 2)}\n",
    "{'A': (4, 4), 'B': (-3, 4), 'C': (-1, 2)}\n",
    "False\n",
    "```\n"
   ]
  },
  {
   "cell_type": "markdown",
   "metadata": {
    "cellIdentifier": "rpqw3twj7qgxuami23dvq",
    "deletable": false,
    "editable": false,
    "nbgrader": {
     "grade": false,
     "locked": true,
     "solution": false
    }
   },
   "source": [
    "#### Your solution here: "
   ]
  },
  {
   "cell_type": "code",
   "execution_count": null,
   "metadata": {
    "cellIdentifier": "ivulhviiooroyfgm64hki"
   },
   "outputs": [],
   "source": [
    "def translate_point_new(dd,key,vector):\n",
    "    pass\n",
    "    ###\n",
    "    ### YOUR CODE HERE\n",
    "    ###\n",
    "\n",
    "dd = {'A': (1,2), 'B': (-3,4), 'C': (-1,2)}\n",
    "key = 'A'\n",
    "vector = (3, 2)\n",
    "d_new = translate_point_new(dd, key, vector)\n",
    "print(dd)\n",
    "print(d_new)\n",
    "print(d_new is dd)"
   ]
  },
  {
   "cell_type": "code",
   "execution_count": null,
   "metadata": {
    "cellIdentifier": "j3gf7nd57rr1gwns7g5gxu",
    "deletable": false,
    "editable": false,
    "nbgrader": {
     "grade": true,
     "grade_id": "5.12test3",
     "locked": true,
     "points": "1",
     "solution": false
    }
   },
   "outputs": [],
   "source": [
    "###\n",
    "### AUTOGRADER TEST - DO NOT REMOVE\n",
    "###\n"
   ]
  },
  {
   "cell_type": "code",
   "execution_count": null,
   "metadata": {
    "cellIdentifier": "v0xybwttxbfmvhbc41b76",
    "deletable": false,
    "editable": false,
    "nbgrader": {
     "grade": true,
     "grade_id": "5.12test4",
     "locked": true,
     "points": "1",
     "solution": false
    }
   },
   "outputs": [],
   "source": [
    "###\n",
    "### AUTOGRADER TEST - DO NOT REMOVE\n",
    "###\n"
   ]
  },
  {
   "cell_type": "markdown",
   "metadata": {
    "cellIdentifier": "t46pglf1h7a5ilzf4tsy3l",
    "colab_type": "text",
    "deletable": false,
    "editable": false,
    "id": "JlcXn0StlNL8",
    "nbgrader": {
     "grade": false,
     "locked": true,
     "solution": false
    }
   },
   "source": [
    "### Problem 5.13a  ```replace_values(ls, value1, value2)```"
   ]
  },
  {
   "cell_type": "markdown",
   "metadata": {
    "cellIdentifier": "nj4sxvkia0iaaguvq2n6vp",
    "colab_type": "text",
    "deletable": false,
    "editable": false,
    "id": "tYLYZPx75LRS",
    "nbgrader": {
     "grade": false,
     "locked": true,
     "solution": false
    }
   },
   "source": [
    "The parameter ```ls``` is a list of integers. ```value1``` and ```value2``` are integers. \n",
    "\n",
    "This function replaces all instances of ```value1``` in ```ls``` with ```value2```. \n",
    "\n",
    "<b><font color=\"red\"> ```ls``` is modified in-place. </font></b>\n",
    "\n",
    "If there are no instances of ```value1``` in ```ls```, then ```ls``` remains unmodified. \n",
    "\n",
    "\n",
    "**sample test cases**\n",
    "```python\n",
    "ls1 = [3, 9, 5, 10, 2, 4, 10, 3]\n",
    "value1 = 3\n",
    "value2 = 12\n",
    "replace_values(ls1, value1, value2)\n",
    "print(ls1)\n",
    "\n",
    "ls2 = [4, 9, 5, 10, 2, 4, 10, 4]\n",
    "value1 = 3\n",
    "value2 = 12\n",
    "replace_values(ls2, value1, value2)\n",
    "print(ls2)\n",
    "```\n",
    "\n",
    "**expected output**\n",
    "```python\n",
    "[12, 9, 5, 10, 2, 4, 10, 12]\n",
    "[4, 9, 5, 10, 2, 4, 10, 4]\n",
    "```\n"
   ]
  },
  {
   "cell_type": "markdown",
   "metadata": {
    "cellIdentifier": "tq9s3e3grzl958gf8mg5yh",
    "deletable": false,
    "editable": false,
    "nbgrader": {
     "grade": false,
     "locked": true,
     "solution": false
    }
   },
   "source": [
    "#### Your solution here: "
   ]
  },
  {
   "cell_type": "code",
   "execution_count": null,
   "metadata": {
    "cellIdentifier": "kiq8mgd95izz7e2piynp"
   },
   "outputs": [],
   "source": [
    "def replace_values(ls,value1,value2):\n",
    "    pass\n",
    "    ###\n",
    "    ### YOUR CODE HERE\n",
    "    ###\n",
    "    \n"
   ]
  },
  {
   "cell_type": "code",
   "execution_count": null,
   "metadata": {
    "cellIdentifier": "fqfu6ky6rbbfqmd6om0ka5",
    "deletable": false,
    "editable": false,
    "nbgrader": {
     "grade": true,
     "grade_id": "5.13test1",
     "locked": true,
     "points": "1",
     "solution": false
    }
   },
   "outputs": [],
   "source": [
    "###\n",
    "### AUTOGRADER TEST - DO NOT REMOVE\n",
    "###\n"
   ]
  },
  {
   "cell_type": "code",
   "execution_count": null,
   "metadata": {
    "cellIdentifier": "q9r1z7e6t4xzdmobwf09",
    "deletable": false,
    "editable": false,
    "nbgrader": {
     "grade": true,
     "grade_id": "5.13test2",
     "locked": true,
     "points": "1",
     "solution": false
    }
   },
   "outputs": [],
   "source": [
    "###\n",
    "### AUTOGRADER TEST - DO NOT REMOVE\n",
    "###\n"
   ]
  },
  {
   "cell_type": "markdown",
   "metadata": {
    "cellIdentifier": "u07ziiqivio4o72os9y8p",
    "colab_type": "text",
    "deletable": false,
    "editable": false,
    "id": "JlcXn0StlNL8",
    "nbgrader": {
     "grade": false,
     "locked": true,
     "solution": false
    }
   },
   "source": [
    "### Problem 5.13b  ```replace_values_new(ls, value1, value2)```"
   ]
  },
  {
   "cell_type": "markdown",
   "metadata": {
    "cellIdentifier": "myy8r1lqm4najl9c38j8j",
    "colab_type": "text",
    "deletable": false,
    "editable": false,
    "id": "tYLYZPx75LRS",
    "nbgrader": {
     "grade": false,
     "locked": true,
     "solution": false
    }
   },
   "source": [
    "The parameter ```ls``` is a list of integers. ```value1``` and ```value2``` are integers. \n",
    "\n",
    "<b><font color=\"red\">This function returns a copy of ```ls``` </font></b> where all instances of ```value1``` are replaced  with ```value2```. \n",
    "\n",
    "If there are no instances of ```value1``` in ```ls```, then the copy of ```ls``` that is returned remains unmodified.\n",
    "\n",
    "\n",
    "**sample test cases**\n",
    "```python\n",
    "ls1 = [3, 9, 5, 10, 2, 4, 10, 3]\n",
    "ls2 = replace_values_new(ls1, 3, 12)\n",
    "print(\"ls1\", ls1)\n",
    "print(\"ls2\", ls2)\n",
    "\n",
    "ls3 = [4, 9, 5, 10, 2, 4, 10, 4]\n",
    "ls4 = replace_values_new(ls3, 3, 12)\n",
    "print(\"ls3\", ls3)\n",
    "print(\"ls4\", ls4)\n",
    "```\n",
    "\n",
    "**expected output**\n",
    "```python\n",
    "ls1 [3, 9, 5, 10, 2, 4, 10, 3]\n",
    "ls2 [12, 9, 5, 10, 2, 4, 10, 12]\n",
    "ls3 [4, 9, 5, 10, 2, 4, 10, 4]\n",
    "ls4 [4, 9, 5, 10, 2, 4, 10, 4]\n",
    "```\n"
   ]
  },
  {
   "cell_type": "markdown",
   "metadata": {
    "cellIdentifier": "f7fgh5li478zf5y2p1q7s",
    "deletable": false,
    "editable": false,
    "nbgrader": {
     "grade": false,
     "locked": true,
     "solution": false
    }
   },
   "source": [
    "#### Your solution here: "
   ]
  },
  {
   "cell_type": "code",
   "execution_count": 3,
   "metadata": {
    "cellIdentifier": "pr6c9b0cswkbyjjmcl3c"
   },
   "outputs": [],
   "source": [
    "def replace_values_new(ls,value1,value2):\n",
    "    pass\n",
    "    ###\n",
    "    ### YOUR CODE HERE\n",
    "    ###\n"
   ]
  },
  {
   "cell_type": "code",
   "execution_count": null,
   "metadata": {
    "cellIdentifier": "mx9z8g9mc8c3oiq5ztxr",
    "deletable": false,
    "editable": false,
    "nbgrader": {
     "grade": true,
     "grade_id": "5.13test3",
     "locked": true,
     "points": "1",
     "solution": false
    }
   },
   "outputs": [],
   "source": [
    "###\n",
    "### AUTOGRADER TEST - DO NOT REMOVE\n",
    "###\n"
   ]
  },
  {
   "cell_type": "code",
   "execution_count": null,
   "metadata": {
    "cellIdentifier": "8o6co9ec25t21cf38nbddb",
    "deletable": false,
    "editable": false,
    "nbgrader": {
     "grade": true,
     "grade_id": "5.13test4",
     "locked": true,
     "points": "1",
     "solution": false
    }
   },
   "outputs": [],
   "source": [
    "###\n",
    "### AUTOGRADER TEST - DO NOT REMOVE\n",
    "###\n"
   ]
  },
  {
   "cell_type": "markdown",
   "metadata": {
    "cellIdentifier": "0c7koqkbvy6q0w06sh4w6gw",
    "deletable": false,
    "editable": false,
    "nbgrader": {
     "grade": false,
     "locked": true,
     "solution": false
    }
   },
   "source": [
    "### Problem 5.14 ```reflect_triangle( dd, point)```"
   ]
  },
  {
   "cell_type": "markdown",
   "metadata": {
    "cellIdentifier": "hz2aj0i44rndfk4bnnqn8",
    "deletable": false,
    "editable": false,
    "nbgrader": {
     "grade": false,
     "locked": true,
     "solution": false
    }
   },
   "source": [
    "A dictionary ```dd``` has the following format: \n",
    "\n",
    "```python\n",
    "dd = {'A': (1,2), 'B': (-3,4), 'C': (-1,2)}\n",
    "```\n",
    "\n",
    "Each key-value pair represents a point in 2-D space. The key is the label of the point, and the associated value is a tuple containing the coordinates of the point. In this question, you are guaranteed that the keys are always ```'A', 'B', 'C'```. \n",
    "\n",
    "This function takes in ```dd```, which represents the vertices in a triangle. Assume that the points are not collinear, and there are always three key-value pairs in the dictionary.\n",
    "\n",
    "This function also takes in ```point```, which is a key in ```dd```. \n",
    "\n",
    "Suppose ```point``` is ```'B'```. This function returns a **new dictionary** where the coordinates of point ```B``` are modified such that it is reflected about the line passing through the other vertices ```AC```. \n",
    "\n",
    "---- \n",
    "\n",
    "**Test case**\n",
    "\n",
    "```python\n",
    "## Case 1\n",
    "dd = {'A': (1,2), 'B': (-3,4), 'C': (-1,2)}\n",
    "d_new = reflect_triangle(dd, 'B')\n",
    "print(d_new)\n",
    "\n",
    "## Case 2\n",
    "dd = {'A': (3,2), 'B': (0,0.5), 'C': (3,-3)}\n",
    "d_new = reflect_triangle(dd, 'C')\n",
    "print(d_new)\n",
    "```\n",
    "\n",
    "display on the screen\n",
    "```\n",
    "{'A': (1,2), 'B': (-3.0,0.0), 'C': (-1,2)}\n",
    "{'A': (3, 2), 'B': (0, 0.5), 'C': (-1.0, 5.0)}\n",
    "```\n",
    "\n",
    "----\n",
    "Please note that it is also possible for ```'A'``` or ```'C'``` to be passed as the second argument, so do come up with your own test cases. \n",
    "\n",
    "You'll need the following mathematics. \n",
    "\n",
    "1. The equation of the line $ay + bx + c = 0$ passing through $(x_1, y_1)$ and $(x_2, y_2)$ is given by \n",
    "\\begin{eqnarray}\n",
    "\\Delta x &=& x_2 - x_1 \\\\\n",
    "\\Delta y &=& y_2 - y_1 \\\\\n",
    "a &=& \\Delta x \\\\\n",
    "b &=& - \\Delta y \\\\\n",
    "c &=& x_1 \\Delta y - y_1 \\Delta x \n",
    "\\end{eqnarray}<br> \n",
    "Note that the equation of any given line is not unique e.g. $2y - 4 = 0$ and $y - 2 = 0$ are the same line. <br><br>\n",
    "\n",
    "2. The reflection of the point $(p,q)$ about the line $ay + bx + c = 0$ is given by \n",
    "\\begin{eqnarray}\n",
    "p'&=& \\frac{p(a^2 - b^2) - 2b(aq + c)}{a^2 + b^2} \\\\\n",
    "q'&=& \\frac{q(b^2 - a^2) - 2a(bp + c)}{a^2 + b^2} \\\\\n",
    "\\end{eqnarray}\n",
    "[(source)](https://math.stackexchange.com/questions/1013230/how-to-find-coordinates-of-reflected-point)\n",
    "\n",
    "\n",
    "Thus to solve this problem, you need to break the problem into smaller parts, which is the idea of **modularity**. \n",
    "\n",
    "- Write the following functions \n",
    "- test each of them separately to make sure they return the correct value\n",
    "- you can then use these functions in writing ```reflect_triangle()``` to solve the problem.  \n",
    "\n",
    "\n",
    "The separate functions that you have to write are: \n",
    "\n",
    "1. ```def equation_of_line(point1,point2)``` This function takes in two-element tuples ```point1``` and ```point2``` that represents two points in 2D space. <font color=\"blue\"> ```point1``` is a tuple that contains the coordinates $(x_1, y_1)$ and ```point2``` is a tuple that contains the coordinates $(x_2, y_2)$. </font> It returns a three-element tuple whose elements are ```(a, b, c)```, which are the coefficients of the equation of line $ay + bx + c = 0$. <br><br><i>Test case</i>: ```equation_of_line( (1, 2), (-1, 2))``` returns ```(-2, 0, 4)```. <br>Note that this test case is not sufficient. Come up with your own test cases e.g. what points pass through $y - x + 1 =0$? <br><br>\n",
    "\n",
    "\n",
    "2. ```def reflect( point , equation)``` This function takes in ```point``` which is the point to be reflected about the line represented by ```equation``` . ```point``` is a two-element tuple that represents a point in 2D space. ```equation``` is the tuple returned by ```equation_of_line()``` . <br> It returns a 2-element tuple that containts the coordinates of the reflected point. <br> <br> <i>Test case</i>: ```reflect( (-3, 4) , (2, 0, -4) )``` returns ```(-3.0, 0.0)```. <br> Note that this test case is not sufficient. Come up with your own test cases e.g. what is the reflection of $(1,-1)$ about $y - x + 1 =0$? \n"
   ]
  },
  {
   "cell_type": "code",
   "execution_count": null,
   "metadata": {
    "cellIdentifier": "q5gu1me2fgdg5zlsmmetpb"
   },
   "outputs": [],
   "source": [
    "def equation_of_line( point1, point2 ):\n",
    "    ###\n",
    "    ### YOUR CODE HERE\n",
    "    ###\n",
    "    return a,b,c\n",
    "\n",
    "\n",
    "def reflect( point, eqn ):\n",
    "    ###\n",
    "    ### YOUR CODE HERE\n",
    "    ###\n",
    "    pass \n",
    "\n",
    "def reflect_triangle(dd, point):\n",
    "    ###\n",
    "    ### YOUR CODE HERE\n",
    "    ###\n",
    "    pass\n",
    "    \n",
    "    \n",
    "dd = {'A': (1,2), 'B': (-3,4), 'C': (-1,2)}\n",
    "d_new = reflect_triangle(dd, 'B')\n",
    "print(d_new)"
   ]
  },
  {
   "cell_type": "code",
   "execution_count": null,
   "metadata": {
    "cellIdentifier": "zu3gm1gwrpjim2lo4ppygh",
    "deletable": false,
    "editable": false,
    "nbgrader": {
     "grade": true,
     "grade_id": "5.14test1",
     "locked": true,
     "points": "1",
     "solution": false
    }
   },
   "outputs": [],
   "source": [
    "###\n",
    "### AUTOGRADER TEST - DO NOT REMOVE\n",
    "###\n"
   ]
  },
  {
   "cell_type": "code",
   "execution_count": null,
   "metadata": {
    "cellIdentifier": "zccaiopxuad3uz07v1dhnl",
    "deletable": false,
    "editable": false,
    "nbgrader": {
     "grade": true,
     "grade_id": "5.14test2",
     "locked": true,
     "points": "1",
     "solution": false
    }
   },
   "outputs": [],
   "source": [
    "###\n",
    "### AUTOGRADER TEST - DO NOT REMOVE\n",
    "###\n"
   ]
  },
  {
   "cell_type": "code",
   "execution_count": null,
   "metadata": {
    "cellIdentifier": "5xvzekhow5fx52apfby59",
    "deletable": false,
    "editable": false,
    "nbgrader": {
     "grade": true,
     "grade_id": "5.14test3",
     "locked": true,
     "points": "1",
     "solution": false
    }
   },
   "outputs": [],
   "source": [
    "###\n",
    "### AUTOGRADER TEST - DO NOT REMOVE\n",
    "###\n"
   ]
  },
  {
   "cell_type": "code",
   "execution_count": null,
   "metadata": {
    "cellIdentifier": "553zre0uvfkbkfug19z9ag",
    "deletable": false,
    "editable": false,
    "nbgrader": {
     "grade": true,
     "grade_id": "5.14test4",
     "locked": true,
     "points": "1",
     "solution": false
    }
   },
   "outputs": [],
   "source": [
    "###\n",
    "### AUTOGRADER TEST - DO NOT REMOVE\n",
    "###\n"
   ]
  },
  {
   "cell_type": "code",
   "execution_count": null,
   "metadata": {
    "cellIdentifier": "x0mbrfbrh69p48ig6mmct",
    "deletable": false,
    "editable": false,
    "nbgrader": {
     "grade": true,
     "grade_id": "5.14test5",
     "locked": true,
     "points": "1",
     "solution": false
    }
   },
   "outputs": [],
   "source": [
    "###\n",
    "### AUTOGRADER TEST - DO NOT REMOVE\n",
    "###\n"
   ]
  },
  {
   "cell_type": "code",
   "execution_count": null,
   "metadata": {
    "cellIdentifier": "guqw2i2pn4uoz608mtfji",
    "deletable": false,
    "editable": false,
    "nbgrader": {
     "grade": true,
     "grade_id": "5.14test6",
     "locked": true,
     "points": "1",
     "solution": false
    }
   },
   "outputs": [],
   "source": [
    "###\n",
    "### AUTOGRADER TEST - DO NOT REMOVE\n",
    "###\n"
   ]
  },
  {
   "cell_type": "code",
   "execution_count": null,
   "metadata": {
    "cellIdentifier": "yxyl8uet9xczr2o3h0w2x",
    "deletable": false,
    "editable": false,
    "nbgrader": {
     "grade": true,
     "grade_id": "5.14test7",
     "locked": true,
     "points": "1",
     "solution": false
    }
   },
   "outputs": [],
   "source": [
    "###\n",
    "### AUTOGRADER TEST - DO NOT REMOVE\n",
    "###\n"
   ]
  },
  {
   "cell_type": "code",
   "execution_count": null,
   "metadata": {
    "cellIdentifier": "8n7lcoby203rqyy1124ycn",
    "deletable": false,
    "editable": false,
    "nbgrader": {
     "grade": true,
     "grade_id": "5.14test8",
     "locked": true,
     "points": "1",
     "solution": false
    }
   },
   "outputs": [],
   "source": [
    "###\n",
    "### AUTOGRADER TEST - DO NOT REMOVE\n",
    "###\n"
   ]
  },
  {
   "cell_type": "code",
   "execution_count": null,
   "metadata": {
    "cellIdentifier": "uk3zhlyaqap4964hthuyil",
    "deletable": false,
    "editable": false,
    "nbgrader": {
     "grade": true,
     "grade_id": "5.14test9",
     "locked": true,
     "points": "1",
     "solution": false
    }
   },
   "outputs": [],
   "source": [
    "###\n",
    "### AUTOGRADER TEST - DO NOT REMOVE\n",
    "###\n"
   ]
  }
 ],
 "metadata": {
  "colab": {
   "name": "Lesson 5.ipynb",
   "provenance": []
  },
  "kernelspec": {
   "display_name": "Python 3 [3.10]",
   "language": "python",
   "name": "python3"
  },
  "language_info": {
   "codemirror_mode": {
    "name": "ipython",
    "version": 3
   },
   "file_extension": ".py",
   "mimetype": "text/x-python",
   "name": "python",
   "nbconvert_exporter": "python",
   "pygments_lexer": "ipython3",
   "version": "3.10.2"
  }
 },
 "nbformat": 4,
 "nbformat_minor": 4
}
