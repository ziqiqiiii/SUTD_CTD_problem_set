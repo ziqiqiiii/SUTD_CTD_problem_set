{
 "cells": [
  {
   "cell_type": "markdown",
   "metadata": {
    "cellIdentifier": "ys8u18otbrfimd37r5ug5k",
    "deletable": false,
    "editable": false,
    "nbgrader": {
     "grade": false,
     "locked": true,
     "solution": false
    }
   },
   "source": [
    "### 10.014 Computational Thinking For Design, Fall 2024\n",
    "\n",
    "## Problem Set 3B (Lists)\n",
    "\n",
    "© Singapore University of Technology and Design, 2024    "
   ]
  },
  {
   "cell_type": "markdown",
   "metadata": {
    "cellIdentifier": "83vk6i37jaorpy3ldgfv9",
    "colab_type": "text",
    "deletable": false,
    "editable": false,
    "id": "fkbEtKsdkGWe",
    "nbgrader": {
     "grade": false,
     "locked": true,
     "solution": false
    }
   },
   "source": [
    "### Problem 3.10a ```middle_list(ls)```\n"
   ]
  },
  {
   "cell_type": "markdown",
   "metadata": {
    "cellIdentifier": "s9d2qzlxytbkmbsltaz45t",
    "colab_type": "text",
    "deletable": false,
    "editable": false,
    "id": "blZEtkzQQ-6J",
    "nbgrader": {
     "grade": false,
     "locked": true,
     "solution": false
    }
   },
   "source": [
    "This function takes in a list ```ls```. \n",
    "\n",
    "You can assume that ```ls``` will have at least two elements. \n",
    "\n",
    "It returns a new list containing all but the first and last elements of ```ls```. \n",
    "\n",
    "Use list slicing in this question.\n",
    "\n",
    "```python \n",
    "a = middle_list([1,9])\n",
    "print(a)\n",
    "a = middle_list( [1,9,4] )\n",
    "print(a)\n",
    "```\n",
    "\n",
    "```python\n",
    "[]\n",
    "[9]\n",
    "```\n"
   ]
  },
  {
   "cell_type": "markdown",
   "metadata": {
    "cellIdentifier": "7n2kd3kgxctzbgqess85e",
    "deletable": false,
    "editable": false,
    "nbgrader": {
     "grade": false,
     "locked": true,
     "solution": false
    }
   },
   "source": [
    "#### Your solution here: "
   ]
  },
  {
   "cell_type": "code",
   "execution_count": 1,
   "metadata": {
    "cellIdentifier": "ie6czg93he7m8pbur0b95"
   },
   "outputs": [],
   "source": [
    "def middle_list(ls):\n",
    "    return(ls[1:-1])"
   ]
  },
  {
   "cell_type": "code",
   "execution_count": 2,
   "metadata": {
    "cellIdentifier": "2d98r0mq9jogwont0w8b2",
    "deletable": false,
    "editable": false,
    "nbgrader": {
     "grade": true,
     "grade_id": "3.10atest1",
     "locked": true,
     "points": "1",
     "solution": false
    }
   },
   "outputs": [],
   "source": [
    "###\n",
    "### AUTOGRADER TEST - DO NOT REMOVE\n",
    "###\n"
   ]
  },
  {
   "cell_type": "code",
   "execution_count": 3,
   "metadata": {
    "cellIdentifier": "akhy7ot2ygn2usch7ixwvf",
    "deletable": false,
    "editable": false,
    "nbgrader": {
     "grade": true,
     "grade_id": "3.10atest2",
     "locked": true,
     "points": "1",
     "solution": false
    }
   },
   "outputs": [],
   "source": [
    "###\n",
    "### AUTOGRADER TEST - DO NOT REMOVE\n",
    "###\n"
   ]
  },
  {
   "cell_type": "code",
   "execution_count": 4,
   "metadata": {
    "cellIdentifier": "trlti951lzntp3njvrh9i8",
    "deletable": false,
    "editable": false,
    "nbgrader": {
     "grade": true,
     "grade_id": "3.10atest3",
     "locked": true,
     "points": "1",
     "solution": false
    }
   },
   "outputs": [],
   "source": [
    "###\n",
    "### AUTOGRADER TEST - DO NOT REMOVE\n",
    "###\n"
   ]
  },
  {
   "cell_type": "markdown",
   "metadata": {
    "cellIdentifier": "lg8lq09h7x8yjmfsd5nse",
    "deletable": false,
    "editable": false,
    "nbgrader": {
     "grade": false,
     "locked": true,
     "solution": false
    }
   },
   "source": [
    "### Problem 3.10b ```is_sum_greater(ls, n)```"
   ]
  },
  {
   "cell_type": "markdown",
   "metadata": {
    "cellIdentifier": "nrzg64vyzr94dercd698qj",
    "deletable": false,
    "editable": false,
    "nbgrader": {
     "grade": false,
     "locked": true,
     "solution": false
    }
   },
   "source": [
    "This function takes in a list ```ls```, which you can assume to contain only numerical elements i.e. ```int``` or ```float```. \n",
    "\n",
    "```n``` is a variable which you can assume to be an ```int```. \n",
    "\n",
    "It returns ```True``` if the sum of the elements of ```ls``` is greater than ```n```, and ```False``` otherwise. \n",
    "\n",
    "\n",
    "Notes: \n",
    "* You can use the built-in function ```sum()```. \n",
    "* Consider if it is necessary for you to use if/else statements\n",
    "\n",
    "\n",
    "```python\n",
    "ls = [10, 20.0, 35 ] \n",
    "print( is_sum_greater( ls, 60) )\n",
    "print( is_sum_greater( ls, 80) )\n",
    "```\n",
    "\n",
    "displays \n",
    "```python\n",
    "True\n",
    "False\n",
    "```\n"
   ]
  },
  {
   "cell_type": "code",
   "execution_count": 5,
   "metadata": {
    "cellIdentifier": "hkpz0x2chivy40oqsa7g8i"
   },
   "outputs": [],
   "source": [
    "def is_sum_greater(ls, n):\n",
    "    total = 0\n",
    "    for i in (ls):\n",
    "        total += i\n",
    "    return(total>n)"
   ]
  },
  {
   "cell_type": "code",
   "execution_count": 6,
   "metadata": {
    "cellIdentifier": "0i1roz94pys4c3kaltvnyrf",
    "deletable": false,
    "editable": false,
    "nbgrader": {
     "grade": true,
     "grade_id": "3.10btest1",
     "locked": true,
     "points": "1",
     "solution": false
    }
   },
   "outputs": [],
   "source": [
    "###\n",
    "### AUTOGRADER TEST - DO NOT REMOVE\n",
    "###\n"
   ]
  },
  {
   "cell_type": "code",
   "execution_count": 7,
   "metadata": {
    "cellIdentifier": "kr6hq9dozpew5n9zo507x8",
    "deletable": false,
    "editable": false,
    "nbgrader": {
     "grade": true,
     "grade_id": "3.10btest2",
     "locked": true,
     "points": "1",
     "solution": false
    }
   },
   "outputs": [],
   "source": [
    "###\n",
    "### AUTOGRADER TEST - DO NOT REMOVE\n",
    "###\n"
   ]
  },
  {
   "cell_type": "markdown",
   "metadata": {
    "cellIdentifier": "y8o24nyfwyq98e2xldioc",
    "deletable": false,
    "editable": false,
    "nbgrader": {
     "grade": false,
     "locked": true,
     "solution": false
    }
   },
   "source": [
    "### Problem 3.11a ```is_index_valid(ls, index)```"
   ]
  },
  {
   "cell_type": "markdown",
   "metadata": {
    "cellIdentifier": "jfyv7ho2l3bncxb441c58",
    "deletable": false,
    "editable": false,
    "nbgrader": {
     "grade": false,
     "locked": true,
     "solution": false
    }
   },
   "source": [
    "This function takes in a list ```ls``` of at least one element and an integer value ```index```.\n",
    "\n",
    "It returns ```True``` if ```index``` is a valid index of ```ls``` , and ```False``` otherwise. \n",
    "\n",
    "Remember that list indices can be negative. \n",
    "\n",
    "---\n",
    "**Algorithm**\n",
    "\n",
    "1. ```max_pos_index``` is the largest positive index for ```ls```. \n",
    "\n",
    "2. ```min_neg_index``` is the most negative index for ```ls```. \n",
    "\n",
    "3.  Think of a suitable set of if/else statements such that this returns ```True``` if ```index``` is a valid index of ```ls``` , and ```False``` otherwise. \n",
    "\n",
    "---\n",
    "\n",
    "\n",
    "\n",
    "```python\n",
    "ls = [1, 2, 3] \n",
    "print( is_valid_index( ls, 3) )\n",
    "print( is_valid_index( ls, 2) )\n",
    "print( is_valid_index( ls, -3) )\n",
    "print( is_valid_index( ls, -4) )\n",
    "```\n",
    "displays\n",
    "\n",
    "```python\n",
    "False\n",
    "True\n",
    "True \n",
    "False\n",
    "```"
   ]
  },
  {
   "cell_type": "code",
   "execution_count": 8,
   "metadata": {
    "cellIdentifier": "1hnb6k4ttcmjaxu0p0o9elt"
   },
   "outputs": [],
   "source": [
    "def is_valid_index( ls, index):\n",
    "    max_pos_index = len(ls) - 1 #actual maximum number of positive indexes (start counting from 0)\n",
    "    max_neg_index = - len(ls) #actual maximum number of negative indexes (start counting from -1)\n",
    "    return (index in range (max_neg_index, max_pos_index + 1)) #add back 1 for maximum positive because range iterates until n-1, cuts before hitting max number"
   ]
  },
  {
   "cell_type": "code",
   "execution_count": 9,
   "metadata": {
    "cellIdentifier": "ckyhiwikeysbxrguhrm16m",
    "deletable": false,
    "editable": false,
    "nbgrader": {
     "grade": true,
     "grade_id": "3.11atest1",
     "locked": true,
     "points": "1",
     "solution": false
    }
   },
   "outputs": [],
   "source": [
    "###\n",
    "### AUTOGRADER TEST - DO NOT REMOVE\n",
    "###\n"
   ]
  },
  {
   "cell_type": "code",
   "execution_count": 10,
   "metadata": {
    "cellIdentifier": "uc5ymbdgi6n3xxwku0hz",
    "deletable": false,
    "editable": false,
    "nbgrader": {
     "grade": true,
     "grade_id": "3.11atest2",
     "locked": true,
     "points": "1",
     "solution": false
    }
   },
   "outputs": [],
   "source": [
    "###\n",
    "### AUTOGRADER TEST - DO NOT REMOVE\n",
    "###\n"
   ]
  },
  {
   "cell_type": "code",
   "execution_count": 11,
   "metadata": {
    "cellIdentifier": "ni4l6ahvkcd1ickngdb27b",
    "deletable": false,
    "editable": false,
    "nbgrader": {
     "grade": true,
     "grade_id": "3.11atest3",
     "locked": true,
     "points": "1",
     "solution": false
    }
   },
   "outputs": [],
   "source": [
    "###\n",
    "### AUTOGRADER TEST - DO NOT REMOVE\n",
    "###\n"
   ]
  },
  {
   "cell_type": "markdown",
   "metadata": {
    "cellIdentifier": "cgfzhtbiy3ftlaovi22kcg",
    "deletable": false,
    "editable": false,
    "nbgrader": {
     "grade": false,
     "locked": true,
     "solution": false
    }
   },
   "source": [
    "### Problem 3.11b ```swap_elements(ls, index1, index2)```"
   ]
  },
  {
   "cell_type": "markdown",
   "metadata": {
    "cellIdentifier": "xahscp5zcsluh6cfgq5fe",
    "deletable": false,
    "editable": false,
    "nbgrader": {
     "grade": false,
     "locked": true,
     "solution": false
    }
   },
   "source": [
    "This function takes in a list ```ls```.\n",
    "\n",
    "It swaps the list elements at indices ```index1``` and ```index2```.\n",
    "\n",
    "It does not modify the original list, but returns a new list.\n",
    "\n",
    "If ```index1``` or ```index2``` are integers that are outside of the valid indices in the list, return ```None```. Remember that list indices can be negative.   \n",
    "\n",
    "\n",
    "---\n",
    "\n",
    "**What you need to know for this question**\n",
    "\n",
    "1. How do you swap two variables? (Recall the exercise in Lesson 1) \n",
    "2. You can call another function within a function.  \n",
    "\n",
    "----\n",
    "\n",
    "---\n",
    "\n",
    "**Algorithm**\n",
    "\n",
    "1. ```ls_copy``` is a copy of ```ls``` (using slicing). \n",
    "\n",
    "2. If ```index1```is not a valid index, return ```None```. Use the function ```is_valid_index()``` written above for this task. \n",
    "\n",
    "3. Repeat step 2 for ```index2```.\n",
    "\n",
    "4. swap the elements of ```ls_copy``` at ```index1``` and ```index2```. \n",
    "\n",
    "5. return ```ls_copy```.\n",
    "\n",
    "---\n",
    "\n",
    "\n",
    "```python\n",
    "ls = [3, 6, 8, 7]\n",
    "newls1 = swap_elements(ls, 2, 3)\n",
    "print(newls1)\n",
    "print(newls1 is ls)\n",
    "newls2 = swap_elements(ls, -3, -1)\n",
    "print(newls2)\n",
    "result = swap_elements(ls, 3, 4)\n",
    "print(result)\n",
    "```\n",
    "\n",
    "```python\n",
    "[3, 6, 7, 8]\n",
    "False\n",
    "[3, 7, 8, 6]\n",
    "None\n",
    "```\n"
   ]
  },
  {
   "cell_type": "markdown",
   "metadata": {
    "cellIdentifier": "oo6c1hfeuccvdpvq4pv39",
    "deletable": false,
    "editable": false,
    "nbgrader": {
     "grade": false,
     "locked": true,
     "solution": false
    }
   },
   "source": [
    "#### Your solution below: "
   ]
  },
  {
   "cell_type": "code",
   "execution_count": 12,
   "metadata": {
    "cellIdentifier": "hv9wi6zg6vrcol478cv7o6",
    "nbgrader": {
     "grade": false,
     "grade_id": "3.12test1",
     "locked": false,
     "points": "1",
     "solution": false
    }
   },
   "outputs": [],
   "source": [
    "def is_valid_index(ls, index):\n",
    "    max_pos_index = len(ls) - 1 #actual maximum number of positive indexes (start counting from 0)\n",
    "    max_neg_index = - len(ls) #actual maximum number of negative indexes (start counting from -1)\n",
    "    return (index in range (max_neg_index, max_pos_index + 1)) #add back 1 for maximum positive because range iterates until n-1, cuts before hitting max number\n",
    "\n",
    "def swap_elements(ls, index1, index2):\n",
    "    ls_copy = ls.copy()\n",
    "    if not is_valid_index(ls, index1) or not is_valid_index(ls, index2): #shortening code for None validation\n",
    "        return None\n",
    "    ls_copy[index1], ls_copy[index2] = ls_copy[index2], ls_copy[index1] #trying out tuple unpacking rather than remove and insert functions\n",
    "    return ls_copy #edit directly on copy because of the newls1 is ls test case check\n"
   ]
  },
  {
   "cell_type": "code",
   "execution_count": 13,
   "metadata": {
    "cellIdentifier": "uqaaw0zknhk4pk0dcshyu",
    "deletable": false,
    "editable": false,
    "nbgrader": {
     "grade": true,
     "grade_id": "3.11btest1",
     "locked": true,
     "points": "1",
     "solution": false
    }
   },
   "outputs": [],
   "source": [
    "###\n",
    "### AUTOGRADER TEST - DO NOT REMOVE\n",
    "###\n"
   ]
  },
  {
   "cell_type": "code",
   "execution_count": 14,
   "metadata": {
    "cellIdentifier": "t5web5al0xkutraemn8wwg",
    "deletable": false,
    "editable": false,
    "nbgrader": {
     "grade": true,
     "grade_id": "3.11btest2",
     "locked": true,
     "points": "1",
     "solution": false
    }
   },
   "outputs": [],
   "source": [
    "###\n",
    "### AUTOGRADER TEST - DO NOT REMOVE\n",
    "###\n"
   ]
  },
  {
   "cell_type": "code",
   "execution_count": 15,
   "metadata": {
    "cellIdentifier": "rfrt3rc8lglclve64hu",
    "deletable": false,
    "editable": false,
    "nbgrader": {
     "grade": true,
     "grade_id": "3.11btest3",
     "locked": true,
     "points": "1",
     "solution": false
    }
   },
   "outputs": [],
   "source": [
    "###\n",
    "### AUTOGRADER TEST - DO NOT REMOVE\n",
    "###\n"
   ]
  },
  {
   "cell_type": "code",
   "execution_count": 16,
   "metadata": {
    "cellIdentifier": "bgf2g53q4wpxxk68e6nugf",
    "deletable": false,
    "editable": false,
    "nbgrader": {
     "grade": true,
     "grade_id": "3.11btest4",
     "locked": true,
     "points": "1",
     "solution": false
    }
   },
   "outputs": [],
   "source": [
    "###\n",
    "### AUTOGRADER TEST - DO NOT REMOVE\n",
    "###\n"
   ]
  },
  {
   "cell_type": "code",
   "execution_count": 17,
   "metadata": {
    "cellIdentifier": "8hkjdspkhfrz00hu8pbe3",
    "deletable": false,
    "editable": false,
    "nbgrader": {
     "grade": true,
     "grade_id": "3.11btest5",
     "locked": true,
     "points": "1",
     "solution": false
    }
   },
   "outputs": [],
   "source": [
    "###\n",
    "### AUTOGRADER TEST - DO NOT REMOVE\n",
    "###\n"
   ]
  },
  {
   "cell_type": "markdown",
   "metadata": {
    "cellIdentifier": "3g7p501nlc7c6g316u6nie",
    "colab_type": "text",
    "deletable": false,
    "editable": false,
    "id": "KWoyVZjZGbzv",
    "nbgrader": {
     "grade": false,
     "locked": true,
     "solution": false
    }
   },
   "source": [
    "### Problem 3.12 ```median(ls)```"
   ]
  },
  {
   "cell_type": "markdown",
   "metadata": {
    "cellIdentifier": "v84agwiesg825vp59pap0h",
    "colab_type": "text",
    "deletable": false,
    "editable": false,
    "id": "W55M39YQrntO",
    "nbgrader": {
     "grade": false,
     "locked": true,
     "solution": false
    }
   },
   "source": [
    "This function takes a list of integers ```ls``` that is unsorted. \n",
    "\n",
    "You may assume that ```ls``` has at least one element.\n",
    "\n",
    "This list of integers represents the test scores of students in a class. \n",
    "\n",
    "This function returns the median score. \n",
    "\n",
    "Recall that, for a sorted list of test scores: \n",
    "- if there is an odd number of elements,  the median value is the value in the middle.       \n",
    "- if there is an even number of elements, the median value is the average of the two values in the middle.      \n",
    "\n",
    "Recall also\n",
    "* executing the ```sort()``` method on ```ls``` will sort the list. \n",
    "* the division operator returns a float ```4/2``` gives ```2.0```, if you need an int value, you can use the ```int()``` function or the integer division operator ```//```\n",
    "\n",
    "---\n",
    "**Algorithm**\n",
    "\n",
    "Given a list ```ls``` of integers\n",
    "\n",
    "1. sort the elements of ```ls```\n",
    "\n",
    "2. ```n``` is the number of elements in ```ls```\n",
    "\n",
    "3. if ```n``` is odd, \n",
    "\n",
    "   a. the median is the element at ```(n - 1)/2```, else\n",
    "   \n",
    "   b. the median is the average of the elements at ```n/2``` and ```n/2 - 1```\n",
    "--- \n",
    "\n",
    "In the algorithm above, satisfy yourself that steps 3a and 3b will give you the median.\n",
    "\n",
    "Test cases: \n",
    "\n",
    "\n",
    "```python \n",
    "a = median([5, 7, 3, 8, 6])\n",
    "print(a)\n",
    "b = median([5, 7, 3, 8, 6, 9])\n",
    "print(b)\n",
    "```\n",
    "gives \n",
    "\n",
    "```python \n",
    "6\n",
    "6.5\n",
    "```\n",
    "\n",
    "\n",
    "\n"
   ]
  },
  {
   "cell_type": "markdown",
   "metadata": {
    "cellIdentifier": "06cd8gspsahchm18h4rtq05",
    "deletable": false,
    "editable": false,
    "nbgrader": {
     "grade": false,
     "locked": true,
     "solution": false
    }
   },
   "source": [
    "#### Your solution here:\n",
    "Reminder: after writing your solution, don't forget to write code to execute the function and display its output"
   ]
  },
  {
   "cell_type": "code",
   "execution_count": 18,
   "metadata": {
    "cellIdentifier": "iy21s05lw4bmxfz1klxfs"
   },
   "outputs": [],
   "source": [
    "def median(ls):\n",
    "    ls.sort()\n",
    "    n = int(len(ls))\n",
    "    middle = 0\n",
    "    if n % 2 == 0: #even case\n",
    "        middle = (ls[int(n/2)] + ls[int(n/2 -1)])/2\n",
    "        return (middle)\n",
    "    else: #odd case\n",
    "        middle = ls[((n-1)//2)]\n",
    "        return (middle)"
   ]
  },
  {
   "cell_type": "markdown",
   "metadata": {
    "cellIdentifier": "8dzo1vdp589ghg7ukday3r",
    "deletable": false,
    "editable": false,
    "nbgrader": {
     "grade": false,
     "locked": true,
     "solution": false
    }
   },
   "source": [
    "#### Hidden test cases:"
   ]
  },
  {
   "cell_type": "code",
   "execution_count": 19,
   "metadata": {
    "cellIdentifier": "ae4cgvh6u3p7twna34epkx",
    "deletable": false,
    "editable": false,
    "nbgrader": {
     "grade": true,
     "grade_id": "3.12test1",
     "locked": true,
     "points": "1",
     "solution": false
    }
   },
   "outputs": [],
   "source": [
    "###\n",
    "### AUTOGRADER TEST - DO NOT REMOVE\n",
    "###\n"
   ]
  },
  {
   "cell_type": "code",
   "execution_count": 20,
   "metadata": {
    "cellIdentifier": "9xop318rndr3hftygkzpi",
    "deletable": false,
    "editable": false,
    "nbgrader": {
     "grade": true,
     "grade_id": "3.12test2",
     "locked": true,
     "points": "1",
     "solution": false
    }
   },
   "outputs": [],
   "source": [
    "###\n",
    "### AUTOGRADER TEST - DO NOT REMOVE\n",
    "###\n"
   ]
  },
  {
   "cell_type": "code",
   "execution_count": 21,
   "metadata": {
    "cellIdentifier": "xglthombe3cqgo1gdwfatf",
    "deletable": false,
    "editable": false,
    "nbgrader": {
     "grade": true,
     "grade_id": "3.12test3",
     "locked": true,
     "points": "1",
     "solution": false
    }
   },
   "outputs": [],
   "source": [
    "###\n",
    "### AUTOGRADER TEST - DO NOT REMOVE\n",
    "###\n"
   ]
  },
  {
   "cell_type": "markdown",
   "metadata": {
    "cellIdentifier": "mrg9lq77wtaj9hncdt7mc",
    "colab_type": "text",
    "deletable": false,
    "editable": false,
    "id": "fUQeEWNgGuy6",
    "nbgrader": {
     "grade": false,
     "locked": true,
     "solution": false
    }
   },
   "source": [
    "### Problem 3.13 ```sum_odd_numbers(ls)```\n",
    "\n"
   ]
  },
  {
   "cell_type": "markdown",
   "metadata": {
    "cellIdentifier": "c6cdvyytorqirb4mz16evj",
    "colab_type": "text",
    "deletable": false,
    "editable": false,
    "id": "JgXrgK_WksZJ",
    "nbgrader": {
     "grade": false,
     "locked": true,
     "solution": false
    }
   },
   "source": [
    "The function takes in a list ```ls```. \n",
    "\n",
    "```ls``` contains only numeric datatypes. \n",
    "\n",
    "The elements in ```ls``` are not sorted in any order. \n",
    "\n",
    "The function returns the sum of the positive odd numbers in the list.\n",
    "\n",
    "If there are no positive odd numbers in the list, the function returns 0. \n",
    "\n",
    "---\n",
    "\n",
    "**Algorithm**\n",
    "\n",
    "1. initialize ```total``` to 0\n",
    "\n",
    "2. for every element in ```ls```\n",
    "\n",
    "   a. if the element is a positive odd number, add it to ```total```\n",
    "   \n",
    "   b. else, do nothing \n",
    "   \n",
    "3. return ```total```\n",
    "\n",
    "----\n",
    "\n",
    "\n",
    "**Test Cases**\n",
    "```python\n",
    "a = sum_odd_numbers( [1, 2, 3] )\n",
    "print(a)\n",
    "b = sum_odd_numbers( [43, 30, 27, -3] )\n",
    "print(b)\n",
    "```\n",
    "\n",
    "```python\n",
    "4\n",
    "70\n",
    "```\n",
    "\n"
   ]
  },
  {
   "cell_type": "markdown",
   "metadata": {
    "cellIdentifier": "zthlin28xuj045dz9jlza",
    "deletable": false,
    "editable": false,
    "nbgrader": {
     "grade": false,
     "locked": true,
     "solution": false
    }
   },
   "source": [
    "#### Your solution here"
   ]
  },
  {
   "cell_type": "code",
   "execution_count": 22,
   "metadata": {
    "cellIdentifier": "uy8e8hel6xqma09o5x7ztl"
   },
   "outputs": [],
   "source": [
    "def sum_odd_numbers(ls):\n",
    "    # Filter only numeric values from the list\n",
    "    numeric_values = [item for item in ls if isinstance(item, (int, float))]\n",
    "    # Sum only the positive odd numbers\n",
    "    odd_sum = sum(num for num in numeric_values if isinstance(num, int) and num % 2 != 0 and num > 0)\n",
    "    return odd_sum"
   ]
  },
  {
   "cell_type": "markdown",
   "metadata": {
    "cellIdentifier": "91l2pw09tpplztmvrg2j2",
    "deletable": false,
    "editable": false,
    "nbgrader": {
     "grade": false,
     "locked": true,
     "solution": false
    }
   },
   "source": [
    "#### Hidden test cases:"
   ]
  },
  {
   "cell_type": "code",
   "execution_count": 23,
   "metadata": {
    "cellIdentifier": "fym5gtkrhyf45lvvgnncu",
    "deletable": false,
    "editable": false,
    "nbgrader": {
     "grade": true,
     "grade_id": "3.13test1",
     "locked": true,
     "points": "1",
     "solution": false
    }
   },
   "outputs": [],
   "source": [
    "###\n",
    "### AUTOGRADER TEST - DO NOT REMOVE\n",
    "###\n"
   ]
  },
  {
   "cell_type": "code",
   "execution_count": 24,
   "metadata": {
    "cellIdentifier": "a6ah1nxl4kkutjmrk9twd",
    "deletable": false,
    "editable": false,
    "nbgrader": {
     "grade": true,
     "grade_id": "3.13test2",
     "locked": true,
     "points": "1",
     "solution": false
    }
   },
   "outputs": [],
   "source": [
    "###\n",
    "### AUTOGRADER TEST - DO NOT REMOVE\n",
    "###\n"
   ]
  },
  {
   "cell_type": "markdown",
   "metadata": {
    "cellIdentifier": "ufa3glsicig5v876vlt98",
    "colab_type": "text",
    "deletable": false,
    "editable": false,
    "id": "mpPPwbsAGOZ6",
    "nbgrader": {
     "grade": false,
     "locked": true,
     "solution": false
    }
   },
   "source": [
    "### Problem 3.14 ```hailstone(n)```"
   ]
  },
  {
   "cell_type": "markdown",
   "metadata": {
    "cellIdentifier": "dr1dq2neh6957n7yz3vze8",
    "colab_type": "text",
    "deletable": false,
    "editable": false,
    "id": "355Khxv1_JOh",
    "nbgrader": {
     "grade": false,
     "locked": true,
     "solution": false
    }
   },
   "source": [
    "This function takes in the value of ```n```, which is a positive integer. \n",
    "\n",
    "It returns a list containing the values in the hailstone sequence. \n",
    "\n",
    "The algorithm for the hailstone sequence is as follows. \n",
    "\n",
    "---\n",
    "> #### Algorithm \n",
    ">\n",
    ">\n",
    "> 1. While $n$ is an integer larger than 1,      \n",
    ">\n",
    ">    a. if ```n``` is even, assign the result of ```n/2``` to ```n```.\n",
    ">    \n",
    ">    b. if ```n``` is odd, assign the result of ```3n + 1``` to ```n```.  \n",
    "\n",
    "---\n",
    "\n",
    "So suppose you choose $n = 4$. Then:\n",
    "- The while condition at step 1. is ```true```\n",
    "- By applying step 1a., the value of n is updated to 2. \n",
    "- The while condition at 1. is ```true``` again. \n",
    "- By applying step 1a, the value of n is updated to 1. \n",
    "- The while condition at step 1. now is ```false```. \n",
    "\n",
    "The hailstone sequence thus ends. You just need to return the list that contains the values. \n",
    "\n",
    "The following are two test cases. \n",
    "\n",
    "```python\n",
    "sequence = hailstone(4)\n",
    "print(sequence)\n",
    "sequence = hailstone(5)\n",
    "print(sequence)\n",
    "```\n",
    "\n",
    "```\n",
    "[4, 2, 1]\n",
    "[5, 16, 8, 4 , 2, 1]\n",
    "```\n",
    "\n",
    "\n",
    "To this day, it has not been proved that this algorithm will terminate given any positiven integer input. This problem is known as the Collatz conjecture. "
   ]
  },
  {
   "cell_type": "markdown",
   "metadata": {
    "cellIdentifier": "5pyyk3w0lllpnv3ib6a59",
    "deletable": false,
    "editable": false,
    "nbgrader": {
     "grade": false,
     "locked": true,
     "solution": false
    }
   },
   "source": [
    "#### Your solution here: "
   ]
  },
  {
   "cell_type": "code",
   "execution_count": 25,
   "metadata": {
    "cellIdentifier": "tbvxaoc4stpz51tasrnaz"
   },
   "outputs": [],
   "source": [
    "def hailstone(n):\n",
    "    ls = [n]\n",
    "    while (n > 1):\n",
    "        if (n % 2 == 0):\n",
    "            n = n/2\n",
    "        else:\n",
    "            n = 3*n+1\n",
    "        ls.append(int(n))\n",
    "    return ls"
   ]
  },
  {
   "cell_type": "code",
   "execution_count": 26,
   "metadata": {
    "cellIdentifier": "umagfqvbzhk25r6oyzrunq",
    "deletable": false,
    "editable": false,
    "nbgrader": {
     "grade": true,
     "grade_id": "3.14test1",
     "locked": true,
     "points": "1",
     "solution": false
    }
   },
   "outputs": [],
   "source": [
    "###\n",
    "### AUTOGRADER TEST - DO NOT REMOVE\n",
    "###\n"
   ]
  },
  {
   "cell_type": "code",
   "execution_count": 27,
   "metadata": {
    "cellIdentifier": "xjwb9fz93zsqllcevnwpxk",
    "deletable": false,
    "editable": false,
    "nbgrader": {
     "grade": true,
     "grade_id": "3.14test2",
     "locked": true,
     "points": "1",
     "solution": false
    }
   },
   "outputs": [],
   "source": [
    "###\n",
    "### AUTOGRADER TEST - DO NOT REMOVE\n",
    "###\n"
   ]
  },
  {
   "cell_type": "code",
   "execution_count": 28,
   "metadata": {
    "cellIdentifier": "wy5p6psorlcw1gieh9p9g",
    "deletable": false,
    "editable": false,
    "nbgrader": {
     "grade": true,
     "grade_id": "3.14test3",
     "locked": true,
     "points": "1",
     "solution": false
    }
   },
   "outputs": [],
   "source": [
    "###\n",
    "### AUTOGRADER TEST - DO NOT REMOVE\n",
    "###\n"
   ]
  },
  {
   "cell_type": "markdown",
   "metadata": {
    "cellIdentifier": "a8il9k6mfcfobqd8diiyok",
    "colab_type": "text",
    "deletable": false,
    "editable": false,
    "id": "ZsayV4Ga6JoB",
    "nbgrader": {
     "grade": false,
     "locked": true,
     "solution": false
    }
   },
   "source": [
    "### Problem 3.15 ```get_odd_numbers(ls)```"
   ]
  },
  {
   "cell_type": "markdown",
   "metadata": {
    "cellIdentifier": "wzw26ngziqrflzfi0ppwhs",
    "colab_type": "text",
    "deletable": false,
    "editable": false,
    "id": "Hb69TTQAloAk",
    "nbgrader": {
     "grade": false,
     "locked": true,
     "solution": false
    }
   },
   "source": [
    "\n",
    "The function takes in a list ```ls```. \n",
    "\n",
    "```ls``` contains only numeric datatypes. \n",
    "\n",
    "The elements in ```ls``` are not sorted in any order. \n",
    "\n",
    "The function returns a new list containing only the odd numbers in ```ls```, sorted from smallest to largest.  \n",
    "\n",
    "If ```ls``` does not have any odd numbers, an empty list is returned.\n",
    "\n",
    "\n",
    "```python\n",
    "a = get_odd_numbers( [3, 2, 1] )\n",
    "print(a)\n",
    "b = get_odd_numbers( [43, 30, 27, -3] )\n",
    "print(b)\n",
    "```\n",
    "\n",
    "```python\n",
    "[1, 3]\n",
    "[-3, 27, 43]\n",
    "```\n",
    "\n"
   ]
  },
  {
   "cell_type": "markdown",
   "metadata": {
    "cellIdentifier": "q4tuomhr06y0j5ricu7uo",
    "deletable": false,
    "editable": false,
    "nbgrader": {
     "grade": false,
     "locked": true,
     "solution": false
    }
   },
   "source": [
    "#### your solution here"
   ]
  },
  {
   "cell_type": "code",
   "execution_count": 29,
   "metadata": {
    "cellIdentifier": "snnlpboapfp95slysj3ynk"
   },
   "outputs": [],
   "source": [
    "def get_odd_numbers(ls):\n",
    "        odd_values = [item for item in ls if isinstance(item, (int, float)) and (item % 2 != 0)]\n",
    "        odd_values.sort()\n",
    "        return odd_values"
   ]
  },
  {
   "cell_type": "code",
   "execution_count": 30,
   "metadata": {
    "cellIdentifier": "ievl5ifcscnzbffbsl6rop",
    "deletable": false,
    "editable": false,
    "nbgrader": {
     "grade": true,
     "grade_id": "3.15test1",
     "locked": true,
     "points": "1",
     "solution": false
    }
   },
   "outputs": [],
   "source": [
    "###\n",
    "### AUTOGRADER TEST - DO NOT REMOVE\n",
    "###\n"
   ]
  },
  {
   "cell_type": "code",
   "execution_count": 31,
   "metadata": {
    "cellIdentifier": "z81mfur73irdmp556skhv7",
    "deletable": false,
    "editable": false,
    "nbgrader": {
     "grade": true,
     "grade_id": "3.15test2",
     "locked": true,
     "points": "1",
     "solution": false
    }
   },
   "outputs": [],
   "source": [
    "###\n",
    "### AUTOGRADER TEST - DO NOT REMOVE\n",
    "###\n"
   ]
  },
  {
   "cell_type": "code",
   "execution_count": 32,
   "metadata": {
    "cellIdentifier": "1ymu5zva5n8zisfk1wtpio",
    "deletable": false,
    "editable": false,
    "nbgrader": {
     "grade": true,
     "grade_id": "3.15test3",
     "locked": true,
     "points": "1",
     "solution": false
    }
   },
   "outputs": [],
   "source": [
    "###\n",
    "### AUTOGRADER TEST - DO NOT REMOVE\n",
    "###\n"
   ]
  },
  {
   "cell_type": "code",
   "execution_count": 33,
   "metadata": {
    "cellIdentifier": "mzx67iny26htbcmgi9e5nd",
    "deletable": false,
    "editable": false,
    "nbgrader": {
     "grade": true,
     "grade_id": "3.15test4",
     "locked": true,
     "points": "1",
     "solution": false
    }
   },
   "outputs": [],
   "source": [
    "###\n",
    "### AUTOGRADER TEST - DO NOT REMOVE\n",
    "###\n"
   ]
  },
  {
   "cell_type": "markdown",
   "metadata": {
    "cellIdentifier": "l5q6m8nse1t39qws0rjm18",
    "deletable": false,
    "editable": false,
    "nbgrader": {
     "grade": false,
     "locked": true,
     "solution": false
    }
   },
   "source": [
    "### Problem 3.16 ```moving_average(ls)```"
   ]
  },
  {
   "cell_type": "markdown",
   "metadata": {
    "cellIdentifier": "eek1kil3kycwz7fhtfmic",
    "deletable": false,
    "editable": false,
    "nbgrader": {
     "grade": false,
     "locked": true,
     "solution": false
    }
   },
   "source": [
    "This function takes in a list ```ls``` containing daily sales data for a shop. \n",
    "\n",
    "You can assume that ```ls``` has at least 3 elements. \n",
    "\n",
    "This function returns a list that contains the 3-day moving average. The elements in the list are rounded to one decimal place. \n",
    "\n",
    "The 3-day moving average on day 2 is the average of the sales on days 0 - 2, the 3-day moving average on day 3 is the average of the sales on days 1 - 3 and so on. \n",
    "\n",
    "Of course, the 3-day moving average cannot be calculated for day 0 and day 1. \n",
    "\n",
    "```python\n",
    "data = [30.0, 20.0, 40.0, 50.0, 25.0, 70.0]\n",
    "ma = moving_average(data)\n",
    "print(ma)\n",
    "```\n",
    "gives\n",
    "```python\n",
    "[30.0, 36.7, 38.3, 48.3]\n",
    "```\n",
    "\n",
    "---\n",
    "> #### HINT\n",
    ">\n",
    "> The built-in function ```sum()``` will be useful. \n",
    ">\n",
    "\n",
    "---\n"
   ]
  },
  {
   "cell_type": "code",
   "execution_count": 34,
   "metadata": {
    "cellIdentifier": "kszhfrkogqq1wc16d3jiop",
    "nbgrader": {
     "grade": false,
     "grade_id": "3.16test1",
     "locked": false,
     "points": "1",
     "solution": false
    }
   },
   "outputs": [],
   "source": [
    "def moving_average(ls):\n",
    "    newls = []\n",
    "    for i in range(len(ls)-2):\n",
    "        subset = ((ls[i]) + (ls[i+1]) + (ls[i+2]))/3\n",
    "        newls.append(round(subset,1))    \n",
    "    return newls\n"
   ]
  },
  {
   "cell_type": "code",
   "execution_count": 35,
   "metadata": {
    "cellIdentifier": "lwgy4twtgcoe3szyavcn9",
    "deletable": false,
    "editable": false,
    "nbgrader": {
     "grade": true,
     "grade_id": "3.16test1",
     "locked": true,
     "points": "1",
     "solution": false
    }
   },
   "outputs": [],
   "source": [
    "###\n",
    "### AUTOGRADER TEST - DO NOT REMOVE\n",
    "###\n"
   ]
  },
  {
   "cell_type": "code",
   "execution_count": 36,
   "metadata": {
    "cellIdentifier": "xa4nb5owd6c3w2170z0k1c",
    "deletable": false,
    "editable": false,
    "nbgrader": {
     "grade": true,
     "grade_id": "3.16test2",
     "locked": true,
     "points": "1",
     "solution": false
    }
   },
   "outputs": [],
   "source": [
    "###\n",
    "### AUTOGRADER TEST - DO NOT REMOVE\n",
    "###\n"
   ]
  },
  {
   "cell_type": "markdown",
   "metadata": {
    "cellIdentifier": "88hnjrj65uhhucmf0ha12",
    "colab_type": "text",
    "deletable": false,
    "editable": false,
    "id": "-qq2gzW46u1h",
    "nbgrader": {
     "grade": false,
     "locked": true,
     "solution": false
    }
   },
   "source": [
    "### Problem 3.17 ```trapezoidal_rule( f , dx)```"
   ]
  },
  {
   "cell_type": "markdown",
   "metadata": {
    "cellIdentifier": "ofwlkcw3ppjyf7dm1gy7kt",
    "colab_type": "text",
    "deletable": false,
    "editable": false,
    "id": "4FpEd6wutVL4",
    "nbgrader": {
     "grade": false,
     "locked": true,
     "solution": false
    }
   },
   "source": [
    "This function implements the trapezoidal rule, which is \n",
    "\n",
    "\\begin{equation}\n",
    "A = \\frac{1}{2} \\Delta x \\left[ y_0 + 2y_1 + 2y_2 + \\ldots + 2y_{n-1} + y_n  \\right] \n",
    "\\end{equation}\n",
    "\n",
    "```f``` is a list containing the y-values, which can be assumed to be generated by x-values uniformly spaced apart. \n",
    "\n",
    "```dx``` is the interval between the x-values. \n",
    "\n",
    "There is no need to round the returned value. \n",
    "\n",
    "If ```f``` contains one element or less, return 0 (since there is no area under the graph). \n",
    "\n",
    "You may assume that ```f``` and ```dx``` contain only numeric data.\n",
    "\n",
    "Only one test case is provided below. You should come up with your own test case e.g. where ```f``` is a list of float values. \n",
    "\n",
    "\n",
    "Test Case: \n",
    "\n",
    "```python\n",
    "f = [ 3, 7, 11, 9 , 3 ]\n",
    "dx = 2\n",
    "area = trapezoidal_rule(f , dx)\n",
    "print(area)\n",
    "```\n",
    "\n",
    "Output: \n",
    "\n",
    "```\n",
    "60\n",
    "```\n"
   ]
  },
  {
   "cell_type": "markdown",
   "metadata": {
    "cellIdentifier": "nusv4fe3e1lwufsqukm3bh",
    "deletable": false,
    "editable": false,
    "nbgrader": {
     "grade": false,
     "locked": true,
     "solution": false
    }
   },
   "source": [
    "#### Your solution here: "
   ]
  },
  {
   "cell_type": "code",
   "execution_count": 37,
   "metadata": {
    "cellIdentifier": "3z9vat08stze7gtqmhuxm",
    "nbgrader": {
     "grade": false,
     "grade_id": "3.17test1",
     "locked": false,
     "points": "1",
     "solution": false
    }
   },
   "outputs": [],
   "source": [
    "def trapezoidal_rule(f, dx):\n",
    "    if len(f) <= 1:\n",
    "        return 0\n",
    "    elif len(f) == 2:\n",
    "        totaly = f[0] +f[-1] \n",
    "    else:\n",
    "        totaly = f[0] + f[-1]\n",
    "        for i in f[1:-1]:\n",
    "            totaly += 2*i\n",
    "    value = 0.5 * dx * totaly\n",
    "    return float(value)"
   ]
  },
  {
   "cell_type": "code",
   "execution_count": 38,
   "metadata": {
    "cellIdentifier": "2jon3ns5ly2uloy41i12v",
    "deletable": false,
    "editable": false,
    "nbgrader": {
     "grade": true,
     "grade_id": "3.17test1",
     "locked": true,
     "points": "1",
     "solution": false
    }
   },
   "outputs": [],
   "source": [
    "###\n",
    "### AUTOGRADER TEST - DO NOT REMOVE\n",
    "###\n"
   ]
  },
  {
   "cell_type": "code",
   "execution_count": 39,
   "metadata": {
    "cellIdentifier": "u5fb0q42pccv2j0jrw9ff",
    "deletable": false,
    "editable": false,
    "nbgrader": {
     "grade": true,
     "grade_id": "3.17test2",
     "locked": true,
     "points": "1",
     "solution": false
    }
   },
   "outputs": [],
   "source": [
    "###\n",
    "### AUTOGRADER TEST - DO NOT REMOVE\n",
    "###\n"
   ]
  },
  {
   "cell_type": "code",
   "execution_count": 40,
   "metadata": {
    "cellIdentifier": "3hfirdp95ftobg45cl1vk9",
    "deletable": false,
    "editable": false,
    "nbgrader": {
     "grade": true,
     "grade_id": "3.17test3",
     "locked": true,
     "points": "1",
     "solution": false
    }
   },
   "outputs": [],
   "source": [
    "###\n",
    "### AUTOGRADER TEST - DO NOT REMOVE\n",
    "###\n"
   ]
  },
  {
   "cell_type": "code",
   "execution_count": 41,
   "metadata": {
    "cellIdentifier": "oclyzhj55v1zc637l6kwy",
    "deletable": false,
    "editable": false,
    "nbgrader": {
     "grade": true,
     "grade_id": "3.17test4",
     "locked": true,
     "points": "1",
     "solution": false
    }
   },
   "outputs": [],
   "source": [
    "###\n",
    "### AUTOGRADER TEST - DO NOT REMOVE\n",
    "###\n"
   ]
  },
  {
   "cell_type": "markdown",
   "metadata": {
    "cellIdentifier": "k3snmn43guxm995kdpr9g",
    "colab_type": "text",
    "deletable": false,
    "editable": false,
    "id": "3ot1V7ck65UH",
    "nbgrader": {
     "grade": false,
     "locked": true,
     "solution": false
    }
   },
   "source": [
    "### Problem 3.18  ```left_riemann_sum(x,y)```"
   ]
  },
  {
   "cell_type": "markdown",
   "metadata": {
    "cellIdentifier": "4qceg439belleqfgz7yiq",
    "colab_type": "text",
    "deletable": false,
    "editable": false,
    "id": "hwjF46rw8t8B",
    "nbgrader": {
     "grade": false,
     "locked": true,
     "solution": false
    }
   },
   "source": [
    "This function takes two lists that describes a mathematical function $f$. \n",
    "\n",
    "```x``` is a list of x-values (i.e. the domain of $f$).\n",
    "\n",
    "```y``` is a list of corresponding y-values (i.e. the range of $f$). \n",
    "\n",
    "You may assume that both ```x``` and ```y``` have the same length and contain only numeric datatypes.\n",
    "\n",
    "This function returns the **left Riemann sum** of the area under the graph. \n",
    "\n",
    "It is not necessary to round the return value. \n",
    "\n",
    "If ```x``` and ```y``` each have one element or less, then return 0. \n",
    "\n",
    "```python\n",
    "x = [0, 2, 3, 5, 6]\n",
    "y = [1, 1.5, 1.7, 1.9, 2.0]\n",
    "s = left_riemann_sum(x,y)\n",
    "print(s)\n",
    "```\n",
    "\n",
    "```\n",
    "8.8\n",
    "```\n",
    "\n",
    "\n"
   ]
  },
  {
   "cell_type": "markdown",
   "metadata": {
    "cellIdentifier": "5vuze8gvb96vad62qhtvg",
    "deletable": false,
    "editable": false,
    "nbgrader": {
     "grade": false,
     "locked": true,
     "solution": false
    }
   },
   "source": [
    "#### Your solution here:"
   ]
  },
  {
   "cell_type": "code",
   "execution_count": null,
   "metadata": {
    "cellIdentifier": "3c9e0079xzhpttggdempb8",
    "nbgrader": {
     "grade": false,
     "grade_id": "3.18test1",
     "locked": false,
     "points": "1",
     "solution": false
    }
   },
   "outputs": [],
   "source": [
    "def left_riemann_sum(x,y):\n",
    "    if len(x) < 1 or len(y) < 1:\n",
    "        return 0\n",
    "    elif len(x) != len(y):\n",
    "        return None\n",
    "    else:\n",
    "        tarea = 0\n",
    "        for i in range(len(y)-1): #works because range of x and y assumed to be the same\n",
    "            tarea += y[i] * (x[i+1] - x[i])\n",
    "        return tarea"
   ]
  },
  {
   "cell_type": "code",
   "execution_count": 43,
   "metadata": {
    "cellIdentifier": "hirgdjng2o8g1irq2e2qtp",
    "deletable": false,
    "editable": false,
    "nbgrader": {
     "grade": true,
     "grade_id": "3.18test1",
     "locked": true,
     "points": "1",
     "solution": false
    }
   },
   "outputs": [],
   "source": [
    "###\n",
    "### AUTOGRADER TEST - DO NOT REMOVE\n",
    "###\n"
   ]
  },
  {
   "cell_type": "code",
   "execution_count": 44,
   "metadata": {
    "cellIdentifier": "5uvk2p3dgdde2v85h9wj4m",
    "deletable": false,
    "editable": false,
    "nbgrader": {
     "grade": true,
     "grade_id": "3.18test2",
     "locked": true,
     "points": "1",
     "solution": false
    }
   },
   "outputs": [],
   "source": [
    "###\n",
    "### AUTOGRADER TEST - DO NOT REMOVE\n",
    "###\n"
   ]
  },
  {
   "cell_type": "code",
   "execution_count": 45,
   "metadata": {
    "cellIdentifier": "m8i633711uw8o70f8nhjh",
    "deletable": false,
    "editable": false,
    "nbgrader": {
     "grade": true,
     "grade_id": "3.18test3",
     "locked": true,
     "points": "1",
     "solution": false
    }
   },
   "outputs": [],
   "source": [
    "###\n",
    "### AUTOGRADER TEST - DO NOT REMOVE\n",
    "###\n"
   ]
  }
 ],
 "metadata": {
  "colab": {
   "name": "Lesson 3.ipynb",
   "provenance": []
  },
  "kernelspec": {
   "display_name": "base",
   "language": "python",
   "name": "python3"
  },
  "language_info": {
   "codemirror_mode": {
    "name": "ipython",
    "version": 3
   },
   "file_extension": ".py",
   "mimetype": "text/x-python",
   "name": "python",
   "nbconvert_exporter": "python",
   "pygments_lexer": "ipython3",
   "version": "3.11.5"
  }
 },
 "nbformat": 4,
 "nbformat_minor": 4
}
