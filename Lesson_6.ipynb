{
 "cells": [
  {
   "cell_type": "markdown",
   "metadata": {
    "cellIdentifier": "sb214wdozodkh2cr7m6po",
    "colab_type": "text",
    "deletable": false,
    "editable": false,
    "id": "J_cLQuljKEaA",
    "nbgrader": {
     "grade": false,
     "locked": true,
     "solution": false
    }
   },
   "source": [
    "### 10.014 Computational Thinking For Design, Fall 2024\n",
    "\n",
    "## Problem Set 6\n",
    "\n",
    "© Singapore University of Technology and Design, 2024    "
   ]
  },
  {
   "cell_type": "markdown",
   "metadata": {
    "cellIdentifier": "bfzrcw9zq8mz5wcq3szbw"
   },
   "source": [
    "### Problem 6.00 ```get_value(ls, i, j)```"
   ]
  },
  {
   "cell_type": "markdown",
   "metadata": {
    "cellIdentifier": "ahgb3ywmw1bow57pz55a2a"
   },
   "source": [
    "This function takes in a list ```ls```.You can assume that ```ls``` is a list of three lists. Each of the nested lists is a list of four integer values e.g. \n",
    "\n",
    "```python\n",
    "ls = [ [10, 20, 30, 40], [61, 71, 81, 91], [ 35, 45, 55, 65] ] \n",
    "````\n",
    "\n",
    "This function also takes in two integers ```i``` and ```j```. You can assume that 0 ≤ ```i``` ≤ 2 and 0 ≤ ```j``` ≤ 3. \n",
    "\n",
    "This function returns the ```j```-th element of the list at element ```i``` of ```ls```. \n",
    "\n",
    "Hint. You just need to use a double-index on ls \n",
    "\n",
    "\n",
    "```python\n",
    "ls = [ [10, 20, 30, 40], [61, 71, 81, 91], [ 35, 45, 55, 65] ] \n",
    "print( get_value( ls, 2, 1) ) # 45\n",
    "print( get_value( ls, 0, 3) ) # 40\n",
    "````"
   ]
  },
  {
   "cell_type": "code",
   "execution_count": 1,
   "metadata": {
    "cellIdentifier": "60yuifacomgbox8tzc429m"
   },
   "outputs": [
    {
     "name": "stdout",
     "output_type": "stream",
     "text": [
      "45\n",
      "40\n"
     ]
    }
   ],
   "source": [
    "def get_value(ls, i, j): \n",
    "    return ls[i][j]\n",
    "\n",
    "ls = [ [10, 20, 30, 40], [61, 71, 81, 91], [ 35, 45, 55, 65] ] \n",
    "print( get_value( ls, 2, 1) ) # 45\n",
    "print( get_value( ls, 0, 3) ) # 40\n"
   ]
  },
  {
   "cell_type": "code",
   "execution_count": 26,
   "metadata": {
    "cellIdentifier": "ciop7fk8zsj8h1bx945ua8",
    "deletable": false,
    "editable": false,
    "nbgrader": {
     "grade": true,
     "grade_id": "6.00test1",
     "locked": true,
     "points": "1",
     "solution": false
    }
   },
   "outputs": [],
   "source": [
    "###\n",
    "### AUTOGRADER TEST - DO NOT REMOVE\n",
    "###\n"
   ]
  },
  {
   "cell_type": "markdown",
   "metadata": {
    "cellIdentifier": "ylwxq4kl4714xrbrvk8py",
    "deletable": false,
    "editable": false,
    "nbgrader": {
     "grade": false,
     "locked": true,
     "solution": false
    }
   },
   "source": [
    "### Problem 6.01 ```get_average_sublist(ls, n)```"
   ]
  },
  {
   "cell_type": "markdown",
   "metadata": {
    "cellIdentifier": "4u4ew47vjkwkbvncrg4vq",
    "deletable": false,
    "editable": false,
    "nbgrader": {
     "grade": false,
     "locked": true,
     "solution": false
    }
   },
   "source": [
    "This function takes in a list of lists ```ls``` as an input. \n",
    "\n",
    "The nested lists or sublists contain integers. \n",
    "\n",
    "This function returns the average of the elements in the sublist at index ```n```.\n",
    "\n",
    "The value returned must be rounded to one decimal place using the ```round()``` function. \n",
    "\n",
    "If ```n``` is out of bounds, return ```None```. Recall that list indices can be negative. \n",
    "\n",
    "The built-in function ```sum()``` will be useful in this question. What built-in function would you use to determine the number of elements in a list?\n",
    "\n",
    "\n",
    "```python\n",
    "a = [ [10, 12], [36, 40, 52], [10, 16, 17] ] \n",
    "print( get_average_sublist( a, 1) )\n",
    "print( get_average_sublist( a, 3) )\n",
    "```\n",
    "\n",
    "```python\n",
    "42.7\n",
    "None\n",
    "```"
   ]
  },
  {
   "cell_type": "code",
   "execution_count": null,
   "metadata": {
    "cellIdentifier": "emz7gwraxjbbetl8qi3hl7"
   },
   "outputs": [
    {
     "name": "stdout",
     "output_type": "stream",
     "text": [
      "42.7\n",
      "11.0\n",
      "42.7\n",
      "14.3\n",
      "None\n",
      "None\n"
     ]
    },
    {
     "ename": "StatisticsError",
     "evalue": "mean requires at least one data point",
     "output_type": "error",
     "traceback": [
      "\u001b[0;31m---------------------------------------------------------------------------\u001b[0m",
      "\u001b[0;31mStatisticsError\u001b[0m                           Traceback (most recent call last)",
      "Cell \u001b[0;32mIn[10], line 16\u001b[0m\n\u001b[1;32m     13\u001b[0m \u001b[38;5;28mprint\u001b[39m( get_average_sublist( a, \u001b[38;5;241m3\u001b[39m) )\n\u001b[1;32m     14\u001b[0m \u001b[38;5;28mprint\u001b[39m( get_average_sublist( a, \u001b[38;5;241m4\u001b[39m) )\n\u001b[0;32m---> 16\u001b[0m \u001b[38;5;28mprint\u001b[39m(get_average_sublist([[\u001b[38;5;241m1\u001b[39m, \u001b[38;5;241m2\u001b[39m], []], \u001b[38;5;241m1\u001b[39m))\n",
      "Cell \u001b[0;32mIn[10], line 6\u001b[0m, in \u001b[0;36mget_average_sublist\u001b[0;34m(ls, n)\u001b[0m\n\u001b[1;32m      4\u001b[0m \u001b[38;5;28;01mif\u001b[39;00m (\u001b[38;5;129;01mnot\u001b[39;00m \u001b[38;5;28misinstance\u001b[39m(ls, \u001b[38;5;28mlist\u001b[39m)) \u001b[38;5;129;01mor\u001b[39;00m (n \u001b[38;5;241m>\u001b[39m\u001b[38;5;241m=\u001b[39m \u001b[38;5;28mlen\u001b[39m(ls) \u001b[38;5;129;01mor\u001b[39;00m n \u001b[38;5;241m<\u001b[39m \u001b[38;5;241m-\u001b[39m\u001b[38;5;28mlen\u001b[39m(ls)):  \u001b[38;5;66;03m# Validate index and input type\u001b[39;00m\n\u001b[1;32m      5\u001b[0m     \u001b[38;5;28;01mreturn\u001b[39;00m \u001b[38;5;28;01mNone\u001b[39;00m\n\u001b[0;32m----> 6\u001b[0m \u001b[38;5;28;01mreturn\u001b[39;00m \u001b[38;5;28mround\u001b[39m(\u001b[38;5;28mfloat\u001b[39m(statistics\u001b[38;5;241m.\u001b[39mmean(ls[n])), \u001b[38;5;241m1\u001b[39m)\n",
      "File \u001b[0;32m~/anaconda3/lib/python3.11/statistics.py:432\u001b[0m, in \u001b[0;36mmean\u001b[0;34m(data)\u001b[0m\n\u001b[1;32m    430\u001b[0m T, total, n \u001b[38;5;241m=\u001b[39m _sum(data)\n\u001b[1;32m    431\u001b[0m \u001b[38;5;28;01mif\u001b[39;00m n \u001b[38;5;241m<\u001b[39m \u001b[38;5;241m1\u001b[39m:\n\u001b[0;32m--> 432\u001b[0m     \u001b[38;5;28;01mraise\u001b[39;00m StatisticsError(\u001b[38;5;124m'\u001b[39m\u001b[38;5;124mmean requires at least one data point\u001b[39m\u001b[38;5;124m'\u001b[39m)\n\u001b[1;32m    433\u001b[0m \u001b[38;5;28;01mreturn\u001b[39;00m _convert(total \u001b[38;5;241m/\u001b[39m n, T)\n",
      "\u001b[0;31mStatisticsError\u001b[0m: mean requires at least one data point"
     ]
    }
   ],
   "source": [
    "import statistics\n",
    "\n",
    "def get_average_sublist(ls, n):\n",
    "    if (not isinstance(ls, list)) or (n >= len(ls) or n < -len(ls)):  # Validate index and input type\n",
    "        return None\n",
    "    if not isinstance(ls[n], list) or len(ls[n]) == 0:\n",
    "        return None\n",
    "    return round(float(statistics.mean(ls[n])), 1)\n",
    "\n",
    "a = [ [10, 12], [36, 40, 52], [10, 16, 17] ]\n",
    "print( get_average_sublist( a, -2) )\n",
    "print( get_average_sublist( a, 0) )\n",
    "print( get_average_sublist( a, 1) )\n",
    "print( get_average_sublist( a, 2) )\n",
    "print( get_average_sublist( a, 3) )\n",
    "print( get_average_sublist( a, 4) )\n",
    "\n",
    "print(get_average_sublist([[1, 2], []], 1)) "
   ]
  },
  {
   "cell_type": "code",
   "execution_count": 30,
   "metadata": {
    "cellIdentifier": "78vrjplmzifa5xlotbsm",
    "deletable": false,
    "editable": false,
    "nbgrader": {
     "grade": true,
     "grade_id": "6.01test1",
     "locked": true,
     "points": "1",
     "solution": false
    }
   },
   "outputs": [],
   "source": [
    "###\n",
    "### AUTOGRADER TEST - DO NOT REMOVE\n",
    "###\n"
   ]
  },
  {
   "cell_type": "code",
   "execution_count": 31,
   "metadata": {
    "cellIdentifier": "9wfyud2v0qoqx8cmtnj7r9",
    "deletable": false,
    "editable": false,
    "nbgrader": {
     "grade": true,
     "grade_id": "6.01test2",
     "locked": true,
     "points": "1",
     "solution": false
    }
   },
   "outputs": [],
   "source": [
    "###\n",
    "### AUTOGRADER TEST - DO NOT REMOVE\n",
    "###\n"
   ]
  },
  {
   "cell_type": "code",
   "execution_count": 32,
   "metadata": {
    "cellIdentifier": "7osu1mybx6t58clg93z2b",
    "deletable": false,
    "editable": false,
    "nbgrader": {
     "grade": true,
     "grade_id": "6.01test3",
     "locked": true,
     "points": "1",
     "solution": false
    }
   },
   "outputs": [],
   "source": [
    "###\n",
    "### AUTOGRADER TEST - DO NOT REMOVE\n",
    "###\n"
   ]
  },
  {
   "cell_type": "code",
   "execution_count": 33,
   "metadata": {
    "cellIdentifier": "tqqvaget7xmpnl8vzn1sgm",
    "deletable": false,
    "editable": false,
    "nbgrader": {
     "grade": true,
     "grade_id": "6.01test4",
     "locked": true,
     "points": "1",
     "solution": false
    }
   },
   "outputs": [],
   "source": [
    "###\n",
    "### AUTOGRADER TEST - DO NOT REMOVE\n",
    "###\n"
   ]
  },
  {
   "cell_type": "markdown",
   "metadata": {
    "cellIdentifier": "g8cnkwttoyqie12ypp5jmp",
    "deletable": false,
    "editable": false,
    "nbgrader": {
     "grade": false,
     "locked": true,
     "solution": false
    }
   },
   "source": [
    "### Problem 6.02 ```has_list(ls)```"
   ]
  },
  {
   "cell_type": "markdown",
   "metadata": {
    "cellIdentifier": "7vfr9hzujuw2lagp2g6bk2",
    "deletable": false,
    "editable": false,
    "nbgrader": {
     "grade": false,
     "locked": true,
     "solution": false
    }
   },
   "source": [
    "This function takes in a list ```ls``` as an input. \n",
    "\n",
    "If any element in ```ls``` is a list, this function returns ```True```, otherwise ```False```. \n",
    "\n",
    "---\n",
    "> **NOTE**\n",
    ">\n",
    "> You can execute the built-in function ```isinstance()``` in the following way: ```isinstance(a,list)```.\n",
    ">\n",
    "> ```True``` is returned if object ```a``` is a ```list``` and ```False``` otherwise.\n",
    "> \n",
    "---\n",
    "\n",
    "\n",
    "```python\n",
    "a = [10, 20, [30, 40] , 'apple' ]\n",
    "print(has_list(a))\n",
    "b = [10, 20, 30, 40 , 'apple' ]\n",
    "print(has_list(b))\n",
    "```\n",
    "\n",
    "```python\n",
    "True\n",
    "False\n",
    "```\n",
    "\n",
    "---\n",
    "\n",
    "> #### Hint \n",
    ">\n",
    "> Part of the algorithm is as follows.  \n",
    ">\n",
    "> 1. for each element in ls, \n",
    ">\n",
    ">    a. if the element is a list, return True. \n",
    ">\n",
    "> Next, consider very carefully the point at which your function returns ```False```. Would it be inside the for-loop or when the loop is completed? \n",
    ">\n",
    "> Note that this is similar to the one used for checking if a number is prime or not in an earlier problem set. \n",
    ">\n",
    "---"
   ]
  },
  {
   "cell_type": "code",
   "execution_count": 13,
   "metadata": {
    "cellIdentifier": "bmn0fh5o3npeknndq08sf"
   },
   "outputs": [
    {
     "name": "stdout",
     "output_type": "stream",
     "text": [
      "True\n",
      "False\n"
     ]
    }
   ],
   "source": [
    "def has_list(ls):\n",
    "    for element in ls:\n",
    "        if isinstance(element, list):\n",
    "            return True\n",
    "    return False\n",
    "\n",
    "a = [10, 20, [30, 40] , 'apple' ]\n",
    "print(has_list(a))\n",
    "b = [10, 20, 30, 40 , 'apple' ]\n",
    "print(has_list(b))"
   ]
  },
  {
   "cell_type": "code",
   "execution_count": 37,
   "metadata": {
    "cellIdentifier": "b6832pt1m28mwnqaj6vf",
    "deletable": false,
    "editable": false,
    "nbgrader": {
     "grade": true,
     "grade_id": "6.02test1",
     "locked": true,
     "points": "1",
     "solution": false
    }
   },
   "outputs": [],
   "source": [
    "###\n",
    "### AUTOGRADER TEST - DO NOT REMOVE\n",
    "###\n"
   ]
  },
  {
   "cell_type": "code",
   "execution_count": 38,
   "metadata": {
    "cellIdentifier": "mkik1w79xskn0zodaoc7i",
    "deletable": false,
    "editable": false,
    "nbgrader": {
     "grade": true,
     "grade_id": "6.02test2",
     "locked": true,
     "points": "1",
     "solution": false
    }
   },
   "outputs": [],
   "source": [
    "###\n",
    "### AUTOGRADER TEST - DO NOT REMOVE\n",
    "###\n"
   ]
  },
  {
   "cell_type": "code",
   "execution_count": 39,
   "metadata": {
    "cellIdentifier": "rcf6ib2ac9xhpwch1xegk",
    "deletable": false,
    "editable": false,
    "nbgrader": {
     "grade": true,
     "grade_id": "6.02test3",
     "locked": true,
     "points": "1",
     "solution": false
    }
   },
   "outputs": [],
   "source": [
    "###\n",
    "### AUTOGRADER TEST - DO NOT REMOVE\n",
    "###\n"
   ]
  },
  {
   "cell_type": "code",
   "execution_count": 40,
   "metadata": {
    "cellIdentifier": "pcraiu5mpbo7lpjknl1ohq",
    "deletable": false,
    "editable": false,
    "nbgrader": {
     "grade": true,
     "grade_id": "6.02test4",
     "locked": true,
     "points": "1",
     "solution": false
    }
   },
   "outputs": [],
   "source": [
    "###\n",
    "### AUTOGRADER TEST - DO NOT REMOVE\n",
    "###\n"
   ]
  },
  {
   "cell_type": "markdown",
   "metadata": {
    "cellIdentifier": "0sgewflb3kwnd2ma7co154n",
    "colab_type": "text",
    "deletable": false,
    "editable": false,
    "id": "fqUB8XBwizI6",
    "nbgrader": {
     "grade": false,
     "locked": true,
     "solution": false
    }
   },
   "source": [
    "### Problem 6.03 ```max_list(inlist) ```\n"
   ]
  },
  {
   "cell_type": "markdown",
   "metadata": {
    "cellIdentifier": "b8slbeogn0eu2ix43bs4qj",
    "colab_type": "text",
    "deletable": false,
    "editable": false,
    "id": "NMOVUYyUThsK",
    "nbgrader": {
     "grade": false,
     "locked": true,
     "solution": false
    }
   },
   "source": [
    "This function takes in a two-level list of lists, ```inlist```. All lists nested within ```inlist``` contain integers. You can assume that ```inlist``` and all nested lists are never empty.\n",
    "\n",
    "It returns a list, ```outlist```, such that ```outlist[i]``` is the highest value in ```inlist[i]```.\n",
    "\n",
    "\n",
    "---- \n",
    "\n",
    "**Algorithm**\n",
    "\n",
    "1. ```outlist``` is an empty list \n",
    "\n",
    "2. for each element in ```inlist```, \n",
    "\n",
    "    a. get the maximum value using the ```max()``` built-in function\n",
    "    \n",
    "    b. append this value to ```outlist``` \n",
    "\n",
    "----\n",
    "\n",
    "```python \n",
    "inlist = [[1 ,2 ,3] ,[4 ,5]]\n",
    "print(max_list(inlist))\n",
    "inlist = [[3 ,4 ,5 ,2] ,[1 ,7] ,[8 ,0 , -1] ,[2]]\n",
    "print(max_list(inlist))\n",
    "inlist = [[3 ,4 ,5 ,2]]\n",
    "print(max_list(inlist)) \n",
    "```\n",
    "\n",
    "```python \n",
    "[3, 5]\n",
    "[5, 7, 8, 2]\n",
    "[5]\n",
    "```"
   ]
  },
  {
   "cell_type": "code",
   "execution_count": 14,
   "metadata": {
    "cellIdentifier": "15dvep2lf76xmvtf8651g8"
   },
   "outputs": [
    {
     "name": "stdout",
     "output_type": "stream",
     "text": [
      "[3, 5]\n",
      "[5, 7, 8, 2]\n",
      "[5]\n"
     ]
    }
   ],
   "source": [
    "def max_list(inlist):\n",
    "    outlist = []\n",
    "    for element in inlist:\n",
    "        outlist.append(max(element))\n",
    "    return outlist\n",
    "\n",
    "inlist = [[1 ,2 ,3] ,[4 ,5]]\n",
    "print(max_list(inlist))\n",
    "inlist = [[3 ,4 ,5 ,2] ,[1 ,7] ,[8 ,0 , -1] ,[2]]\n",
    "print(max_list(inlist))\n",
    "inlist = [[3 ,4 ,5 ,2]]\n",
    "print(max_list(inlist)) "
   ]
  },
  {
   "cell_type": "code",
   "execution_count": 44,
   "metadata": {
    "cellIdentifier": "jq08bj51xrfv4tghjtzqq",
    "deletable": false,
    "editable": false,
    "nbgrader": {
     "grade": true,
     "grade_id": "6.03test1",
     "locked": true,
     "points": "1",
     "solution": false
    }
   },
   "outputs": [],
   "source": [
    "###\n",
    "### AUTOGRADER TEST - DO NOT REMOVE\n",
    "###\n"
   ]
  },
  {
   "cell_type": "code",
   "execution_count": 45,
   "metadata": {
    "cellIdentifier": "sragcn5rxtkjm22i9jucm8",
    "deletable": false,
    "editable": false,
    "nbgrader": {
     "grade": true,
     "grade_id": "6.03test2",
     "locked": true,
     "points": "1",
     "solution": false
    }
   },
   "outputs": [],
   "source": [
    "###\n",
    "### AUTOGRADER TEST - DO NOT REMOVE\n",
    "###\n"
   ]
  },
  {
   "cell_type": "code",
   "execution_count": 46,
   "metadata": {
    "cellIdentifier": "qz0wkhbzztcjkmk94unsl",
    "deletable": false,
    "editable": false,
    "nbgrader": {
     "grade": true,
     "grade_id": "6.03test3",
     "locked": true,
     "points": "1",
     "solution": false
    }
   },
   "outputs": [],
   "source": [
    "###\n",
    "### AUTOGRADER TEST - DO NOT REMOVE\n",
    "###\n"
   ]
  },
  {
   "cell_type": "markdown",
   "metadata": {
    "cellIdentifier": "q8zveerty98lhlyo73bxf",
    "colab_type": "text",
    "deletable": false,
    "editable": false,
    "id": "clfrnjIkU0VI",
    "nbgrader": {
     "grade": false,
     "locked": true,
     "solution": false
    }
   },
   "source": [
    "### Problem 6.04 ```find_average(ls)```\n"
   ]
  },
  {
   "cell_type": "markdown",
   "metadata": {
    "cellIdentifier": "5yqu8h8gjzus16bi42ipf",
    "colab_type": "text",
    "deletable": false,
    "editable": false,
    "id": "7Xma-yrOTCtj",
    "nbgrader": {
     "grade": false,
     "locked": true,
     "solution": false
    }
   },
   "source": [
    "This function takes in a list of lists as an input. Each sublist contains numbers. \n",
    "\n",
    "The function returns a list of the averages of each sublist, and the average of all the elements (i.e. add up all the elements and take the average). All averages are rounded to two decimal places. \n",
    "\n",
    "All sublists will have at least one element. \n",
    "\n",
    "```python\n",
    "ls = [[3,4],[5,6,9],[-1,2,8]]\n",
    "ans=find_average(ls) \n",
    "print(ans)\n",
    "```\n",
    "```\n",
    "([3.5, 6.67, 3.0], 4.5)\n",
    "```\n",
    "\n",
    "---\n",
    "> #### Hint\n",
    "> Remember that one strategy for problem solving is to break the problem into smaller parts. How might you do so for this problem?\n",
    ">\n",
    "\n",
    "----\n",
    "\n"
   ]
  },
  {
   "cell_type": "code",
   "execution_count": 37,
   "metadata": {
    "cellIdentifier": "ssuy17l8t08vipi0pdj96"
   },
   "outputs": [
    {
     "name": "stdout",
     "output_type": "stream",
     "text": [
      "([3.5, 6.67, 3.0], 4.5)\n"
     ]
    }
   ],
   "source": [
    "import statistics\n",
    "\n",
    "def get_average_sublist(ls,n): \n",
    "    if (n >= len(ls)):\n",
    "        return None\n",
    "    return round(float(statistics.mean(ls[n])), 2)\n",
    "\n",
    "def find_average(ls):\n",
    "    average = []\n",
    "    for i, element in enumerate(ls):\n",
    "        average.append(get_average_sublist(ls, i))\n",
    "    return average, round(statistics.mean(sum(ls, [])), 2)\n",
    "\n",
    "\n",
    "ls = [[3,4],[5,6,9],[-1,2,8]]\n",
    "ans=find_average(ls) \n",
    "print(ans)   \n",
    "    "
   ]
  },
  {
   "cell_type": "code",
   "execution_count": 50,
   "metadata": {
    "cellIdentifier": "dl26bzx6v4j1j9satf8u4lj",
    "deletable": false,
    "editable": false,
    "nbgrader": {
     "grade": true,
     "grade_id": "6.04test1",
     "locked": true,
     "points": "2",
     "solution": false
    }
   },
   "outputs": [],
   "source": [
    "###\n",
    "### AUTOGRADER TEST - DO NOT REMOVE\n",
    "###\n"
   ]
  },
  {
   "cell_type": "code",
   "execution_count": 51,
   "metadata": {
    "cellIdentifier": "xszdm9otykcttjb96k3e2",
    "deletable": false,
    "editable": false,
    "nbgrader": {
     "grade": true,
     "grade_id": "6.04test2",
     "locked": true,
     "points": "2",
     "solution": false
    }
   },
   "outputs": [],
   "source": [
    "###\n",
    "### AUTOGRADER TEST - DO NOT REMOVE\n",
    "###\n"
   ]
  },
  {
   "cell_type": "markdown",
   "metadata": {
    "cellIdentifier": "6ucj3ytn30abep6vfstskf",
    "colab_type": "text",
    "deletable": false,
    "editable": false,
    "id": "z6FosPy1irJ6",
    "nbgrader": {
     "grade": false,
     "locked": true,
     "solution": false
    }
   },
   "source": [
    "### Problem 6.05 ```get_zero_matrix( m, n)```"
   ]
  },
  {
   "cell_type": "markdown",
   "metadata": {
    "cellIdentifier": "g1yxg8c5n7rdizdw0jutpt",
    "colab_type": "text",
    "deletable": false,
    "editable": false,
    "id": "62NkFUEBd9mK",
    "nbgrader": {
     "grade": false,
     "locked": true,
     "solution": false
    }
   },
   "source": [
    "This function takes in integers ```m``` and ```n``` and returns a list of lists that represents an m-by-n matrix with all entries zero. \n",
    "\n",
    "You can assume that ```m``` and ```n``` will be positive integers.\n",
    "\n",
    "```python \n",
    "ls = get_zero_matrix(2, 3)\n",
    "print(ls)\n",
    "ls[1][2] = 7\n",
    "print(ls)\n",
    "```\n",
    "\n",
    "The output is: \n",
    "```\n",
    "[[0, 0, 0], [0, 0, 0]]\n",
    "[[0, 0, 0], [0, 0, 7]]\n",
    "\n",
    "```\n",
    "\n",
    "Two other test cases:\n",
    "```python \n",
    "ls = get_zero_matrix(1, 4)\n",
    "print(ls)\n",
    "ls = get_zero_matrix(3, 1)\n",
    "print(ls) \n",
    "```  \n",
    "with output:\n",
    "```\n",
    "[[0,0,0,0] ]\n",
    "[[0], [0], [0]]\n",
    "```\n",
    "\n",
    "---\n",
    "> #### Consider\n",
    "> The following code is not the right strategy to solve this question. \n",
    "> ```python \n",
    "> x = [ 0 ]*3\n",
    "> ls = [x]*2 \n",
    "> ```\n",
    "> Explain why. \n",
    "\n",
    "---\n"
   ]
  },
  {
   "cell_type": "code",
   "execution_count": null,
   "metadata": {
    "cellIdentifier": "w6cdkrmj3jblv2vpzj3xem"
   },
   "outputs": [
    {
     "name": "stdout",
     "output_type": "stream",
     "text": [
      "[[0, 0, 0], [0, 0, 0]]\n",
      "[[0, 0, 7], [0, 0, 7]]\n",
      "[[0, 0, 0, 0]]\n",
      "[[0], [0], [0]]\n"
     ]
    }
   ],
   "source": [
    "def get_zero_matrix(m, n):\n",
    "   return [[0 for _ in range(n)] for _ in range(m)] \n",
    "\n",
    "ls = get_zero_matrix(2, 3)\n",
    "print(ls)\n",
    "ls[1][2] = 7\n",
    "print(ls)\n",
    "ls = get_zero_matrix(1, 4)\n",
    "print(ls)\n",
    "ls = get_zero_matrix(3, 1)\n",
    "print(ls) "
   ]
  },
  {
   "cell_type": "code",
   "execution_count": 55,
   "metadata": {
    "cellIdentifier": "zl0zezcaxeg79swjv1lwr6",
    "deletable": false,
    "editable": false,
    "nbgrader": {
     "grade": true,
     "grade_id": "6.05test1",
     "locked": true,
     "points": "1",
     "solution": false
    }
   },
   "outputs": [],
   "source": [
    "###\n",
    "### AUTOGRADER TEST - DO NOT REMOVE\n",
    "###\n"
   ]
  },
  {
   "cell_type": "code",
   "execution_count": 56,
   "metadata": {
    "cellIdentifier": "r9x8x11pcji07vlxgye9",
    "deletable": false,
    "editable": false,
    "nbgrader": {
     "grade": true,
     "grade_id": "6.05test2",
     "locked": true,
     "points": "1",
     "solution": false
    }
   },
   "outputs": [],
   "source": [
    "###\n",
    "### AUTOGRADER TEST - DO NOT REMOVE\n",
    "###\n"
   ]
  },
  {
   "cell_type": "code",
   "execution_count": 57,
   "metadata": {
    "cellIdentifier": "4tvkmzybcc5zsaq6t5e4i",
    "deletable": false,
    "editable": false,
    "nbgrader": {
     "grade": true,
     "grade_id": "6.05test3",
     "locked": true,
     "points": "1",
     "solution": false
    }
   },
   "outputs": [],
   "source": [
    "###\n",
    "### AUTOGRADER TEST - DO NOT REMOVE\n",
    "###\n"
   ]
  },
  {
   "cell_type": "code",
   "execution_count": 58,
   "metadata": {
    "cellIdentifier": "rn150x7vbgi2xy6s0pcde",
    "deletable": false,
    "editable": false,
    "nbgrader": {
     "grade": true,
     "grade_id": "6.05test4",
     "locked": true,
     "points": "1",
     "solution": false
    }
   },
   "outputs": [],
   "source": [
    "###\n",
    "### AUTOGRADER TEST - DO NOT REMOVE\n",
    "###\n"
   ]
  },
  {
   "cell_type": "code",
   "execution_count": 59,
   "metadata": {
    "cellIdentifier": "aiopjqhv3drwi2acm7r3ko",
    "deletable": false,
    "editable": false,
    "nbgrader": {
     "grade": true,
     "grade_id": "6.05test5",
     "locked": true,
     "points": "1",
     "solution": false
    }
   },
   "outputs": [],
   "source": [
    "###\n",
    "### AUTOGRADER TEST - DO NOT REMOVE\n",
    "###\n"
   ]
  },
  {
   "cell_type": "markdown",
   "metadata": {
    "cellIdentifier": "zrevihud09d1zzh1hlfrez",
    "colab_type": "text",
    "deletable": false,
    "editable": false,
    "id": "JcRvpT_tim5L",
    "nbgrader": {
     "grade": false,
     "locked": true,
     "solution": false
    }
   },
   "source": [
    "### Problem 6.06 ```transpose_matrix( ls)```"
   ]
  },
  {
   "cell_type": "markdown",
   "metadata": {
    "cellIdentifier": "wa2u26njgblwg8pgnsxu7",
    "colab_type": "text",
    "deletable": false,
    "editable": false,
    "id": "cEoZfv6JV0hm",
    "nbgrader": {
     "grade": false,
     "locked": true,
     "solution": false
    }
   },
   "source": [
    "This function takes in a nested list ```ls``` that represents a matrix and returns its transpose, also as a nested list. \n",
    "\n",
    "You can assume that all the sublists in ```ls``` have the same length. \n",
    "\n",
    "For example, a matrix \n",
    "$$\n",
    "A = \\begin{bmatrix} \n",
    "1 & 2 & 3 \\\\\n",
    "40 & 50 & 60\n",
    "\\end{bmatrix}\n",
    "$$\n",
    "\n",
    "can be represented by a list of lists as \n",
    "```python\n",
    "A = [ [1 ,  2, 3 ] ,\n",
    "      [40, 50, 60] ]\n",
    "```\n",
    "\n",
    "The steps are as follows: \n",
    "- determine the rows and columns of ls\n",
    "- get an empty matrix that has the correct dimensions of the transpose. You should use the function ```get_zero_matrix()```written earlier.  \n",
    "- write a nested for-loop that carries out the transpose. \n",
    "\n",
    "```python\n",
    " A = [ [1 ,  2, 3 ] ,\n",
    "      [40, 50, 60] ]\n",
    "print(transpose_matrix(A))\n",
    "```\n",
    "\n",
    "```python\n",
    "[[1, 40], [2, 50], [3, 60]]\n",
    "```"
   ]
  },
  {
   "cell_type": "markdown",
   "metadata": {},
   "source": [
    "### Explaination of code \n",
    "```python\n",
    "def get_zero_matrix(m, n):\n",
    "    return [[0]*n]*m\n",
    "```\n",
    "\n",
    "- The [[0]*n]*m syntax creates a list of rows, but each row is a reference to the same underlying list.\n",
    "- This means modifying one row affects all rows simultaneously because they share the same memory location.\n",
    "\n",
    "Example Code\n",
    "```python\n",
    "matrix = [[0]*3]*2  # [[0, 0, 0], [0, 0, 0]]\n",
    "matrix[0][0] = 1    # Modify the first element of the first row\n",
    "print(matrix)       # [[1, 0, 0], [1, 0, 0]] <-- Both rows are modified!\n",
    "```\n",
    "\n",
    "### Modification of code \n",
    "```python\n",
    "def get_zero_matrix(m, n):\n",
    "    return [[0 for _ in range(n)] for _ in range(m)]\n",
    "```\n",
    "\n",
    "- The [[0 for _ in range(n)] for _ in range(m)] syntax creates a new, independent list for each row.\n",
    "- Each row is a unique object in memory, so modifying one row does not affect the others.\n",
    "\n",
    "Example Code\n",
    "```python\n",
    "matrix = [[0 for _ in range(3)] for _ in range(2)]  # [[0, 0, 0], [0, 0, 0]]\n",
    "matrix[0][0] = 1  # Modify the first element of the first row\n",
    "print(matrix)     # [[1, 0, 0], [0, 0, 0]] <-- Only the first row is modified\n",
    "```"
   ]
  },
  {
   "cell_type": "code",
   "execution_count": 31,
   "metadata": {
    "cellIdentifier": "c1scy4c90q50et6sdad2ss"
   },
   "outputs": [
    {
     "name": "stdout",
     "output_type": "stream",
     "text": [
      "[[1, 40], [2, 50], [3, 60]]\n"
     ]
    }
   ],
   "source": [
    "def get_zero_matrix(m, n):\n",
    "    return [[0 for _ in range(n)] for _ in range(m)] \n",
    "\n",
    "def transpose_matrix(ls):\n",
    "    rows = len(ls)\n",
    "    columns = len(ls[0])\n",
    "    empty_matrix = get_zero_matrix(columns, rows)\n",
    "    for i in range(columns):\n",
    "        for j in range(rows):\n",
    "            empty_matrix[i][j] = ls[j][i]\n",
    "    return empty_matrix\n",
    "   \n",
    "# Better way of writing this function \n",
    "# def transpose_matrix(ls):\n",
    "#     return[[ls[j][i] for j in range(len(ls))] for i in range(len(ls[0]))]\n",
    "\n",
    "# def transpose_matrix(ls):\n",
    "#     return list(zip(*ls))\n",
    "\n",
    "A = [ [1 ,  2, 3 ] ,\n",
    "      [40, 50, 60] ]\n",
    "print(transpose_matrix(A))"
   ]
  },
  {
   "cell_type": "code",
   "execution_count": 63,
   "metadata": {
    "cellIdentifier": "30jzj2s38ewq11axgbmomf",
    "deletable": false,
    "editable": false,
    "nbgrader": {
     "grade": true,
     "grade_id": "6.06test0",
     "locked": true,
     "points": "1",
     "solution": false
    }
   },
   "outputs": [],
   "source": [
    "###\n",
    "### AUTOGRADER TEST - DO NOT REMOVE\n",
    "###\n"
   ]
  },
  {
   "cell_type": "code",
   "execution_count": 64,
   "metadata": {
    "cellIdentifier": "5ov0vwm2m2a2vnaeoaess4",
    "deletable": false,
    "editable": false,
    "nbgrader": {
     "grade": true,
     "grade_id": "6.06test1",
     "locked": true,
     "points": "1",
     "solution": false
    }
   },
   "outputs": [],
   "source": [
    "###\n",
    "### AUTOGRADER TEST - DO NOT REMOVE\n",
    "###\n"
   ]
  },
  {
   "cell_type": "code",
   "execution_count": 65,
   "metadata": {
    "cellIdentifier": "ma6wihde88gqbff73xodc",
    "deletable": false,
    "editable": false,
    "nbgrader": {
     "grade": true,
     "grade_id": "6.06test2",
     "locked": true,
     "points": "1",
     "solution": false
    }
   },
   "outputs": [],
   "source": [
    "###\n",
    "### AUTOGRADER TEST - DO NOT REMOVE\n",
    "###\n"
   ]
  },
  {
   "cell_type": "code",
   "execution_count": 66,
   "metadata": {
    "cellIdentifier": "v6g5r92g4msz8ya4la59cj",
    "deletable": false,
    "editable": false,
    "nbgrader": {
     "grade": true,
     "grade_id": "6.06test3",
     "locked": true,
     "points": "1",
     "solution": false
    }
   },
   "outputs": [],
   "source": [
    "###\n",
    "### AUTOGRADER TEST - DO NOT REMOVE\n",
    "###\n"
   ]
  },
  {
   "cell_type": "code",
   "execution_count": 67,
   "metadata": {
    "cellIdentifier": "m863dhnatp8bdud4cf6pvj",
    "deletable": false,
    "editable": false,
    "nbgrader": {
     "grade": true,
     "grade_id": "6.06test4",
     "locked": true,
     "points": "1",
     "solution": false
    }
   },
   "outputs": [],
   "source": [
    "###\n",
    "### AUTOGRADER TEST - DO NOT REMOVE\n",
    "###\n"
   ]
  },
  {
   "cell_type": "markdown",
   "metadata": {
    "cellIdentifier": "n16e48jba1946si7bklnsl",
    "colab_type": "text",
    "deletable": false,
    "editable": false,
    "id": "JcRvpT_tim5L",
    "nbgrader": {
     "grade": false,
     "locked": true,
     "solution": false
    }
   },
   "source": [
    "### Problem 6.07a  ```scalar_multiply(ls, a)```"
   ]
  },
  {
   "cell_type": "markdown",
   "metadata": {
    "cellIdentifier": "20p6lrrzcqrst9mksu5dx",
    "colab_type": "text",
    "deletable": false,
    "editable": false,
    "id": "cEoZfv6JV0hm",
    "nbgrader": {
     "grade": false,
     "locked": true,
     "solution": false
    }
   },
   "source": [
    "This function takes in a list of lists  ```ls``` that represents a matrix, and multiplies every element by the numerical value ```a```. \n",
    "\n",
    "This operation is conducted **in-place**. \n",
    "\n",
    "You can assume that all the sublists in ```ls``` have the same length. \n",
    "\n",
    "```python\n",
    " A = [ [10, 20, 30 ] ,\n",
    "      [40, 50, 60] ]\n",
    "scalar_multiply(A, 0.2)\n",
    "print(A)\n",
    "```\n",
    "\n",
    "```python\n",
    "[[2.0, 4.0, 6.0], [8.0, 10.0, 12.0]]\n",
    "```"
   ]
  },
  {
   "cell_type": "code",
   "execution_count": 47,
   "metadata": {
    "cellIdentifier": "3yu7d5z41w86yyblns8rhd"
   },
   "outputs": [
    {
     "name": "stdout",
     "output_type": "stream",
     "text": [
      "[[2.0, 4.0, 6.0], [8.0, 10.0, 12.0]]\n"
     ]
    }
   ],
   "source": [
    "def scalar_multiply(ls, a):\n",
    "    # for i in range(len(ls)):\n",
    "    #     for j in range(len(ls[0])):\n",
    "    #         ls[i][j] *= a\n",
    "    #         print(ls[i][j])\n",
    "\n",
    "    for i in range(len(ls)):\n",
    "        ls[i] = [x * a for x in ls[i]]\n",
    "\n",
    "\n",
    "A = [ [10 , 20, 30 ] ,\n",
    "      [40, 50, 60] ]\n",
    "scalar_multiply(A, 0.2)\n",
    "print(A)"
   ]
  },
  {
   "cell_type": "code",
   "execution_count": 71,
   "metadata": {
    "cellIdentifier": "hmvk2w1wbne8v9qdkpztad",
    "deletable": false,
    "editable": false,
    "nbgrader": {
     "grade": true,
     "grade_id": "6.07atest1",
     "locked": true,
     "points": "1",
     "solution": false
    }
   },
   "outputs": [],
   "source": [
    "###\n",
    "### AUTOGRADER TEST - DO NOT REMOVE\n",
    "###\n"
   ]
  },
  {
   "cell_type": "code",
   "execution_count": 72,
   "metadata": {
    "cellIdentifier": "zpayprrqt5weoh7497xg",
    "deletable": false,
    "editable": false,
    "nbgrader": {
     "grade": true,
     "grade_id": "6.07atest2",
     "locked": true,
     "points": "1",
     "solution": false
    }
   },
   "outputs": [],
   "source": [
    "###\n",
    "### AUTOGRADER TEST - DO NOT REMOVE\n",
    "###\n"
   ]
  },
  {
   "cell_type": "markdown",
   "metadata": {
    "cellIdentifier": "d3n9o9od3laj3vxwii5s",
    "colab_type": "text",
    "deletable": false,
    "editable": false,
    "id": "JcRvpT_tim5L",
    "nbgrader": {
     "grade": false,
     "locked": true,
     "solution": false
    }
   },
   "source": [
    "### Problem 6.07b  ```scalar_multiply_new(ls, a)```"
   ]
  },
  {
   "cell_type": "markdown",
   "metadata": {
    "cellIdentifier": "6vr56gvtsrdecohv9iowlv",
    "colab_type": "text",
    "deletable": false,
    "editable": false,
    "id": "cEoZfv6JV0hm",
    "nbgrader": {
     "grade": false,
     "locked": true,
     "solution": false
    }
   },
   "source": [
    "This function takes in a list of lists  ```ls``` that represents a matrix. \n",
    "\n",
    "**It returns a new list**, where each element in this list is equivalent to the corresponding element in ```ls``` multiplied by numerical value ```a```.  \n",
    "\n",
    "You can assume that all the sublists in ```ls``` have the same length. \n",
    "\n",
    "```python\n",
    "A = [ [10, 20, 30 ] ,\n",
    "      [40, 50, 60] ]\n",
    "B = scalar_multiply(A, 0.2)\n",
    "print(A)\n",
    "print(B)\n",
    "```\n",
    "\n",
    "```python\n",
    "[[10, 20, 30], [40, 50, 60]]\n",
    "[[2.0, 4.0, 6.0], [8.0, 10.0, 12.0]]\n",
    "```"
   ]
  },
  {
   "cell_type": "code",
   "execution_count": 49,
   "metadata": {
    "cellIdentifier": "ty754upf2zi1chuu1ddhs1"
   },
   "outputs": [
    {
     "name": "stdout",
     "output_type": "stream",
     "text": [
      "[[10, 20, 30], [40, 50, 60]]\n",
      "[[2.0, 4.0, 6.0], [8.0, 10.0, 12.0]]\n"
     ]
    }
   ],
   "source": [
    "### import any necessary libraries you need \n",
    "### or re-use any function written earlier \n",
    "def scalar_multiply_new(ls, a):\n",
    "    return [[ls[i][j] * a for j in range(len(ls[0]))] for i in range(len(ls))]\n",
    "\n",
    "A = [ [10, 20, 30 ] ,\n",
    "      [40, 50, 60] ]\n",
    "B = scalar_multiply_new(A, 0.2)\n",
    "print(A)\n",
    "print(B)"
   ]
  },
  {
   "cell_type": "code",
   "execution_count": 76,
   "metadata": {
    "cellIdentifier": "pf6h86allf7rnxwhme27j",
    "deletable": false,
    "editable": false,
    "nbgrader": {
     "grade": true,
     "grade_id": "6.07btest1",
     "locked": true,
     "points": "1",
     "solution": false
    }
   },
   "outputs": [],
   "source": [
    "###\n",
    "### AUTOGRADER TEST - DO NOT REMOVE\n",
    "###\n"
   ]
  },
  {
   "cell_type": "code",
   "execution_count": 77,
   "metadata": {
    "cellIdentifier": "hw0wl575uppx7sgg65l0km",
    "deletable": false,
    "editable": false,
    "nbgrader": {
     "grade": true,
     "grade_id": "6.07btest2",
     "locked": true,
     "points": "1",
     "solution": false
    }
   },
   "outputs": [],
   "source": [
    "###\n",
    "### AUTOGRADER TEST - DO NOT REMOVE\n",
    "###\n"
   ]
  }
 ],
 "metadata": {
  "colab": {
   "name": "Lesson 6.ipynb",
   "provenance": []
  },
  "kernelspec": {
   "display_name": "base",
   "language": "python",
   "name": "python3"
  },
  "language_info": {
   "codemirror_mode": {
    "name": "ipython",
    "version": 3
   },
   "file_extension": ".py",
   "mimetype": "text/x-python",
   "name": "python",
   "nbconvert_exporter": "python",
   "pygments_lexer": "ipython3",
   "version": "3.11.5"
  }
 },
 "nbformat": 4,
 "nbformat_minor": 4
}
