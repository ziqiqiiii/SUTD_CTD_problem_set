{
 "cells": [
  {
   "cell_type": "markdown",
   "metadata": {
    "cellIdentifier": "am2a41iocd507cuidmpy3kg",
    "deletable": false,
    "editable": false,
    "nbgrader": {
     "grade": false,
     "locked": true,
     "solution": false
    }
   },
   "source": [
    "### 10.014 Computational Thinking For Design, Fall 2024\n",
    "\n",
    "## Problem Set 3A (Loops)   \n",
    "\n",
    "© Singapore University of Technology and Design, 2024\n"
   ]
  },
  {
   "cell_type": "markdown",
   "metadata": {
    "cellIdentifier": "e3obtf5impjfl81x1jchjm",
    "deletable": false,
    "editable": false,
    "nbgrader": {
     "grade": false,
     "locked": true,
     "solution": false
    }
   },
   "source": [
    "<h1>\n",
    "    <font color=\"red\"><b>Important</b></font>\n",
    "</h1>\n",
    "\n",
    "For this problem set and all other problem sets: Ensure that you have executed ALL your functions to check that they return the correct value, \n",
    "and that you do not have an infinite loop. Don't forget to write your own test cases. \n",
    "\n",
    "Click the **SUBMIT** button only after you are sure that ALL your solutions are correct.  \n",
    "\n",
    "**If you do not see the grading report after some time**, a likely cause is that one of your functions has an infinite loop. When this happens, first execute your functions one-by-one to determine which function has an infinite loop, then debug that function."
   ]
  },
  {
   "cell_type": "markdown",
   "metadata": {
    "cellIdentifier": "fz2498lrvtqranhtpjyas",
    "deletable": false,
    "editable": false,
    "nbgrader": {
     "grade": false,
     "locked": true,
     "solution": false
    }
   },
   "source": [
    "### Problem 3.00a ```calculate_sum_odd(n)```"
   ]
  },
  {
   "cell_type": "markdown",
   "metadata": {
    "cellIdentifier": "cl0zsbsimid0hcav8hssweh",
    "deletable": false,
    "editable": false,
    "nbgrader": {
     "grade": false,
     "locked": true,
     "solution": false
    }
   },
   "source": [
    "This function returns the sum of all positive odd numbers, from 1 up to, but not including ```n```. \n",
    "\n",
    "You can assume that ```n``` is a positive integer.\n",
    "\n",
    "For example, ```calculate_sum_odd(11)``` and ```calculate_sum_odd(10)``` both return the value of  $1 + 3 + 5 + 7 + 9$, while ```calculate_sum_odd(12)``` returns the value of $1 + 3 + 5 + 7 + 9 + 11$. \n",
    "\n",
    "This question is meant for you to practise writing for-loops, thus avoid using the sum of series formula. \n",
    "\n",
    "To solve this question, consider how you might write the ```range``` function in the for-loop.\n",
    "\n",
    "```python\n",
    "print( calculate_sum_odd(10) )\n",
    "print( calculate_sum_odd(11) )\n",
    "print( calculate_sum_odd(12) )\n",
    "```\n",
    "\n",
    "gives \n",
    "\n",
    "```\n",
    "25\n",
    "25\n",
    "36\n",
    "```"
   ]
  },
  {
   "cell_type": "markdown",
   "metadata": {
    "cellIdentifier": "6p15m5g35s99r2u9iv7y7d",
    "deletable": false,
    "editable": false,
    "nbgrader": {
     "grade": false,
     "locked": true,
     "solution": false
    }
   },
   "source": [
    "#### your solution below:\n",
    "\n",
    "Reminder: after writing your solution, don't forget to write code to execute the function and display its output\n",
    "\n"
   ]
  },
  {
   "cell_type": "code",
   "execution_count": 109,
   "metadata": {
    "cellIdentifier": "okwi1gsfs9iokieg0nlf",
    "collapsed": true,
    "jupyter": {
     "outputs_hidden": true
    }
   },
   "outputs": [
    {
     "name": "stdout",
     "output_type": "stream",
     "text": [
      "25\n",
      "25\n",
      "36\n"
     ]
    }
   ],
   "source": [
    "def calculate_sum_odd(n):\n",
    "    total = 0 \n",
    "    for i in range(1,n,2):\n",
    "        total += i\n",
    "    return total\n",
    "\n",
    "\n",
    "print( calculate_sum_odd(10) )\n",
    "print( calculate_sum_odd(11) )\n",
    "print( calculate_sum_odd(12) )"
   ]
  },
  {
   "cell_type": "code",
   "execution_count": 110,
   "metadata": {
    "cellIdentifier": "mqwliyjuzvoxjwylq561vq",
    "collapsed": true,
    "deletable": false,
    "editable": false,
    "jupyter": {
     "outputs_hidden": true
    },
    "nbgrader": {
     "grade": true,
     "grade_id": "3.00atest1",
     "locked": true,
     "points": "1",
     "solution": false
    }
   },
   "outputs": [],
   "source": [
    "###\n",
    "### AUTOGRADER TEST - DO NOT REMOVE\n",
    "###\n"
   ]
  },
  {
   "cell_type": "code",
   "execution_count": 111,
   "metadata": {
    "cellIdentifier": "t65l53sc25m4ri9hwbgx2",
    "collapsed": true,
    "deletable": false,
    "editable": false,
    "jupyter": {
     "outputs_hidden": true
    },
    "nbgrader": {
     "grade": true,
     "grade_id": "3.00atest2",
     "locked": true,
     "points": "1",
     "solution": false
    }
   },
   "outputs": [],
   "source": [
    "###\n",
    "### AUTOGRADER TEST - DO NOT REMOVE\n",
    "###\n"
   ]
  },
  {
   "cell_type": "markdown",
   "metadata": {
    "cellIdentifier": "mxngjel4i9oh1d9udw7eo",
    "deletable": false,
    "editable": false,
    "nbgrader": {
     "grade": false,
     "locked": true,
     "solution": false
    }
   },
   "source": [
    "### Problem 3.00b ```alternating(n)```"
   ]
  },
  {
   "cell_type": "markdown",
   "metadata": {
    "cellIdentifier": "n73k7xv2zsxwtv48xqkr",
    "deletable": false,
    "editable": false,
    "nbgrader": {
     "grade": false,
     "locked": true,
     "solution": false
    }
   },
   "source": [
    "This function takes in a positive integer ```n``` and returns the sum of the following series. \n",
    "\n",
    "You need not round the output. \n",
    "\n",
    "\\begin{equation}\n",
    "S_n = \\sum_{k=1}^{n} \\frac{(-1)^{k+1}}{k} = 1 -\\frac{1}{2} + \\frac{1}{3} - \\frac{1}{4} + ... + \\frac{(-1)^{n+1}}{n}\n",
    "\\end{equation}\n",
    "\n",
    "**ASK YOURSELF** In the summation above, what is the starting value of the index? \n",
    "\n",
    "Test cases:\n",
    "\n",
    "```python\n",
    "print( alternating(2) )\n",
    "print( alternating(4) )\n",
    "print( alternating(10) )\n",
    "```\n",
    "\n",
    "gives \n",
    "\n",
    "```\n",
    "0.5\n",
    "0.5833333333333333\n",
    "0.6456349206349207\n",
    "```"
   ]
  },
  {
   "cell_type": "markdown",
   "metadata": {
    "cellIdentifier": "iryefcdunhnus6oloy2vus",
    "deletable": false,
    "editable": false,
    "nbgrader": {
     "grade": false,
     "locked": true,
     "solution": false
    }
   },
   "source": [
    "#### your solution below:\n",
    "\n",
    "Reminder: after writing your solution, don't forget to write code to execute the function and display its output\n"
   ]
  },
  {
   "cell_type": "code",
   "execution_count": 112,
   "metadata": {
    "cellIdentifier": "4kzyom14dqhvd0q5ejufq",
    "collapsed": true,
    "jupyter": {
     "outputs_hidden": true
    }
   },
   "outputs": [
    {
     "name": "stdout",
     "output_type": "stream",
     "text": [
      "0.5\n",
      "0.5833333333333333\n",
      "0.6456349206349207\n"
     ]
    }
   ],
   "source": [
    "def fraction(numerator, denominator):\n",
    "    if (denominator == 0):\n",
    "        return\n",
    "    return numerator / denominator\n",
    "\n",
    "def alternating(n):\n",
    "    sum = 0\n",
    "\n",
    "    n += 1\n",
    "    for i in range(n):\n",
    "        if (i == 0):\n",
    "            continue\n",
    "        sum += fraction((-1)**(i+1), i)\n",
    "    \n",
    "    return sum\n",
    "\n",
    "print( alternating(2) )\n",
    "print( alternating(4) )\n",
    "print( alternating(10) )\n"
   ]
  },
  {
   "cell_type": "code",
   "execution_count": 113,
   "metadata": {
    "cellIdentifier": "gsvh9or31ysrosz3gwoqe",
    "collapsed": true,
    "deletable": false,
    "editable": false,
    "jupyter": {
     "outputs_hidden": true
    },
    "nbgrader": {
     "grade": true,
     "grade_id": "3.00btest1",
     "locked": true,
     "points": "1",
     "solution": false
    }
   },
   "outputs": [],
   "source": [
    "###\n",
    "### AUTOGRADER TEST - DO NOT REMOVE\n",
    "###\n"
   ]
  },
  {
   "cell_type": "code",
   "execution_count": 114,
   "metadata": {
    "cellIdentifier": "7u9ux0q349rpgvgvr8c4xh",
    "collapsed": true,
    "deletable": false,
    "editable": false,
    "jupyter": {
     "outputs_hidden": true
    },
    "nbgrader": {
     "grade": true,
     "grade_id": "3.00btest2",
     "locked": true,
     "points": "1",
     "solution": false
    }
   },
   "outputs": [],
   "source": [
    "###\n",
    "### AUTOGRADER TEST - DO NOT REMOVE\n",
    "###\n"
   ]
  },
  {
   "cell_type": "code",
   "execution_count": 115,
   "metadata": {
    "cellIdentifier": "kq60b24nvzpkeselsfbrpb",
    "collapsed": true,
    "deletable": false,
    "editable": false,
    "jupyter": {
     "outputs_hidden": true
    },
    "nbgrader": {
     "grade": true,
     "grade_id": "3.00btest3",
     "locked": true,
     "points": "1",
     "solution": false
    }
   },
   "outputs": [],
   "source": [
    "###\n",
    "### AUTOGRADER TEST - DO NOT REMOVE\n",
    "###\n"
   ]
  },
  {
   "cell_type": "code",
   "execution_count": 116,
   "metadata": {
    "cellIdentifier": "v1cvuiyyf89hy3f1yjs8vg",
    "collapsed": true,
    "deletable": false,
    "editable": false,
    "jupyter": {
     "outputs_hidden": true
    },
    "nbgrader": {
     "grade": true,
     "grade_id": "3.00btest4",
     "locked": true,
     "points": "1",
     "solution": false
    }
   },
   "outputs": [],
   "source": [
    "###\n",
    "### AUTOGRADER TEST - DO NOT REMOVE\n",
    "###\n"
   ]
  },
  {
   "cell_type": "markdown",
   "metadata": {
    "cellIdentifier": "nncffzlb6kpn3wsinqv9r",
    "deletable": false,
    "editable": false,
    "nbgrader": {
     "grade": false,
     "locked": true,
     "solution": false
    }
   },
   "source": [
    "### Problem 3.01a ```compound_interest(principal, rate, months)```"
   ]
  },
  {
   "cell_type": "markdown",
   "metadata": {
    "cellIdentifier": "onrr09gqizio25vqngic",
    "deletable": false,
    "editable": false,
    "nbgrader": {
     "grade": false,
     "locked": true,
     "solution": false
    }
   },
   "source": [
    "For an interest-bearing deposit that is compounded monthly, you deposit $100 at the start of the month. You make no further deposits. \n",
    "The annual interest rate on this deposit of 5%.\n",
    "The bank calculates the interest gained and credits the amount to you at the end of the month. The monthly interest rate is 0.05/12=0.00417 (we round this to 3 decimal places for illustration purposes only).\n",
    "\n",
    "At the end of the first month, the value in the account is\n",
    "\\begin{equation}\n",
    "100 \\times (1 + 0.00417) = 100.417 \n",
    "\\end{equation}\n",
    "\n",
    "At the end of the second month, the value in the account is\n",
    "\n",
    "\\begin{equation}\n",
    "(100.417) ∗ (1 + 0.00417) = 100.835\n",
    "\\end{equation}\n",
    "\n",
    "At the end of the third month, the value in the account is\n",
    "\n",
    "\\begin{equation}\n",
    "(100.835) ∗ (1 + 0.00417) = 101.255\n",
    "\\end{equation}\n",
    "\n",
    "This function takes in three inputs, all values can be assumed to be positive \n",
    "- ```deposit``` integer, which is the monthly deposit\n",
    "- ```rate``` float, which is the annual interest rate expressed as a decimal\n",
    "- ```months``` integer, which is the duration in months of the deposit.\n",
    "\n",
    "Try this question using iteration (instead of the standard formula). During each step of the iteration, you do not perform any rounding. \n",
    "\n",
    "It returns the account value at the end of the duration, rounded to two decimal places using the ```round``` function. \n",
    "\n",
    "\n",
    "```python\n",
    "value = compound_interest( 100, 0.05, 6)\n",
    "print(value)\n",
    "```\n",
    "```\n",
    "102.53\n",
    "``` "
   ]
  },
  {
   "cell_type": "code",
   "execution_count": 117,
   "metadata": {
    "cellIdentifier": "rpcf8fc013przoj9fkrkub",
    "collapsed": true,
    "jupyter": {
     "outputs_hidden": true
    }
   },
   "outputs": [
    {
     "name": "stdout",
     "output_type": "stream",
     "text": [
      "2563.02\n",
      "102.53\n"
     ]
    }
   ],
   "source": [
    "def compound_interest(principal, rate, months ):\n",
    "    annual_rate = rate/12\n",
    "\n",
    "    for i in range(months):\n",
    "        principal *= (1 + annual_rate)\n",
    "\n",
    "    return round(principal, 2)\n",
    "\n",
    "## Write code to execute your function \n",
    "value = compound_interest(2500, 0.10, 3)\n",
    "print(value)\n",
    "value = compound_interest(100, 0.05, 6)\n",
    "print(value)"
   ]
  },
  {
   "cell_type": "code",
   "execution_count": 118,
   "metadata": {
    "cellIdentifier": "s93xw9n6uzgknafixi49t",
    "collapsed": true,
    "deletable": false,
    "editable": false,
    "jupyter": {
     "outputs_hidden": true
    },
    "nbgrader": {
     "grade": true,
     "grade_id": "3.01atest1",
     "locked": true,
     "points": "1",
     "solution": false
    }
   },
   "outputs": [],
   "source": [
    "###\n",
    "### AUTOGRADER TEST - DO NOT REMOVE\n",
    "###\n"
   ]
  },
  {
   "cell_type": "code",
   "execution_count": 119,
   "metadata": {
    "cellIdentifier": "y11g4wcunu9lrbgmexd36c",
    "collapsed": true,
    "deletable": false,
    "editable": false,
    "jupyter": {
     "outputs_hidden": true
    },
    "nbgrader": {
     "grade": true,
     "grade_id": "3.01atest2",
     "locked": true,
     "points": "1",
     "solution": false
    }
   },
   "outputs": [],
   "source": [
    "###\n",
    "### AUTOGRADER TEST - DO NOT REMOVE\n",
    "###\n"
   ]
  },
  {
   "cell_type": "markdown",
   "metadata": {
    "cellIdentifier": "fanbawue51ck1yx0ntfys",
    "deletable": false,
    "editable": false,
    "nbgrader": {
     "grade": false,
     "locked": true,
     "solution": false
    }
   },
   "source": [
    "### Problem 3.01b ```regular_savings(deposit, rate, months)```"
   ]
  },
  {
   "cell_type": "markdown",
   "metadata": {
    "cellIdentifier": "9hgsggc0rtfjx1wdx2a0i",
    "deletable": false,
    "editable": false,
    "nbgrader": {
     "grade": false,
     "locked": true,
     "solution": false
    }
   },
   "source": [
    "In a regular savings plan, you are supposed to deposit $100 on the first day of each month into a savings account. *Contrast this with the previous question*\n",
    "\n",
    "The annual interest rate on this deposit of 5%. \n",
    "\n",
    "The bank calculates the interest gained and credits the amount to you at the end of the month. The monthly interest rate is 0.05/12=0.00417 (we round this to 3 decimal places for illustration purposes only). \n",
    "\n",
    "At the end of the first month, the value in the account is\n",
    "\\begin{equation}\n",
    "(100 + 0) \\times (1 + 0.00417) = 100.417 \n",
    "\\end{equation}\n",
    "\n",
    "At the end of the second month, the value in the account is\n",
    "\n",
    "\\begin{equation}\n",
    "(100 + 100.417) \\times (1 + 0.00417) = 201.252\n",
    "\\end{equation}\n",
    "\n",
    "At the end of the third month, the value in the account is\n",
    "\n",
    "\\begin{equation}\n",
    "(100 + 201.252) \\times (1 + 0.00417) = 302.507\n",
    "\\end{equation}\n",
    "\n",
    "and so on.\n",
    "\n",
    "This function takes in three inputs, all values can be assumed to be positive \n",
    "- ```deposit``` integer, which is the monthly deposit\n",
    "- ```rate``` float, which is the annual interest rate expressed as a decimal\n",
    "- ```months``` integer, which is the duration in months of the deposit.\n",
    "\n",
    "It returns the account value at the end of the duration, rounded to two decimal places. \n",
    "\n",
    "```python\n",
    "value = regular_savings( 100, 0.05, 6)\n",
    "print(value)\n",
    "```\n",
    "```\n",
    "608.81\n",
    "``` "
   ]
  },
  {
   "cell_type": "code",
   "execution_count": 120,
   "metadata": {
    "cellIdentifier": "oe235rjdglilbe62b57am",
    "collapsed": true,
    "jupyter": {
     "outputs_hidden": true
    }
   },
   "outputs": [
    {
     "name": "stdout",
     "output_type": "stream",
     "text": [
      "608.81\n"
     ]
    }
   ],
   "source": [
    "def regular_savings( deposit, rate, months):\n",
    "    result = 0\n",
    "    annual_rate = rate/12\n",
    "\n",
    "    for i in range(months):\n",
    "        result = (deposit + result)*(1 + annual_rate)\n",
    "    return round(result, 2)\n",
    "\n",
    "### code to execute your function\n",
    "value = regular_savings( 100, 0.05, 6)\n",
    "print(value)"
   ]
  },
  {
   "cell_type": "code",
   "execution_count": 121,
   "metadata": {
    "cellIdentifier": "nyrlfyhg358o46pkj4covi",
    "collapsed": true,
    "deletable": false,
    "editable": false,
    "jupyter": {
     "outputs_hidden": true
    },
    "nbgrader": {
     "grade": true,
     "grade_id": "3.01btest1",
     "locked": true,
     "points": "1",
     "solution": false
    }
   },
   "outputs": [],
   "source": [
    "###\n",
    "### AUTOGRADER TEST - DO NOT REMOVE\n",
    "###\n"
   ]
  },
  {
   "cell_type": "code",
   "execution_count": 122,
   "metadata": {
    "cellIdentifier": "a7qhzkab9gn4fyg0dkyace",
    "collapsed": true,
    "deletable": false,
    "editable": false,
    "jupyter": {
     "outputs_hidden": true
    },
    "nbgrader": {
     "grade": true,
     "grade_id": "3.01btest2",
     "locked": true,
     "points": "1",
     "solution": false
    }
   },
   "outputs": [],
   "source": [
    "###\n",
    "### AUTOGRADER TEST - DO NOT REMOVE\n",
    "###\n"
   ]
  },
  {
   "cell_type": "code",
   "execution_count": 123,
   "metadata": {
    "cellIdentifier": "uqvmtjpkimh42lc0ummxq",
    "deletable": false,
    "editable": false,
    "nbgrader": {
     "grade": true,
     "grade_id": "3.01btest3",
     "locked": true,
     "points": "1",
     "solution": false
    }
   },
   "outputs": [],
   "source": [
    "###\n",
    "### AUTOGRADER TEST - DO NOT REMOVE\n",
    "###\n"
   ]
  },
  {
   "cell_type": "markdown",
   "metadata": {
    "cellIdentifier": "f49nxgh4wjeg4crlkbcrd",
    "colab_type": "text",
    "deletable": false,
    "editable": false,
    "id": "WIYrXz5cN3vr",
    "nbgrader": {
     "grade": false,
     "locked": true,
     "solution": false
    }
   },
   "source": [
    "### Problem 3.02 ```sum_of_series(n)```"
   ]
  },
  {
   "cell_type": "markdown",
   "metadata": {
    "cellIdentifier": "lxxylgj35qs9v64b503zac",
    "colab_type": "text",
    "deletable": false,
    "editable": false,
    "id": "zZNuVV_rD1dl",
    "nbgrader": {
     "grade": false,
     "locked": true,
     "solution": false
    }
   },
   "source": [
    "The series\n",
    "\n",
    "\\begin{equation}\n",
    "S_n = \\frac{1}{1^2}  + \\frac{1}{2^2} + ... + \\frac{1}{(n-1)^2} + \\frac{1}{n^2}\n",
    "\\end{equation} \n",
    "\n",
    "The function takes in a value of ```n``` which is always an integer and returns the value of this series. You need not round the output. \n",
    "\n",
    "If ```n``` is less than 1, return 0. \n",
    "\n",
    "```python \n",
    "a = sum_of_series(0)\n",
    "print(a)\n",
    "a = sum_of_series(1)\n",
    "print(a)\n",
    "a = sum_of_series(10)\n",
    "print(a)\n",
    "``` \n",
    "\n",
    "```python\n",
    "0\n",
    "1.0\n",
    "1.5497677311665408\n",
    "```"
   ]
  },
  {
   "cell_type": "markdown",
   "metadata": {
    "cellIdentifier": "jl9j639osf0wenq8xtgw9k",
    "deletable": false,
    "editable": false,
    "nbgrader": {
     "grade": false,
     "locked": true,
     "solution": false
    }
   },
   "source": [
    "#### Your solution below:"
   ]
  },
  {
   "cell_type": "code",
   "execution_count": 124,
   "metadata": {
    "cellIdentifier": "sfic5c2gw18sm4erjcq44",
    "collapsed": true,
    "jupyter": {
     "outputs_hidden": true
    }
   },
   "outputs": [
    {
     "name": "stdout",
     "output_type": "stream",
     "text": [
      "0\n",
      "1.0\n",
      "1.5497677311665408\n"
     ]
    }
   ],
   "source": [
    "def sum_of_series(n):\n",
    "    sum = 0\n",
    "\n",
    "    for i in range(1, n+1):\n",
    "        denomenator = i**2\n",
    "        sum += fraction(1, denomenator)\n",
    "    return sum\n",
    "\n",
    "a = sum_of_series(0)\n",
    "print(a)\n",
    "a = sum_of_series(1)\n",
    "print(a)\n",
    "a = sum_of_series(10)\n",
    "print(a)"
   ]
  },
  {
   "cell_type": "markdown",
   "metadata": {
    "cellIdentifier": "2zo679xajcbs1dtv5fcdqs",
    "deletable": false,
    "editable": false,
    "nbgrader": {
     "grade": false,
     "locked": true,
     "solution": false
    }
   },
   "source": [
    "#### Hidden test cases:"
   ]
  },
  {
   "cell_type": "code",
   "execution_count": 125,
   "metadata": {
    "cellIdentifier": "t9tx0l6htfmfpcj2vcvzhu",
    "collapsed": true,
    "deletable": false,
    "editable": false,
    "jupyter": {
     "outputs_hidden": true
    },
    "nbgrader": {
     "grade": true,
     "grade_id": "3.02test1",
     "locked": true,
     "points": "1",
     "solution": false
    }
   },
   "outputs": [],
   "source": [
    "###\n",
    "### AUTOGRADER TEST - DO NOT REMOVE\n",
    "###\n"
   ]
  },
  {
   "cell_type": "code",
   "execution_count": 126,
   "metadata": {
    "cellIdentifier": "u3zl6ggd2j86fy3jmh78",
    "collapsed": true,
    "deletable": false,
    "editable": false,
    "jupyter": {
     "outputs_hidden": true
    },
    "nbgrader": {
     "grade": true,
     "grade_id": "3.02test2",
     "locked": true,
     "points": "1",
     "solution": false
    }
   },
   "outputs": [],
   "source": [
    "###\n",
    "### AUTOGRADER TEST - DO NOT REMOVE\n",
    "###\n"
   ]
  },
  {
   "cell_type": "code",
   "execution_count": 127,
   "metadata": {
    "cellIdentifier": "yc2502ksnxcethtk01rdme",
    "collapsed": true,
    "deletable": false,
    "editable": false,
    "jupyter": {
     "outputs_hidden": true
    },
    "nbgrader": {
     "grade": true,
     "grade_id": "3.02test3",
     "locked": true,
     "points": "1",
     "solution": false
    }
   },
   "outputs": [],
   "source": [
    "###\n",
    "### AUTOGRADER TEST - DO NOT REMOVE\n",
    "###\n"
   ]
  },
  {
   "cell_type": "code",
   "execution_count": 128,
   "metadata": {
    "cellIdentifier": "pmw3g7pq20kmgsnhnwhhx",
    "collapsed": true,
    "deletable": false,
    "editable": false,
    "jupyter": {
     "outputs_hidden": true
    },
    "nbgrader": {
     "grade": true,
     "grade_id": "3.02test4",
     "locked": true,
     "points": "1",
     "solution": false
    }
   },
   "outputs": [],
   "source": [
    "###\n",
    "### AUTOGRADER TEST - DO NOT REMOVE\n",
    "###\n"
   ]
  },
  {
   "cell_type": "code",
   "execution_count": 129,
   "metadata": {
    "cellIdentifier": "vd52af9gjktj7blvr7p98",
    "collapsed": true,
    "deletable": false,
    "editable": false,
    "jupyter": {
     "outputs_hidden": true
    },
    "nbgrader": {
     "grade": true,
     "grade_id": "3.02test5",
     "locked": true,
     "points": "1",
     "solution": false
    }
   },
   "outputs": [],
   "source": [
    "###\n",
    "### AUTOGRADER TEST - DO NOT REMOVE\n",
    "###\n"
   ]
  },
  {
   "cell_type": "markdown",
   "metadata": {
    "cellIdentifier": "0f8fc0z2klqfxihilwv71v",
    "deletable": false,
    "editable": false,
    "nbgrader": {
     "grade": false,
     "locked": true,
     "solution": false
    }
   },
   "source": [
    "### Problem 3.03  ```is_prime(n)```"
   ]
  },
  {
   "cell_type": "markdown",
   "metadata": {
    "cellIdentifier": "1dkkr8muqpglmnpka70hc",
    "deletable": false,
    "editable": false,
    "nbgrader": {
     "grade": false,
     "locked": true,
     "solution": false
    }
   },
   "source": [
    "A number is a prime number if it is divisible only by 1 and itself. \n",
    "\n",
    "This function takes in an integer ```n``` that is 2 or larger.\n",
    "\n",
    "It returns ```True``` if ```n``` is prime, ```False``` otherwise.\n",
    "\n",
    "There are many algorithms available. Here's one based on the following ideas.\n",
    "\n",
    "* As long as you find a number other than ```n``` that can divide it, ```n``` is not a prime number. \n",
    "* However, you need to check all numbers from 2 to ```n``` itself to show that ```n``` is a prime number. \n",
    "\n",
    "\n",
    "\n",
    "---\n",
    "> #### Algorithm 1 - Correct\n",
    ">\n",
    "> 1. for each number ```i``` from ```2``` to ```n-1```    \n",
    ">   a. if ```n``` is divisible by ```i```, return ```False```\n",
    ">\n",
    "> 2. return ```True```\n",
    "\n",
    "---\n",
    "\n",
    "For **Algorithm 1**:\n",
    "- Can you think of the reason for each step? \n",
    "- Is it actually necessary to iterate all the way to ```n-1```? Why? \n",
    "\n",
    "---\n",
    "> #### Consider - the following algorithm is wrong. Why? \n",
    ">\n",
    "> 1. for each number ```i``` from ```2``` to ```n-1```    \n",
    ">   a. if ```n``` is divisible by ```i```, return ```False```,\n",
    ">\n",
    ">   b. else, return ```True```\n",
    ">\n",
    "---\n",
    "\n",
    "Some test cases are given below, please come up with others on your own. "
   ]
  },
  {
   "cell_type": "markdown",
   "metadata": {
    "cellIdentifier": "68i7wwopso8gtsnv067p8v",
    "deletable": false,
    "editable": false,
    "nbgrader": {
     "grade": false,
     "locked": true,
     "solution": false
    }
   },
   "source": [
    "#### your solution below:"
   ]
  },
  {
   "cell_type": "code",
   "execution_count": 10,
   "metadata": {
    "cellIdentifier": "bjmz5opoistyvclqzr67h",
    "collapsed": true,
    "jupyter": {
     "outputs_hidden": true
    }
   },
   "outputs": [
    {
     "name": "stdout",
     "output_type": "stream",
     "text": [
      "False\n",
      "True\n"
     ]
    }
   ],
   "source": [
    "import math\n",
    "\n",
    "def is_prime(n):\n",
    "    if (n < 2):\n",
    "        return\n",
    "    half = math.ceil(n/2)\n",
    "    for i in range(2, half):\n",
    "        if ((n%i) == 0):\n",
    "            return False\n",
    "    return True\n",
    "\n",
    "print(is_prime(15))\n",
    "print(is_prime(17))"
   ]
  },
  {
   "cell_type": "code",
   "execution_count": 131,
   "metadata": {
    "cellIdentifier": "dur8mjdopm95cl50v09foe",
    "collapsed": true,
    "deletable": false,
    "editable": false,
    "jupyter": {
     "outputs_hidden": true
    },
    "nbgrader": {
     "grade": true,
     "grade_id": "3.03test1",
     "locked": true,
     "points": "1",
     "solution": false
    }
   },
   "outputs": [],
   "source": [
    "###\n",
    "### AUTOGRADER TEST - DO NOT REMOVE\n",
    "###\n"
   ]
  },
  {
   "cell_type": "code",
   "execution_count": 132,
   "metadata": {
    "cellIdentifier": "r0c0si3refb0pm5tjbhqsn",
    "collapsed": true,
    "deletable": false,
    "editable": false,
    "jupyter": {
     "outputs_hidden": true
    },
    "nbgrader": {
     "grade": true,
     "grade_id": "3.03test2",
     "locked": true,
     "points": "1",
     "solution": false
    }
   },
   "outputs": [],
   "source": [
    "###\n",
    "### AUTOGRADER TEST - DO NOT REMOVE\n",
    "###\n"
   ]
  },
  {
   "cell_type": "code",
   "execution_count": 133,
   "metadata": {
    "cellIdentifier": "bfg8qujmj8mq0fjldmcm5",
    "collapsed": true,
    "deletable": false,
    "editable": false,
    "jupyter": {
     "outputs_hidden": true
    },
    "nbgrader": {
     "grade": true,
     "grade_id": "3.03test3",
     "locked": true,
     "points": "1",
     "solution": false
    }
   },
   "outputs": [],
   "source": [
    "###\n",
    "### AUTOGRADER TEST - DO NOT REMOVE\n",
    "###\n"
   ]
  },
  {
   "cell_type": "code",
   "execution_count": 134,
   "metadata": {
    "cellIdentifier": "x8bmi4ybb8ayi6f1xo4q0n",
    "collapsed": true,
    "deletable": false,
    "editable": false,
    "jupyter": {
     "outputs_hidden": true
    },
    "nbgrader": {
     "grade": true,
     "grade_id": "3.03test4",
     "locked": true,
     "points": "1",
     "solution": false
    }
   },
   "outputs": [],
   "source": [
    "###\n",
    "### AUTOGRADER TEST - DO NOT REMOVE\n",
    "###\n"
   ]
  },
  {
   "cell_type": "markdown",
   "metadata": {
    "cellIdentifier": "lh0ubwhvlp09qm5zg4o0nx",
    "deletable": false,
    "editable": false,
    "nbgrader": {
     "grade": false,
     "locked": true,
     "solution": false
    }
   },
   "source": [
    "### Problem 3.04 ```binomial_coefficient(n,k)```"
   ]
  },
  {
   "cell_type": "markdown",
   "metadata": {
    "cellIdentifier": "979pshrrcrk8w5nbii2c96",
    "deletable": false,
    "editable": false,
    "nbgrader": {
     "grade": false,
     "locked": true,
     "solution": false
    }
   },
   "source": [
    "The **binomial coefficient** is given by \n",
    "\n",
    "\\begin{equation}\n",
    "\\left( \\begin{matrix}\n",
    "n \\\\\n",
    "k\n",
    "\\end{matrix} \\right) = \n",
    "\\frac{n!}{k!(n-k!)} \n",
    "\\end{equation}\n",
    "\n",
    "For example, \"7 choose 3\" ( where $n$ = 7 and $k$ = 3) is\n",
    "\\begin{equation}\n",
    "\\left( \\begin{matrix}\n",
    "7 \\\\\n",
    "3\n",
    "\\end{matrix} \\right) = \n",
    "\\frac{7!}{3!(7-3)!} = 35\n",
    "\\end{equation} \n",
    "\n",
    "**```factorial(n)```** You will first need to write a ```factorial``` function which takes in an integer ```n``` that is 0 or larger and returns the value of $n!$. \n",
    "\n",
    "Notice that the calculation for factorial (e.g. $1\\times2\\times3$) and sum of series(e.g. $1+2+3$) is very similar. Thus, a similar algorithm can be used for calculating the factorial, but for some differences. What are these differences?\n",
    "\n",
    "----\n",
    "\n",
    "1. initialize ```total``` to be  1\n",
    "   \n",
    "2. for values of ```i``` from 1 up to and including ```n```\n",
    "   \n",
    "   a. multiply ```total``` by ```i``` and update its value\n",
    "   \n",
    "-----\n",
    "\n",
    "\n",
    "Test cases: \n",
    "\n",
    "```python\n",
    "print( factorial(0) )\n",
    "print( factorial(1) )\n",
    "print( factorial(4) )\n",
    "```\n",
    "Result:\n",
    "```python\n",
    "1\n",
    "1\n",
    "24\n",
    "```\n",
    "\n",
    "\n",
    "\n",
    "**```binomial_coefficient(n,k)```** The function ```binomial_coefficient``` takes in two positive integers ```n``` and ```k``` and returns the binomial coefficient. It is also guaranteed that ```n``` will be larger than or equal to ```k```. Thus you do not need to write code in your function to check that these are fulfilled. Use the ```factorial()``` function in the body of this function. **IMPORTANT** Since your solution here depends on the ```factorial``` function, you must ensure that your ```factorial``` function is correct before working on this part. \n",
    "\n",
    "Test cases: \n",
    "\n",
    "```python\n",
    "print( binomial_coefficient( 7, 3) )\n",
    "print( binomial_coefficient( 7, 7) )\n",
    "```\n",
    "Result:\n",
    "```python\n",
    "35\n",
    "1\n",
    "```\n",
    "\n"
   ]
  },
  {
   "cell_type": "code",
   "execution_count": 135,
   "metadata": {
    "cellIdentifier": "9jcgd2xlamuthnrde0umht",
    "nbgrader": {
     "grade": false,
     "grade_id": "3.04atest1",
     "locked": false,
     "points": "1",
     "solution": false
    }
   },
   "outputs": [
    {
     "name": "stdout",
     "output_type": "stream",
     "text": [
      "35.0\n",
      "1.0\n"
     ]
    }
   ],
   "source": [
    "def factorial(n):\n",
    "    total = 1\n",
    "    \n",
    "    for i in range(1, n+1):\n",
    "        total *= i\n",
    "    return total\n",
    "\n",
    "def binomial_coefficient(n, k):\n",
    "    numerator = factorial(n)\n",
    "    denominator = factorial(k) * factorial(n-k)\n",
    "    return fraction(numerator,denominator)\n",
    "\n",
    "print( binomial_coefficient( 7, 3) )\n",
    "print( binomial_coefficient( 7, 7) )\n"
   ]
  },
  {
   "cell_type": "code",
   "execution_count": 136,
   "metadata": {
    "cellIdentifier": "67sbi0551ye0hfbriblmpb",
    "deletable": false,
    "editable": false,
    "nbgrader": {
     "grade": true,
     "grade_id": "3.04atest1",
     "locked": true,
     "points": "1",
     "solution": false
    }
   },
   "outputs": [],
   "source": [
    "###\n",
    "### AUTOGRADER TEST - DO NOT REMOVE\n",
    "###\n"
   ]
  },
  {
   "cell_type": "code",
   "execution_count": 137,
   "metadata": {
    "cellIdentifier": "llz6mlzxfukciza2k05pwq",
    "deletable": false,
    "editable": false,
    "nbgrader": {
     "grade": true,
     "grade_id": "3.04atest2",
     "locked": true,
     "points": "1",
     "solution": false
    }
   },
   "outputs": [],
   "source": [
    "###\n",
    "### AUTOGRADER TEST - DO NOT REMOVE\n",
    "###\n"
   ]
  },
  {
   "cell_type": "code",
   "execution_count": 138,
   "metadata": {
    "cellIdentifier": "85za6r16k0cjtux95o05ia",
    "deletable": false,
    "editable": false,
    "nbgrader": {
     "grade": true,
     "grade_id": "3.04atest3",
     "locked": true,
     "points": "1",
     "solution": false
    }
   },
   "outputs": [],
   "source": [
    "###\n",
    "### AUTOGRADER TEST - DO NOT REMOVE\n",
    "###\n"
   ]
  },
  {
   "cell_type": "code",
   "execution_count": 139,
   "metadata": {
    "cellIdentifier": "7c9nfa3tf7icl9a7s5f8mi",
    "deletable": false,
    "editable": false,
    "nbgrader": {
     "grade": true,
     "grade_id": "3.04atest4",
     "locked": true,
     "points": "1",
     "solution": false
    }
   },
   "outputs": [],
   "source": [
    "###\n",
    "### AUTOGRADER TEST - DO NOT REMOVE\n",
    "###\n"
   ]
  },
  {
   "cell_type": "markdown",
   "metadata": {
    "cellIdentifier": "k0eygexlude4zd9iaftfj9",
    "colab_type": "text",
    "deletable": false,
    "editable": false,
    "id": "qXZVnFFUJ9Q6",
    "nbgrader": {
     "grade": false,
     "locked": true,
     "solution": false
    }
   },
   "source": [
    "\n",
    "\n",
    "\n",
    "\n",
    "\n"
   ]
  },
  {
   "cell_type": "markdown",
   "metadata": {
    "cellIdentifier": "htzvbi7iycqq934doe6au9",
    "deletable": false,
    "editable": false,
    "nbgrader": {
     "grade": false,
     "locked": true,
     "solution": false
    }
   },
   "source": [
    "### Problem 3.05a ```calculate_sum_even(n)```"
   ]
  },
  {
   "cell_type": "markdown",
   "metadata": {
    "cellIdentifier": "54n59tn4lsgk7fkq0fzc3g",
    "deletable": false,
    "editable": false,
    "nbgrader": {
     "grade": false,
     "locked": true,
     "solution": false
    }
   },
   "source": [
    "This function returns the sum of all positive even numbers, from 2 up to, but not including ```n```. \n",
    "\n",
    "You can assume that ```n``` is a positive integer.\n",
    "\n",
    "For example, ```calculate_sum_even(11)``` and ```calculate_sum_even(12)``` both return the value of  $2+4+6+8+10$, while ```calculate_sum_even(13)``` returns the value of $2+4+6+8+10+12$. \n",
    "\n",
    "This question is meant for you to practise writing while-loops, thus avoid your for-loop solution in Problem 3.00a and avoid using the sum of series formula. \n",
    "\n",
    "```python\n",
    "print( calculate_sum_even(11) )\n",
    "print( calculate_sum_even(12) )\n",
    "print( calculate_sum_even(13) )\n",
    "```\n",
    "\n",
    "gives \n",
    "\n",
    "```\n",
    "30\n",
    "30\n",
    "42\n",
    "```"
   ]
  },
  {
   "cell_type": "code",
   "execution_count": 140,
   "metadata": {
    "cellIdentifier": "6wdol2euo9obddfs1fbwkt",
    "collapsed": true,
    "jupyter": {
     "outputs_hidden": true
    }
   },
   "outputs": [
    {
     "name": "stdout",
     "output_type": "stream",
     "text": [
      "30\n",
      "30\n",
      "42\n",
      "90\n",
      "156\n",
      "\n",
      "for loop function\n",
      "30\n",
      "30\n",
      "42\n",
      "90\n",
      "156\n"
     ]
    }
   ],
   "source": [
    "def calculate_sum(n, i):\n",
    "    sum = 0\n",
    "    for i in range(0, n, i):\n",
    "        sum += i\n",
    "    return sum\n",
    "\n",
    "def calculate_sum_even(n):\n",
    "    if (n < 0):\n",
    "        return\n",
    "    result = calculate_sum(n, 2)\n",
    "    return result\n",
    "\n",
    "def calculate_sum_even2(n):\n",
    "    total = 0\n",
    "    i = n\n",
    "\n",
    "    if (n < 0):\n",
    "        return\n",
    "    while i > 0:\n",
    "        i -= 1\n",
    "        if ((i%2) == 0):\n",
    "            total += i\n",
    "    return total\n",
    "\n",
    "print( calculate_sum_even2(11) )\n",
    "print( calculate_sum_even2(12) )\n",
    "print( calculate_sum_even2(13) )\n",
    "print(calculate_sum_even2(19))\n",
    "print(calculate_sum_even2(25))\n",
    "\n",
    "print('\\nfor loop function')\n",
    "print( calculate_sum_even(11) )\n",
    "print( calculate_sum_even(12) )\n",
    "print( calculate_sum_even(13) )\n",
    "print(calculate_sum_even(19))\n",
    "print(calculate_sum_even(25))"
   ]
  },
  {
   "cell_type": "code",
   "execution_count": 141,
   "metadata": {
    "cellIdentifier": "1qggs4nu2if2y9aks10gb6",
    "collapsed": true,
    "deletable": false,
    "editable": false,
    "jupyter": {
     "outputs_hidden": true
    },
    "nbgrader": {
     "grade": true,
     "grade_id": "3.05atest1",
     "locked": true,
     "points": "1",
     "solution": false
    }
   },
   "outputs": [],
   "source": [
    "###\n",
    "### AUTOGRADER TEST - DO NOT REMOVE\n",
    "###\n"
   ]
  },
  {
   "cell_type": "code",
   "execution_count": 142,
   "metadata": {
    "cellIdentifier": "3ed05us0sageulxcr12c9g",
    "collapsed": true,
    "deletable": false,
    "editable": false,
    "jupyter": {
     "outputs_hidden": true
    },
    "nbgrader": {
     "grade": true,
     "grade_id": "3.05atest2",
     "locked": true,
     "points": "1",
     "solution": false
    }
   },
   "outputs": [],
   "source": [
    "###\n",
    "### AUTOGRADER TEST - DO NOT REMOVE\n",
    "###\n"
   ]
  },
  {
   "cell_type": "markdown",
   "metadata": {
    "cellIdentifier": "xe0tyc7pnkfjlhyn4zosl",
    "deletable": false,
    "editable": false,
    "nbgrader": {
     "grade": false,
     "locked": true,
     "solution": false
    }
   },
   "source": [
    "### Problem 3.05b ```alternating_while(stop)```"
   ]
  },
  {
   "cell_type": "markdown",
   "metadata": {
    "cellIdentifier": "xdpg1zxn7xe93nmp3ribpd",
    "deletable": false,
    "editable": false,
    "nbgrader": {
     "grade": false,
     "locked": true,
     "solution": false
    }
   },
   "source": [
    "This function takes in a positive integer ```n``` and returns the sum of the following series $S_n$, <font color=\"red\">as long as the absolute value of each term is larger than ```stop```</font>.\n",
    "    \n",
    "You can assume that ```stop``` is a float value and 0 < ```stop``` < 1.\n",
    "\n",
    "You need not round the output. \n",
    "\n",
    "\\begin{equation}\n",
    "S_n = 1 -\\frac{1}{2} + \\frac{1}{3} - \\frac{1}{4} + ... + \\frac{(-1)^{n+1}}{n} + ...\n",
    "\\end{equation}\n",
    "\n",
    "For example, if ```stop = 0.249```, then $S_n$ is evaluated with only four terms. \n",
    "\n",
    "\\begin{equation}\n",
    "S_n  = 1 -\\frac{1}{2} + \\frac{1}{3} - \\frac{1}{4} \n",
    "\\end{equation}\n",
    "\n",
    "For example, if ```stop = 0.199```, then $S_n$ is evaluated with only five terms. \n",
    "\n",
    "\\begin{equation}\n",
    "S_n  = 1 -\\frac{1}{2} + \\frac{1}{3} - \\frac{1}{4} + \\frac{1}{5} \n",
    "\\end{equation}\n",
    "\n",
    "The built-in function ```abs()``` is useful. You should use a ```while``` loop.\n",
    "\n",
    "Test cases:\n",
    "\n",
    "```python\n",
    "print( alternating_while(0.249) )\n",
    "print( alternating_while(0.199) )\n",
    "```\n",
    "\n",
    "gives \n",
    "\n",
    "```\n",
    "0.5833333333333333\n",
    "0.7833333333333332\n",
    "```"
   ]
  },
  {
   "cell_type": "code",
   "execution_count": 143,
   "metadata": {
    "cellIdentifier": "ffszl40vi43unai8extiy",
    "collapsed": true,
    "jupyter": {
     "outputs_hidden": true
    }
   },
   "outputs": [
    {
     "name": "stdout",
     "output_type": "stream",
     "text": [
      "0.5833333333333333\n",
      "0.7833333333333332\n"
     ]
    }
   ],
   "source": [
    "def alternating_while(stop):\n",
    "    total = 0\n",
    "    n = 1\n",
    "    term = 1\n",
    "    while abs(term) > stop:\n",
    "        total += term\n",
    "        n += 1\n",
    "        term = fraction((-1)**(n+1), n)\n",
    "    return total\n",
    "\n",
    "print(alternating_while(0.249))\n",
    "print( alternating_while(0.199) )"
   ]
  },
  {
   "cell_type": "code",
   "execution_count": 144,
   "metadata": {
    "cellIdentifier": "t6gy8x3jfwesofp5ydr6qt",
    "collapsed": true,
    "deletable": false,
    "editable": false,
    "jupyter": {
     "outputs_hidden": true
    },
    "nbgrader": {
     "grade": true,
     "grade_id": "3.05btest1",
     "locked": true,
     "points": "1",
     "solution": false
    }
   },
   "outputs": [],
   "source": [
    "###\n",
    "### AUTOGRADER TEST - DO NOT REMOVE\n",
    "###\n"
   ]
  },
  {
   "cell_type": "code",
   "execution_count": 145,
   "metadata": {
    "cellIdentifier": "4oztnjgeb7vgnnlgex5739",
    "collapsed": true,
    "deletable": false,
    "editable": false,
    "jupyter": {
     "outputs_hidden": true
    },
    "nbgrader": {
     "grade": true,
     "grade_id": "3.05btest2",
     "locked": true,
     "points": "1",
     "solution": false
    }
   },
   "outputs": [],
   "source": [
    "###\n",
    "### AUTOGRADER TEST - DO NOT REMOVE\n",
    "###\n"
   ]
  },
  {
   "cell_type": "code",
   "execution_count": 146,
   "metadata": {
    "cellIdentifier": "bwvrifzv5mbnyoyqahcbn",
    "collapsed": true,
    "deletable": false,
    "editable": false,
    "jupyter": {
     "outputs_hidden": true
    },
    "nbgrader": {
     "grade": true,
     "grade_id": "3.05btest3",
     "locked": true,
     "points": "1",
     "solution": false
    }
   },
   "outputs": [],
   "source": [
    "###\n",
    "### AUTOGRADER TEST - DO NOT REMOVE\n",
    "###\n"
   ]
  },
  {
   "cell_type": "markdown",
   "metadata": {
    "cellIdentifier": "7qmi57erv496cjqm0bch56",
    "deletable": false,
    "editable": false,
    "nbgrader": {
     "grade": false,
     "locked": true,
     "solution": false
    }
   },
   "source": [
    "### Problem 3.06 The number of terms required"
   ]
  },
  {
   "cell_type": "markdown",
   "metadata": {
    "cellIdentifier": "3g77n2fs48v0n438zw5nibr",
    "deletable": false,
    "editable": false,
    "nbgrader": {
     "grade": false,
     "locked": true,
     "solution": false
    }
   },
   "source": [
    "For the series $S_n$ in Problem 3.02, as $n$ tends to infinity, the value of $S_n$ tends to $\\frac{\\pi^2}{6}$.\n",
    "\n",
    "This question also illustrates to you the concept of **modularity**, which is how we might use functions to \n",
    "- break a problem into smaller parts  \n",
    "- reuse code written earlier  \n",
    "\n",
    "Write the following functions. \n",
    "\n",
    "- ```def sum_of_series(n)``` \n",
    "Use your solution in Problem 3.02\n",
    "\n",
    "- ```def fraction_of_pisq(s)```\n",
    "This function takes in a value ```s``` and returns the value of ```s``` divided by $\\frac{\\pi^2}{6}$. No rounding is needed. \n",
    "\n",
    "- ```def terms_required(p)```\n",
    "This function returns the number of terms required to achieve a sum that is equal or larger than a fraction ```p``` of $\\frac{\\pi^2}{6}$. As far as possible, use the two functions above in your solution. \n",
    "\n",
    "Here is a suggested algorithm for ```terms_required()```. \n",
    "- Can you think about the reason for each step?\n",
    "- At which steps do you execute the other functions that you wrote? \n",
    "\n",
    "--- \n",
    "\n",
    "> #### Algorithm\n",
    ">\n",
    "> 1. assign 0 to ```n``` \n",
    "> 2. assign 0 to ```frac``` \n",
    "> 3. while ```frac``` is less than ```p```      \n",
    ">    a. increase ```n``` by 1    \n",
    ">    b. calculate the sum of series for ```n``` terms    \n",
    ">    c. from the result of part b., calculate the sum as a fraction of $\\frac{\\pi^2}{6}$ and assign the result to ```frac``` \n",
    "\n",
    "---\n",
    "\n",
    "Test Cases:\n",
    "\n",
    "```python \n",
    "solution = sum_of_series(6)\n",
    "print(solution)\n",
    "fraction = fraction_of_pisq(1.5)\n",
    "print(fraction)\n",
    "n_terms = terms_required(0.9)\n",
    "print(n_terms)\n",
    "```\n",
    "\n",
    "```\n",
    "1.4913888888888889\n",
    "0.91189065278104 \n",
    "6\n",
    "```\n",
    "\n",
    "---\n",
    "\n",
    "> #### Consider\n",
    "> \n",
    "> Some of you may notice that this solution uses more iterations than necessary. Writing a more efficient solution is left to you as an exercise. \n",
    ">\n",
    "\n",
    "---\n"
   ]
  },
  {
   "cell_type": "markdown",
   "metadata": {
    "cellIdentifier": "7y3152jk8gkdvgrf2ay6mw",
    "deletable": false,
    "editable": false,
    "nbgrader": {
     "grade": false,
     "locked": true,
     "solution": false
    }
   },
   "source": [
    "#### Your solution below "
   ]
  },
  {
   "cell_type": "code",
   "execution_count": 9,
   "metadata": {
    "cellIdentifier": "4oh2mrzr0goazho8i23k4f"
   },
   "outputs": [
    {
     "name": "stdout",
     "output_type": "stream",
     "text": [
      "1.4913888888888889\n",
      "0.91189065278104\n",
      "6\n"
     ]
    }
   ],
   "source": [
    "import math\n",
    "\n",
    "def sum_of_series(n):\n",
    "    sum = 0\n",
    "    for i in range(1, n+1):\n",
    "        denominator = i**2\n",
    "        sum += 1/denominator\n",
    "    return sum\n",
    "    \n",
    "def fraction_of_pisq(s):\n",
    "    return s/((math.pi**2)/6)\n",
    "    \n",
    "def terms_required(p):\n",
    "    frac = 0\n",
    "    n = 0\n",
    "\n",
    "    while frac < p:\n",
    "        n += 1\n",
    "        term = sum_of_series(n)\n",
    "        frac = fraction_of_pisq(term)\n",
    "    return n\n",
    "\n",
    "solution = sum_of_series(6)\n",
    "print(solution)\n",
    "fraction = fraction_of_pisq(1.5)\n",
    "print(fraction)\n",
    "n_terms = terms_required(0.9)\n",
    "print(n_terms)"
   ]
  },
  {
   "cell_type": "code",
   "execution_count": null,
   "metadata": {},
   "outputs": [],
   "source": []
  },
  {
   "cell_type": "code",
   "execution_count": 0,
   "metadata": {
    "cellIdentifier": "8dduk7qs6qwrdshv1i5fq",
    "deletable": false,
    "editable": false,
    "nbgrader": {
     "grade": true,
     "grade_id": "3.06test1",
     "locked": true,
     "points": "1",
     "solution": false
    }
   },
   "outputs": [],
   "source": [
    "###\n",
    "### AUTOGRADER TEST - DO NOT REMOVE\n",
    "###\n"
   ]
  },
  {
   "cell_type": "code",
   "execution_count": 0,
   "metadata": {
    "cellIdentifier": "ckye5egp5qbh985fxc8cx",
    "deletable": false,
    "editable": false,
    "nbgrader": {
     "grade": true,
     "grade_id": "3.06test2",
     "locked": true,
     "points": "1",
     "solution": false
    }
   },
   "outputs": [],
   "source": [
    "###\n",
    "### AUTOGRADER TEST - DO NOT REMOVE\n",
    "###\n"
   ]
  },
  {
   "cell_type": "code",
   "execution_count": 0,
   "metadata": {
    "cellIdentifier": "uwh5hkrjc4cr15jpgbngpn",
    "deletable": false,
    "editable": false,
    "nbgrader": {
     "grade": true,
     "grade_id": "3.06test3",
     "locked": true,
     "points": "1",
     "solution": false
    }
   },
   "outputs": [],
   "source": [
    "###\n",
    "### AUTOGRADER TEST - DO NOT REMOVE\n",
    "###\n"
   ]
  },
  {
   "cell_type": "code",
   "execution_count": 0,
   "metadata": {
    "cellIdentifier": "edztude03g90ayyu5e2bsi",
    "deletable": false,
    "editable": false,
    "nbgrader": {
     "grade": true,
     "grade_id": "3.06test4",
     "locked": true,
     "points": "1",
     "solution": false
    }
   },
   "outputs": [],
   "source": [
    "###\n",
    "### AUTOGRADER TEST - DO NOT REMOVE\n",
    "###\n"
   ]
  },
  {
   "cell_type": "code",
   "execution_count": 0,
   "metadata": {
    "cellIdentifier": "dw41ktjpfaoe778gdxcpp",
    "deletable": false,
    "editable": false,
    "nbgrader": {
     "grade": true,
     "grade_id": "3.06test5",
     "locked": true,
     "points": "1",
     "solution": false
    }
   },
   "outputs": [],
   "source": [
    "###\n",
    "### AUTOGRADER TEST - DO NOT REMOVE\n",
    "###\n"
   ]
  }
 ],
 "metadata": {
  "colab": {
   "name": "Lesson 3.ipynb",
   "provenance": []
  },
  "kernelspec": {
   "display_name": "base",
   "language": "python",
   "name": "python3"
  },
  "language_info": {
   "codemirror_mode": {
    "name": "ipython",
    "version": 3
   },
   "file_extension": ".py",
   "mimetype": "text/x-python",
   "name": "python",
   "nbconvert_exporter": "python",
   "pygments_lexer": "ipython3",
   "version": "3.11.5"
  }
 },
 "nbformat": 4,
 "nbformat_minor": 4
}
