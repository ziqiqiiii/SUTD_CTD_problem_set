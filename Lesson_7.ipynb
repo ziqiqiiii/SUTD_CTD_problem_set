{
 "cells": [
  {
   "cell_type": "markdown",
   "metadata": {
    "cellIdentifier": "4mfjlj2evnk6vz9c5xe4k5",
    "colab_type": "text",
    "deletable": false,
    "editable": false,
    "id": "J_cLQuljKEaA",
    "nbgrader": {
     "grade": false,
     "locked": true,
     "solution": false
    }
   },
   "source": [
    "### 10.014 Computational Thinking For Design, Fall 2024\n",
    "\n",
    "## Problem Set 7\n",
    "\n",
    "© Singapore University of Technology and Design, 2024      \n"
   ]
  },
  {
   "cell_type": "markdown",
   "metadata": {
    "cellIdentifier": "ewzylw4rkmptuqqfgyml8f",
    "deletable": false,
    "editable": false,
    "nbgrader": {
     "grade": false,
     "locked": true,
     "solution": false
    }
   },
   "source": [
    "### Problem 7.00 ```class Circle```"
   ]
  },
  {
   "cell_type": "markdown",
   "metadata": {
    "cellIdentifier": "nlw0nm6xqkigdde9z1vdg",
    "deletable": false,
    "editable": false,
    "nbgrader": {
     "grade": false,
     "locked": true,
     "solution": false
    }
   },
   "source": [
    "Recall that a circle can be defined by its radius.\n",
    "\n",
    "Write a class definition for a ```Circle``` class. This is meant to represent information needed for a circle.\n",
    "\n",
    "  - the ```__init__()``` method takes in one parameter, ```r``` and initializes the instance variable ```self.radius```. You can assume that ```r``` is always a numerical value.\n",
    "  - It has a method ```get_perimeter()``` that returns the perimeter of the circle.\n",
    "  - It has a method ```get_area()``` that returns the area of the circle.\n",
    "\n",
    "There is no need to do any rounding in the code.\n",
    "\n",
    "\n",
    "**Test Cases 1**\n",
    "```python\n",
    "import math\n",
    "a = Circle(5.0)\n",
    "print(a.radius)\n",
    "print(a.get_perimeter())\n",
    "print(a.get_area())\n",
    "```\n",
    "\n",
    "output:  \n",
    "\n",
    "```python\n",
    "5.0\n",
    "31.41592653589793\n",
    "78.53981633974483\n",
    "```"
   ]
  },
  {
   "cell_type": "code",
   "execution_count": 1,
   "metadata": {
    "cellIdentifier": "etpkv8ystv6fuc7ilioub"
   },
   "outputs": [
    {
     "name": "stdout",
     "output_type": "stream",
     "text": [
      "5.0\n",
      "31.41592653589793\n",
      "78.53981633974483\n"
     ]
    }
   ],
   "source": [
    "import math\n",
    "\n",
    "class Circle:\n",
    "\n",
    "    def __init__(self, r):\n",
    "        ### the first requirement is done for you\n",
    "        self.radius = r\n",
    "\n",
    "    def get_perimeter(self):\n",
    "        return 2*math.pi*self.radius\n",
    "\n",
    "    def get_area(self):\n",
    "        return math.pi*(self.radius**2)\n",
    "\n",
    "a = Circle(5.0)\n",
    "print(a.radius)\n",
    "print(a.get_perimeter())\n",
    "print(a.get_area())"
   ]
  },
  {
   "cell_type": "code",
   "execution_count": null,
   "metadata": {
    "cellIdentifier": "z112zagvl87dku91nbyu",
    "deletable": false,
    "editable": false,
    "nbgrader": {
     "grade": true,
     "grade_id": "7.00test1",
     "locked": true,
     "points": "1",
     "solution": false
    }
   },
   "outputs": [],
   "source": [
    "###\n",
    "### AUTOGRADER TEST - DO NOT REMOVE\n",
    "###\n"
   ]
  },
  {
   "cell_type": "code",
   "execution_count": null,
   "metadata": {
    "cellIdentifier": "g9y4x39kte5xxtq0gsfvc8",
    "deletable": false,
    "editable": false,
    "nbgrader": {
     "grade": true,
     "grade_id": "7.00test2",
     "locked": true,
     "points": "1",
     "solution": false
    }
   },
   "outputs": [],
   "source": [
    "###\n",
    "### AUTOGRADER TEST - DO NOT REMOVE\n",
    "###\n"
   ]
  },
  {
   "cell_type": "code",
   "execution_count": null,
   "metadata": {
    "cellIdentifier": "t9s10vlfdlpszr1mzz414l",
    "deletable": false,
    "editable": false,
    "nbgrader": {
     "grade": true,
     "grade_id": "7.00test3",
     "locked": true,
     "points": "1",
     "solution": false
    }
   },
   "outputs": [],
   "source": [
    "###\n",
    "### AUTOGRADER TEST - DO NOT REMOVE\n",
    "###\n"
   ]
  },
  {
   "cell_type": "markdown",
   "metadata": {
    "cellIdentifier": "3xwb9fnwtx23mhg9p2e3bt",
    "deletable": false,
    "editable": false,
    "nbgrader": {
     "grade": false,
     "locked": true,
     "solution": false
    }
   },
   "source": [
    "### Problem 7.01 ```class PolarComplex```"
   ]
  },
  {
   "cell_type": "markdown",
   "metadata": {
    "cellIdentifier": "48w0ay92ouom8jqay191q",
    "deletable": false,
    "editable": false,
    "nbgrader": {
     "grade": false,
     "locked": true,
     "solution": false
    }
   },
   "source": [
    "Recall that a complex number can be expressed in several forms, the cartesian form, the trigonometric form, or the polar form. Note that in engineering, we write  $j = \\sqrt{-1}$\n",
    "\n",
    "\\begin{equation}\n",
    "a + jb = R ( cos \\theta + j sin \\theta ) = Re^{j\\theta}\n",
    "\\end{equation}\n",
    "\n",
    "Write a ```PolarComplex``` class that has the following methods. There is no need to round any numerical values. \n",
    "\n",
    "- the ```__init__()``` method takes in two parameters, ```r``` and ```theta``` and initializes the instance attributes ```self._r``` and ```self._theta```. You can assume that ```r``` and ```theta``` are always numerical values. Note that ```theta``` is specified in radians. See Note 1 below.\n",
    "- ```get_modulus()``` instance method returns the value of ```self._r```\n",
    "- ```get_argument()``` instance method returns the value of ```self._theta```\n",
    "- ```get_real()``` instance method returns the value of the real part in the cartesian form\n",
    "- ```get_imaginary()``` instance method returns the value of the imaginary part in the cartesian form \n",
    "- ```get_cartesian_form()``` instance method returns the cartesian form, which is of datatype ```complex```. See Note 2 below. \n",
    "- ```get_polar_form_string()``` instance method returns the polar form in the form of a string formatted using the ```format``` method. In this form, the modulus and argument are displayed with three decimal places. The format of the string is <b><font color=\"blue\">[modulus]</font><font color=\"black\"></b>[space]<b>exp(</b>[space]<b>j*</b></font><b><font color=\"blue\">[argument]</font></b><font color=\"black\">[space]<b>)</font></b>. See test cases below for an example.\n",
    "\n",
    "\n",
    "**Test Cases 1**\n",
    "```python\n",
    "import math \n",
    "a = PolarComplex(5, math.pi/3)\n",
    "print(a.get_modulus())\n",
    "print(a.get_argument())\n",
    "print(a.get_real())\n",
    "print(a.get_imaginary())\n",
    "print(a.get_cartesian_form())\n",
    "```\n",
    "\n",
    "output:\n",
    "\n",
    "```python\n",
    "5\n",
    "1.0471975511965976\n",
    "2.5000000000000004\n",
    "4.330127018922193\n",
    "(2.5000000000000004+4.330127018922193j)\n",
    "```\n",
    "\n",
    "**Test Cases 2**\n",
    "```python \n",
    "import math \n",
    "a = PolarComplex(5, math.pi/3)\n",
    "b = PolarComplex(10/3, math.pi/6)\n",
    "print(a.get_polar_form_string())\n",
    "print(b.get_polar_form_string())\n",
    "```\n",
    "\n",
    "output \n",
    "```python\n",
    "## If 0 < r < 10 and 0 < theta < 2pi, \n",
    "## each string below has length 20.\n",
    "5.000 exp( j*1.047 )\n",
    "3.333 exp( j*0.524 )\n",
    "```\n",
    "\n",
    "------\n",
    "> **Notes** \n",
    "> \n",
    "> 1. Prefixing instance variables with an underscore is a convention among python programmers. It tells users of your class that they should not access these variables directly. That is to say: \n",
    "> ```python\n",
    "> c = PolarComplex(2, 1)\n",
    "> ## DON'T DO THIS (even though you can) BECAUSE THESE ARE INTERNAL VARIABLES \n",
    "> print(c._r, c._theta) \n",
    "> ## You can do this, because I wrote these methods for you to call\n",
    "> print(c.get_modulus(), c.get_argument()) \n",
    "> ```\n",
    "> This is because, as a writer of this class, you may want to have instance variables that are used internally within your class i.e. \"private\" and shouldn't be accessed by whoever instantiates your class. \n",
    "> You'll certainly encounter this concept again in 10.020 Data-Driven World. \n",
    ">\n",
    "> 2. There are two ways of instantiating a ```complex``` class. You can write ```complex(1, 2)``` or write ```1 + 2*1j```. \n",
    "> \n",
    ">\n",
    "------"
   ]
  },
  {
   "cell_type": "code",
   "execution_count": 14,
   "metadata": {
    "cellIdentifier": "r8ej4v89iyj4wrkg4ebp"
   },
   "outputs": [
    {
     "name": "stdout",
     "output_type": "stream",
     "text": [
      "==============================\n",
      "Test Case 1\n",
      "5\n",
      "1.0471975511965976\n",
      "2.5000000000000004\n",
      "4.330127018922193\n",
      "(2.5000000000000004+4.330127018922193j)\n",
      "==============================\n",
      "==============================\n",
      "Test Case 2\n",
      "5.000 exp( j*1.047 )\n",
      "3.333 exp( j*0.524 )\n",
      "==============================\n"
     ]
    }
   ],
   "source": [
    "### Don't forget to import any libraries that you need \n",
    "import cmath\n",
    "\n",
    "class PolarComplex:\n",
    "    \n",
    "    def __init__(self, r, theta):\n",
    "        self._r = r\n",
    "        self._theta = theta\n",
    "\n",
    "    def get_modulus(self):\n",
    "        ### done for you\n",
    "        return self._r\n",
    "\n",
    "    def get_real(self):\n",
    "        ### done for you \n",
    "        return self._r*math.cos(self._theta)\n",
    "    \n",
    "    def get_imaginary(self):\n",
    "        return self._r*math.sin(self._theta)\n",
    "    \n",
    "    def get_argument(self):\n",
    "        return self._theta\n",
    "    \n",
    "    def get_cartesian_form(self):\n",
    "        return complex(self.get_real(), self.get_imaginary())\n",
    "    \n",
    "    def get_polar_form_string(self):\n",
    "        # Convert to polar form\n",
    "        r, theta = cmath.polar(complex(self.get_real(), self.get_imaginary()))\n",
    "        # Format the string\n",
    "        return f\"{r:.3f} exp( j*{theta:.3f} )\"\n",
    "\n",
    "\n",
    "import math \n",
    "\n",
    "print(\"==============================\")\n",
    "print(\"Test Case 1\")\n",
    "a = PolarComplex(5, math.pi/3)\n",
    "print(a.get_modulus())\n",
    "print(a.get_argument())\n",
    "print(a.get_real())\n",
    "print(a.get_imaginary())\n",
    "print(a.get_cartesian_form())\n",
    "print(\"==============================\")\n",
    "\n",
    "print(\"==============================\")\n",
    "print(\"Test Case 2\")\n",
    "a = PolarComplex(5, math.pi/3)\n",
    "b = PolarComplex(10/3, math.pi/6)\n",
    "print(a.get_polar_form_string())\n",
    "print(b.get_polar_form_string())\n",
    "print(\"==============================\")\n"
   ]
  },
  {
   "cell_type": "code",
   "execution_count": null,
   "metadata": {
    "cellIdentifier": "c0ypapwy8mdbqsq4k9zo0h",
    "deletable": false,
    "editable": false,
    "nbgrader": {
     "grade": true,
     "grade_id": "7.01test1",
     "locked": true,
     "points": "1",
     "solution": false
    }
   },
   "outputs": [],
   "source": [
    "###\n",
    "### AUTOGRADER TEST - DO NOT REMOVE\n",
    "###\n"
   ]
  },
  {
   "cell_type": "code",
   "execution_count": null,
   "metadata": {
    "cellIdentifier": "wg7w70kro4sz1hy87krk4l",
    "deletable": false,
    "editable": false,
    "nbgrader": {
     "grade": true,
     "grade_id": "7.01test2",
     "locked": true,
     "points": "1",
     "solution": false
    }
   },
   "outputs": [],
   "source": [
    "###\n",
    "### AUTOGRADER TEST - DO NOT REMOVE\n",
    "###\n"
   ]
  },
  {
   "cell_type": "code",
   "execution_count": null,
   "metadata": {
    "cellIdentifier": "llvfjl6g7afn71unrxx5j",
    "deletable": false,
    "editable": false,
    "nbgrader": {
     "grade": true,
     "grade_id": "7.01test3",
     "locked": true,
     "points": "1",
     "solution": false
    }
   },
   "outputs": [],
   "source": [
    "###\n",
    "### AUTOGRADER TEST - DO NOT REMOVE\n",
    "###\n"
   ]
  },
  {
   "cell_type": "code",
   "execution_count": null,
   "metadata": {
    "cellIdentifier": "9ez1mm1hd3k29n9e54o4f4",
    "deletable": false,
    "editable": false,
    "nbgrader": {
     "grade": true,
     "grade_id": "7.01test4",
     "locked": true,
     "points": "1",
     "solution": false
    }
   },
   "outputs": [],
   "source": [
    "###\n",
    "### AUTOGRADER TEST - DO NOT REMOVE\n",
    "###\n"
   ]
  },
  {
   "cell_type": "code",
   "execution_count": null,
   "metadata": {
    "cellIdentifier": "hd3zkovep3ijrcgqo2cu",
    "deletable": false,
    "editable": false,
    "nbgrader": {
     "grade": true,
     "grade_id": "7.01test5",
     "locked": true,
     "points": "1",
     "solution": false
    }
   },
   "outputs": [],
   "source": [
    "###\n",
    "### AUTOGRADER TEST - DO NOT REMOVE\n",
    "###\n"
   ]
  },
  {
   "cell_type": "code",
   "execution_count": null,
   "metadata": {
    "cellIdentifier": "iv5c89aufo9fj8rgc247g",
    "deletable": false,
    "editable": false,
    "nbgrader": {
     "grade": true,
     "grade_id": "7.01test6",
     "locked": true,
     "points": "1",
     "solution": false
    }
   },
   "outputs": [],
   "source": [
    "###\n",
    "### AUTOGRADER TEST - DO NOT REMOVE\n",
    "###\n"
   ]
  },
  {
   "cell_type": "markdown",
   "metadata": {
    "cellIdentifier": "5c7zr2ms87jcg7aed46ddd",
    "deletable": false,
    "editable": false,
    "nbgrader": {
     "grade": false,
     "locked": true,
     "solution": false
    }
   },
   "source": [
    "### Problem 7.02 ```factorial(n)```"
   ]
  },
  {
   "cell_type": "markdown",
   "metadata": {
    "cellIdentifier": "nx8uvjftn7r8elxdg4bu",
    "deletable": false,
    "editable": false,
    "nbgrader": {
     "grade": false,
     "locked": true,
     "solution": false
    }
   },
   "source": [
    " $n!$ can be determined recursively using the following function.\n",
    "\\begin{equation}\n",
    "factorial(n) =  \\left\\{\n",
    "\\begin{array}{ll}\n",
    "      1 & n = 0 \\\\\n",
    "      n \\times factorial(n - 1)  & n \\geq 1 \\\\\n",
    "\\end{array} \n",
    "\\right. \n",
    "\\end{equation}"
   ]
  },
  {
   "cell_type": "markdown",
   "metadata": {
    "cellIdentifier": "hncmgo1k6dcjxq9ev1gxl",
    "deletable": false,
    "editable": false,
    "nbgrader": {
     "grade": false,
     "locked": true,
     "solution": false
    }
   },
   "source": [
    "Implement this recursive solution in the function ```factorial(n)``` where you can assume that ```n``` is an integer that is 0 or larger. \n",
    "\n",
    "As an exercise, try to implement an iterative version too. \n",
    "\n",
    "\n",
    "**Test cases**\n",
    "```python\n",
    "print(factorial(0), factorial(1), factorial(2), factorial(3) )\n",
    "```\n",
    "display\n",
    "```\n",
    "1 1 2 6\n",
    "```\n"
   ]
  },
  {
   "cell_type": "code",
   "execution_count": 3,
   "metadata": {
    "cellIdentifier": "ckc74mq43bbm6plyfiqe2"
   },
   "outputs": [
    {
     "name": "stdout",
     "output_type": "stream",
     "text": [
      "1 1 2 6\n"
     ]
    }
   ],
   "source": [
    "def factorial(n):\n",
    "    return 1 if n == 0 else n * factorial(n - 1)\n",
    "\n",
    "print(factorial(0), factorial(1), factorial(2), factorial(3) )\n",
    "\n"
   ]
  },
  {
   "cell_type": "code",
   "execution_count": null,
   "metadata": {
    "cellIdentifier": "1cm17u9a6pxajpz0vbb3cs",
    "deletable": false,
    "editable": false,
    "nbgrader": {
     "grade": true,
     "grade_id": "7.02test1",
     "locked": true,
     "points": "1",
     "solution": false
    }
   },
   "outputs": [],
   "source": [
    "###\n",
    "### AUTOGRADER TEST - DO NOT REMOVE\n",
    "###\n"
   ]
  },
  {
   "cell_type": "markdown",
   "metadata": {
    "cellIdentifier": "n5qoa6bg7895o6h7mhku3e",
    "deletable": false,
    "editable": false,
    "nbgrader": {
     "grade": false,
     "locked": true,
     "solution": false
    }
   },
   "source": [
    "### Problem 7.03 Fibonacci Sequence ```fib(n)```"
   ]
  },
  {
   "cell_type": "markdown",
   "metadata": {
    "cellIdentifier": "iw74vfxjq26cos6kwu9og",
    "deletable": false,
    "editable": false,
    "nbgrader": {
     "grade": false,
     "locked": true,
     "solution": false
    }
   },
   "source": [
    "The $n$-th fibonacci number can be determined recursively using the following function.\n",
    "\\begin{equation}\n",
    "fib(n) =  \\left\\{\n",
    "\\begin{array}{ll}\n",
    "      0 & n = 0 \\\\\n",
    "      1 & n = 1 \\\\\n",
    "      fib(n - 1) + fib(n- 2) & n \\geq 2 \\\\\n",
    "\\end{array} \n",
    "\\right. \n",
    "\\end{equation}\n",
    "\n",
    "Implement this recursive solution in the function ```fib(n)``` where you can assume that ```n``` is an integer that is 0 or larger. \n",
    "\n",
    "As an exercise, try to implement an iterative version too. \n",
    "\n",
    "\n",
    "**Test cases**\n",
    "```python\n",
    "print( fib(0), fib(1), fib(2), fib(3), fib(4), fib(5) )\n",
    "```\n",
    "display\n",
    "```\n",
    "0 1 1 2 3 5\n",
    "```\n"
   ]
  },
  {
   "cell_type": "code",
   "execution_count": null,
   "metadata": {
    "cellIdentifier": "jqlyqzj4x5nm2y6zi89w"
   },
   "outputs": [
    {
     "name": "stdout",
     "output_type": "stream",
     "text": [
      "0 1 1 2 3 5\n"
     ]
    }
   ],
   "source": [
    "def fib(n):\n",
    "    return n if n <= 1 else fib(n - 1) + fib(n - 2)\n",
    "\n",
    "print( fib(0), fib(1), fib(2), fib(3), fib(4), fib(5) )\n"
   ]
  },
  {
   "cell_type": "code",
   "execution_count": null,
   "metadata": {
    "cellIdentifier": "pfvs3gx45msh016b5hokb8",
    "deletable": false,
    "editable": false,
    "nbgrader": {
     "grade": true,
     "grade_id": "7.03test1",
     "locked": true,
     "points": "1",
     "solution": false
    }
   },
   "outputs": [],
   "source": [
    "###\n",
    "### AUTOGRADER TEST - DO NOT REMOVE\n",
    "###\n"
   ]
  },
  {
   "cell_type": "markdown",
   "metadata": {
    "cellIdentifier": "0huqi7kkczad0ukigzeu7p",
    "deletable": false,
    "editable": false,
    "nbgrader": {
     "grade": false,
     "locked": true,
     "solution": false
    }
   },
   "source": [
    "### Problem 7.04 ```total()```"
   ]
  },
  {
   "cell_type": "markdown",
   "metadata": {
    "cellIdentifier": "qi72ldoeepph878xgt8z",
    "deletable": false,
    "editable": false,
    "nbgrader": {
     "grade": false,
     "locked": true,
     "solution": false
    }
   },
   "source": [
    "The sum of $1 + 2 + 3 + 4 + ... + n - 1 + n$ can be defined recursively using the following function.\n",
    "\\begin{equation}\n",
    "total(n) =  \\left\\{\n",
    "\\begin{array}{ll}\n",
    "      0 & n = 0 \\\\\n",
    "      n + total(n - 1)& n \\geq 1 \\\\\n",
    "\\end{array} \n",
    "\\right. \n",
    "\\end{equation}\n",
    "\n",
    "Implement this recursive solution in the function ```total(n)``` where you can assume that ```n``` is an integer that is 0 or larger. \n",
    "\n",
    "You should know how to do the iterative version of this problem.\n",
    "\n",
    "\n",
    "**Test cases**\n",
    "```python\n",
    "print( total(0), total(1), total(5), total(10) )\n",
    "```\n",
    "display\n",
    "```\n",
    "0 1 15 55\n",
    "```"
   ]
  },
  {
   "cell_type": "code",
   "execution_count": 11,
   "metadata": {
    "cellIdentifier": "r313eh2wp9mf4bgkwxdl"
   },
   "outputs": [
    {
     "name": "stdout",
     "output_type": "stream",
     "text": [
      "0 1 15 55 210\n"
     ]
    }
   ],
   "source": [
    "def total(n):\n",
    "    return 0 if n == 0 else n + total(n - 1)\n",
    "\n",
    "print( total(0), total(1), total(5), total(10), total(20))\n",
    "\n"
   ]
  },
  {
   "cell_type": "code",
   "execution_count": null,
   "metadata": {
    "cellIdentifier": "3nccaackirh0th4pg5nxaj",
    "deletable": false,
    "editable": false,
    "nbgrader": {
     "grade": true,
     "grade_id": "7.04test1",
     "locked": true,
     "points": "1",
     "solution": false
    }
   },
   "outputs": [],
   "source": [
    "###\n",
    "### AUTOGRADER TEST - DO NOT REMOVE\n",
    "###\n"
   ]
  },
  {
   "cell_type": "markdown",
   "metadata": {
    "cellIdentifier": "5yro1x6mzf4ns9c9wjxzp",
    "deletable": false,
    "editable": false,
    "nbgrader": {
     "grade": false,
     "locked": true,
     "solution": false
    }
   },
   "source": [
    "### Problem 7.09 ```favourite()```"
   ]
  },
  {
   "cell_type": "markdown",
   "metadata": {
    "cellIdentifier": "gy905k8yabsslbzb0ut87k",
    "deletable": false,
    "editable": false,
    "nbgrader": {
     "grade": false,
     "locked": true,
     "solution": false
    }
   },
   "source": [
    "**This question is put in for fun and is optional** \n",
    "\n",
    "The function ```favourite()``` takes in no parameters and returns a string of length 10 or more which contains your favourite movie, animation, game or TV show. \n",
    "\n",
    "As long as your function returns a string of length 10 or more, this question will be awarded one point.  \n",
    "\n",
    "Needless to say, you should not put in words that are offensive. \n",
    "\n",
    "If you don't wish to answer, you need not do this question :) We wish you all the best for your studies in SUTD. \n",
    "\n",
    "**Example** \n",
    "\n",
    "```python\n",
    "## string is length 9, no points \n",
    "def favourite():\n",
    "    return \"Your Name\" \n",
    "\n",
    "## string is length 10 or more, 1 point\n",
    "def favourite():\n",
    "    return \"Interstellar\"\n",
    "```"
   ]
  },
  {
   "cell_type": "code",
   "execution_count": null,
   "metadata": {
    "cellIdentifier": "weyoqnt37me72nlgvlyycd"
   },
   "outputs": [],
   "source": [
    "def favourite():\n",
    "    return \"tencharacters\""
   ]
  },
  {
   "cell_type": "code",
   "execution_count": null,
   "metadata": {
    "cellIdentifier": "xha8a7gee08iob331s5osi",
    "deletable": false,
    "editable": false,
    "nbgrader": {
     "grade": true,
     "grade_id": "7.09test",
     "locked": true,
     "points": "1",
     "solution": false
    }
   },
   "outputs": [],
   "source": [
    "###\n",
    "### AUTOGRADER TEST - DO NOT REMOVE\n",
    "###\n"
   ]
  }
 ],
 "metadata": {
  "colab": {
   "name": "Lesson 6.ipynb",
   "provenance": []
  },
  "kernelspec": {
   "display_name": "base",
   "language": "python",
   "name": "python3"
  },
  "language_info": {
   "codemirror_mode": {
    "name": "ipython",
    "version": 3
   },
   "file_extension": ".py",
   "mimetype": "text/x-python",
   "name": "python",
   "nbconvert_exporter": "python",
   "pygments_lexer": "ipython3",
   "version": "3.11.5"
  }
 },
 "nbformat": 4,
 "nbformat_minor": 4
}
