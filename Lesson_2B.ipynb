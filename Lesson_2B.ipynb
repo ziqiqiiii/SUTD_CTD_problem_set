{
 "cells": [
  {
   "cell_type": "markdown",
   "metadata": {
    "cellIdentifier": "l24qxds9v0j3by67u9c34s",
    "colab_type": "text",
    "deletable": false,
    "editable": false,
    "id": "nzSs4TEJq25o",
    "nbgrader": {
     "grade": false,
     "locked": true,
     "solution": false
    }
   },
   "source": [
    "### 10.014 Computational Thinking For Design, Fall 2024\n",
    "\n",
    "## Problem Set 2B    \n",
    "\n",
    "© Singapore University of Technology and Design, 2024 "
   ]
  },
  {
   "cell_type": "markdown",
   "metadata": {
    "cellIdentifier": "58ekrns922fmzbb6efa159",
    "deletable": false,
    "editable": false,
    "nbgrader": {
     "grade": false,
     "locked": true,
     "solution": false
    }
   },
   "source": [
    "### Problem 2.11 ```compound_interest(amount, rate, periods, time)```"
   ]
  },
  {
   "cell_type": "markdown",
   "metadata": {
    "cellIdentifier": "jnk4vbr7bc9vu2qlz2i0a",
    "colab_type": "text",
    "deletable": false,
    "editable": false,
    "id": "trs1DuSUw9yk",
    "nbgrader": {
     "grade": false,
     "locked": true,
     "solution": false
    }
   },
   "source": [
    "You have a bank deposit of ```amount``` that pays an annual interest rate of ```rate```. ```rate``` is expressed as a decimal value between 0 and 1. \n",
    "\n",
    "```periods``` is the number of times interest is compounded in a year. \n",
    "\n",
    "For example, if the interest is compounded monthly, ```periods``` would have a value of 12.  \n",
    "\n",
    "```time``` is the time in years for this deposit to mature. \n",
    "\n",
    "The future value of this deposit $f$ is given by\n",
    "\\begin{equation}\n",
    "f = amount \\left(   1 + \\frac{rate}{periods} \\right)^{periods \\times time}\n",
    "\\end{equation}\n",
    "\n",
    "You can assume that all inputs to this function will be ```int``` or ```float``` and have positive values, and ```rate``` will be a ```float``` value between 0 and 1, \n",
    "\n",
    "Round the return value to three decimal places. \n",
    "\n",
    "Test cases: \n",
    "\n",
    "```python\n",
    "print ( compound_interest(1, 0.03, 1, 1) )\n",
    "print ( compound_interest(1, 0.12 ,12, 1) )\n",
    "print ( compound_interest(1, 1 ,1000, 1) )\n",
    "``` \n",
    "\n",
    "gives the following output: \n",
    "\n",
    "```python\n",
    "1.03\n",
    "1.127\n",
    "2.717\n",
    "``` \n",
    "\n",
    "---\n",
    "\n",
    "> #### Something to consider\n",
    ">\n",
    "> Recall your Mathematics. How would you use this function to estimate the value of $e$, the euler number? \n",
    ">\n",
    "\n",
    "----"
   ]
  },
  {
   "cell_type": "markdown",
   "metadata": {
    "cellIdentifier": "84efh1is91s1fev45jfsjy",
    "deletable": false,
    "editable": false,
    "nbgrader": {
     "grade": false,
     "locked": true,
     "solution": false
    }
   },
   "source": [
    "#### Your solution below: "
   ]
  },
  {
   "cell_type": "code",
   "execution_count": 10,
   "metadata": {
    "cellIdentifier": "0bo9i3wxufqujd8qnxozlo"
   },
   "outputs": [
    {
     "name": "stdout",
     "output_type": "stream",
     "text": [
      "1.03\n",
      "1.127\n",
      "2.717\n"
     ]
    }
   ],
   "source": [
    "def compound_interest(amount, rate,periods, time):\n",
    "    tmp = 1 + (rate/periods)\n",
    "    tmp = tmp**(periods*time)\n",
    "\n",
    "    return round(amount*tmp, 3)\n",
    "\n",
    "print ( compound_interest(1, 0.03, 1, 1) )\n",
    "print ( compound_interest(1, 0.12 ,12, 1) )\n",
    "print ( compound_interest(1, 1 ,1000, 1) )\n",
    "### Add in code to test your function"
   ]
  },
  {
   "cell_type": "markdown",
   "metadata": {
    "cellIdentifier": "lxiz4hir8ndzxt3jlait8o",
    "deletable": false,
    "editable": false,
    "nbgrader": {
     "grade": false,
     "locked": true,
     "solution": false
    }
   },
   "source": [
    "#### Hidden test cases"
   ]
  },
  {
   "cell_type": "code",
   "execution_count": 11,
   "metadata": {
    "cellIdentifier": "2sqvcv0pqzcvsal23oklic",
    "deletable": false,
    "editable": false,
    "nbgrader": {
     "grade": true,
     "grade_id": "2.11test1",
     "locked": true,
     "points": "1",
     "solution": false
    }
   },
   "outputs": [],
   "source": [
    "###\n",
    "### AUTOGRADER TEST - DO NOT REMOVE\n",
    "###\n"
   ]
  },
  {
   "cell_type": "code",
   "execution_count": 12,
   "metadata": {
    "cellIdentifier": "xy3fz05k5pszutt2dmbg",
    "deletable": false,
    "editable": false,
    "nbgrader": {
     "grade": true,
     "grade_id": "2.11test2",
     "locked": true,
     "points": "1",
     "solution": false
    }
   },
   "outputs": [],
   "source": [
    "###\n",
    "### AUTOGRADER TEST - DO NOT REMOVE\n",
    "###\n"
   ]
  },
  {
   "cell_type": "code",
   "execution_count": 13,
   "metadata": {
    "cellIdentifier": "oaz7hu3694obfuugodyzai",
    "deletable": false,
    "editable": false,
    "nbgrader": {
     "grade": true,
     "grade_id": "2.11test3",
     "locked": true,
     "points": "1",
     "solution": false
    }
   },
   "outputs": [],
   "source": [
    "###\n",
    "### AUTOGRADER TEST - DO NOT REMOVE\n",
    "###\n"
   ]
  },
  {
   "cell_type": "code",
   "execution_count": 14,
   "metadata": {
    "cellIdentifier": "twux3v77pxhwfkjy65ash",
    "deletable": false,
    "editable": false,
    "nbgrader": {
     "grade": true,
     "grade_id": "2.11test4",
     "locked": true,
     "points": "1",
     "solution": false
    }
   },
   "outputs": [],
   "source": [
    "###\n",
    "### AUTOGRADER TEST - DO NOT REMOVE\n",
    "###\n"
   ]
  },
  {
   "cell_type": "markdown",
   "metadata": {
    "cellIdentifier": "0ap02ipa2y3opogbyptkw1",
    "deletable": false,
    "editable": false,
    "nbgrader": {
     "grade": false,
     "locked": true,
     "solution": false
    }
   },
   "source": [
    "### Problem 2.12 ```area_vol_cylinder( radius, length)```"
   ]
  },
  {
   "cell_type": "markdown",
   "metadata": {
    "cellIdentifier": "jjgaazg68oldk7iwfj7wn4",
    "colab_type": "text",
    "deletable": false,
    "editable": false,
    "id": "gAg23gROR2u5",
    "nbgrader": {
     "grade": false,
     "locked": true,
     "solution": false
    }
   },
   "source": [
    "This function takes in the ```radius``` and the ```length``` of a cylinder.  \n",
    "\n",
    "It returns two values, the area of its circular face, followed by its volume, both rounded to two decimal places.  \n",
    "\n",
    "Use the following formulas:    \n",
    "- $area = \\pi (radius)^2$.   \n",
    "- $volume = area \\times length$\n",
    "\n",
    "In your function, you must use the ```pi``` value from the ```math``` library. \n",
    "\n",
    "Test cases:\n",
    "\n",
    "```python\n",
    "print(area_vol_cylinder(1.0,2.0))\n",
    "print(area_vol_cylinder(2.0,2.3))\n",
    "print(area_vol_cylinder(1.5,4))\n",
    "print(area_vol_cylinder(2.2,5.0))\n",
    "```\n",
    "\n",
    "giving the following output  (area, volume): \n",
    "```python\n",
    "(3.14 , 6.28)\n",
    "(12.57 , 28.9)\n",
    "(7.07 , 28.27)\n",
    "(15.21 , 76.03)\n",
    "```\n"
   ]
  },
  {
   "cell_type": "markdown",
   "metadata": {
    "cellIdentifier": "3pepsmzfgvhv4wfl053pgc",
    "deletable": false,
    "editable": false,
    "nbgrader": {
     "grade": false,
     "locked": true,
     "solution": false
    }
   },
   "source": [
    "#### Your solution below:"
   ]
  },
  {
   "cell_type": "code",
   "execution_count": 15,
   "metadata": {
    "cellIdentifier": "hrvk2jhe7150nvl8ek0ber"
   },
   "outputs": [
    {
     "name": "stdout",
     "output_type": "stream",
     "text": [
      "(3.14, 6.28)\n",
      "(12.57, 28.91)\n",
      "(7.07, 28.28)\n",
      "(15.21, 76.05)\n"
     ]
    }
   ],
   "source": [
    "### Write code to import the math library\n",
    "import math\n",
    "\n",
    "def area_vol_cylinder(radius, length):\n",
    "    area = round(math.pi*(radius**2), 2)\n",
    "    volume = round(area*length, 2)\n",
    "\n",
    "    return area, volume\n",
    "\n",
    "print(area_vol_cylinder(1.0,2.0))\n",
    "print(area_vol_cylinder(2.0,2.3))\n",
    "print(area_vol_cylinder(1.5,4))\n",
    "print(area_vol_cylinder(2.2,5.0))"
   ]
  },
  {
   "cell_type": "markdown",
   "metadata": {
    "cellIdentifier": "tc8wa2crtto9dkd5aowawk",
    "deletable": false,
    "editable": false,
    "nbgrader": {
     "grade": false,
     "locked": true,
     "solution": false
    }
   },
   "source": [
    "#### hidden test cases "
   ]
  },
  {
   "cell_type": "code",
   "execution_count": 16,
   "metadata": {
    "cellIdentifier": "spfk2jmbqfgre1zsyzx91k",
    "deletable": false,
    "editable": false,
    "nbgrader": {
     "grade": true,
     "grade_id": "2.12test1",
     "locked": true,
     "points": "1",
     "solution": false
    }
   },
   "outputs": [],
   "source": [
    "###\n",
    "### AUTOGRADER TEST - DO NOT REMOVE\n",
    "###\n"
   ]
  },
  {
   "cell_type": "code",
   "execution_count": 17,
   "metadata": {
    "cellIdentifier": "nhx7fwbk2vr4kvu9qihq5e",
    "deletable": false,
    "editable": false,
    "nbgrader": {
     "grade": true,
     "grade_id": "2.12test2",
     "locked": true,
     "points": "1",
     "solution": false
    }
   },
   "outputs": [],
   "source": [
    "###\n",
    "### AUTOGRADER TEST - DO NOT REMOVE\n",
    "###\n"
   ]
  },
  {
   "cell_type": "code",
   "execution_count": 18,
   "metadata": {
    "cellIdentifier": "598sy91ijl05usd1tx78at",
    "deletable": false,
    "editable": false,
    "nbgrader": {
     "grade": true,
     "grade_id": "2.12test3",
     "locked": true,
     "points": "1",
     "solution": false
    }
   },
   "outputs": [],
   "source": [
    "###\n",
    "### AUTOGRADER TEST - DO NOT REMOVE\n",
    "###\n"
   ]
  },
  {
   "cell_type": "markdown",
   "metadata": {
    "cellIdentifier": "v50stosookksj86cetk9e",
    "deletable": false,
    "editable": false,
    "nbgrader": {
     "grade": false,
     "locked": true,
     "solution": false
    }
   },
   "source": [
    "### Problem 2.13 ```seconds_to_hours( seconds)```"
   ]
  },
  {
   "cell_type": "markdown",
   "metadata": {
    "cellIdentifier": "x6d1mp8wesdlu59dr6ajq",
    "colab_type": "text",
    "deletable": false,
    "editable": false,
    "id": "aELMHRBkSP9Z",
    "nbgrader": {
     "grade": false,
     "locked": true,
     "solution": false
    }
   },
   "source": [
    "This function takes in ```seconds``` as its input parameter and calculates the equivalent time in terms of the number of hours, minutes and seconds. ```seconds``` is a positive integer value below 86400. \n",
    "\n",
    "For example, 29500 seconds is 8 hours, 11 minutes and 40 seconds. \n",
    "\n",
    "It returns three integer values: \n",
    "- the hour value\n",
    "- the minutes value \n",
    "- the seconds value \n",
    "\n",
    "Test cases:\n",
    "\n",
    "```python\n",
    "print(seconds_to_hours(29500))\n",
    "print(seconds_to_hours(7210))\n",
    "```\n",
    "output is \n",
    "```\n",
    "(8, 11, 40)\n",
    "(2, 0, 10)\n",
    "```\n",
    "\n",
    "---\n",
    "\n",
    "> #### Hint\n",
    "> \n",
    "> From a given number of seconds, how would find the number of hours using the integer division operator? \n",
    "> How would you then find the remaining number of seconds?\n",
    ">\n",
    "\n",
    "---\n",
    "\n",
    "---\n",
    "\n",
    "> #### ATTENTION\n",
    "> \n",
    "> Save your solution to this problem. We will need it in Lesson 4 \n",
    ">\n",
    "\n",
    "---\n",
    "\n"
   ]
  },
  {
   "cell_type": "markdown",
   "metadata": {
    "cellIdentifier": "o01tmt2hwum4b21wh7m9",
    "deletable": false,
    "editable": false,
    "nbgrader": {
     "grade": false,
     "locked": true,
     "solution": false
    }
   },
   "source": [
    "#### Your solution here: "
   ]
  },
  {
   "cell_type": "code",
   "execution_count": 19,
   "metadata": {
    "cellIdentifier": "61tstsmi91tpla92k1mx6h"
   },
   "outputs": [
    {
     "name": "stdout",
     "output_type": "stream",
     "text": [
      "(8, 11, 40)\n",
      "(2, 0, 10)\n"
     ]
    }
   ],
   "source": [
    "def seconds_to_hours(seconds):\n",
    "    #Check if the seconds is greater than 24h\n",
    "    if (seconds > 86400):\n",
    "        return \n",
    "    SECONDS_PER_HOUR = 60*60\n",
    "    SECONDS_PER_MINUTE = 60\n",
    "\n",
    "    hour = seconds // SECONDS_PER_HOUR\n",
    "    seconds -= hour*SECONDS_PER_HOUR\n",
    "    minutes = seconds // SECONDS_PER_MINUTE\n",
    "    seconds -= minutes*SECONDS_PER_MINUTE\n",
    "    \n",
    "    return hour, minutes, seconds\n",
    "\n",
    "\n",
    "print(seconds_to_hours(29500))\n",
    "print(seconds_to_hours(7210))"
   ]
  },
  {
   "cell_type": "markdown",
   "metadata": {
    "cellIdentifier": "szicl9viunf206odyq2g",
    "deletable": false,
    "editable": false,
    "nbgrader": {
     "grade": false,
     "locked": true,
     "solution": false
    }
   },
   "source": [
    "#### hidden test cases"
   ]
  },
  {
   "cell_type": "code",
   "execution_count": 20,
   "metadata": {
    "cellIdentifier": "pce7hii6ugntv17m6jsufa",
    "deletable": false,
    "editable": false,
    "nbgrader": {
     "grade": true,
     "grade_id": "2.13test1",
     "locked": true,
     "points": "1",
     "solution": false
    }
   },
   "outputs": [],
   "source": [
    "###\n",
    "### AUTOGRADER TEST - DO NOT REMOVE\n",
    "###\n"
   ]
  },
  {
   "cell_type": "code",
   "execution_count": 21,
   "metadata": {
    "cellIdentifier": "m4vztz2mhos4dobdcrzixg",
    "deletable": false,
    "editable": false,
    "nbgrader": {
     "grade": true,
     "grade_id": "2.13test2",
     "locked": true,
     "points": "1",
     "solution": false
    }
   },
   "outputs": [],
   "source": [
    "###\n",
    "### AUTOGRADER TEST - DO NOT REMOVE\n",
    "###\n"
   ]
  },
  {
   "cell_type": "code",
   "execution_count": 22,
   "metadata": {
    "cellIdentifier": "fylpv4ct0zlhhe90qp14h5",
    "deletable": false,
    "editable": false,
    "nbgrader": {
     "grade": true,
     "grade_id": "2.13test3",
     "locked": true,
     "points": "1",
     "solution": false
    }
   },
   "outputs": [],
   "source": [
    "###\n",
    "### AUTOGRADER TEST - DO NOT REMOVE\n",
    "###\n"
   ]
  },
  {
   "cell_type": "code",
   "execution_count": 23,
   "metadata": {
    "cellIdentifier": "3kx9o1yqi55aoxoi4fvvyl",
    "deletable": false,
    "editable": false,
    "nbgrader": {
     "grade": true,
     "grade_id": "2.13test4",
     "locked": true,
     "points": "1",
     "solution": false
    }
   },
   "outputs": [],
   "source": [
    "###\n",
    "### AUTOGRADER TEST - DO NOT REMOVE\n",
    "###\n"
   ]
  },
  {
   "cell_type": "markdown",
   "metadata": {
    "cellIdentifier": "4zm08gq54zig6uizjwc1mj",
    "deletable": false,
    "editable": false,
    "nbgrader": {
     "grade": false,
     "locked": true,
     "solution": false
    }
   },
   "source": [
    "### Problem 2.14 ```fahrenheit_to_celsius( f )``` "
   ]
  },
  {
   "cell_type": "markdown",
   "metadata": {
    "cellIdentifier": "glrteszcb43ag45hrqeru",
    "colab_type": "text",
    "deletable": false,
    "editable": false,
    "id": "6JLwnQEhNonn",
    "nbgrader": {
     "grade": false,
     "locked": true,
     "solution": false
    }
   },
   "source": [
    "This function takes a fahrenheit value as input and returns its centigrade equivalent. \n",
    "- Round the return value to two decimal places. \n",
    "- If the return value is less than absolute zero (-273.15 degrees celsius), return ```None```\n",
    "\n",
    "Recall that if $C$ denotes the centigrade value and $F$ its fahrenheit equivalent, then $F = C ∗ 9/5 + 32$. \n",
    "\n",
    "You may assume that the input will always be of type ```int``` or ```float```.\n",
    "\n",
    "Test cases: \n",
    "\n",
    "```python\n",
    "print(fahrenheit_to_celsius(-500))\n",
    "print(fahrenheit_to_celsius(32))\n",
    "print(fahrenheit_to_celsius(99)) \n",
    "print(fahrenheit_to_celsius(212))\n",
    "```\n",
    "\n",
    "gives the following output\n",
    "\n",
    "```python\n",
    "None\n",
    "0.0\n",
    "37.22\n",
    "100.0\n",
    "```"
   ]
  },
  {
   "cell_type": "markdown",
   "metadata": {
    "cellIdentifier": "y4qhld4b2o5xz750srljq",
    "deletable": false,
    "editable": false,
    "nbgrader": {
     "grade": false,
     "locked": true,
     "solution": false
    }
   },
   "source": [
    "#### Your solution:"
   ]
  },
  {
   "cell_type": "code",
   "execution_count": 9,
   "metadata": {
    "cellIdentifier": "go779kfxpls8hk5ir36hfb"
   },
   "outputs": [
    {
     "name": "stdout",
     "output_type": "stream",
     "text": [
      "None\n",
      "0.0\n",
      "37.22\n",
      "100.0\n"
     ]
    }
   ],
   "source": [
    "def fahrenheit_to_celsius(f):\n",
    "    ABSOLUTE_ZERO = -273.15\n",
    "    c = round((5/9)*(f -32), 2)\n",
    "    if(c < ABSOLUTE_ZERO):\n",
    "        return\n",
    "    return c\n",
    "\n",
    "print(fahrenheit_to_celsius(-500))\n",
    "print(fahrenheit_to_celsius(32))\n",
    "print(fahrenheit_to_celsius(99)) \n",
    "print(fahrenheit_to_celsius(212))"
   ]
  },
  {
   "cell_type": "markdown",
   "metadata": {
    "cellIdentifier": "iajdk6wrt9kp1oyn21qwwb",
    "deletable": false,
    "editable": false,
    "nbgrader": {
     "grade": false,
     "locked": true,
     "solution": false
    }
   },
   "source": [
    "#### Hidden test cases"
   ]
  },
  {
   "cell_type": "code",
   "execution_count": 25,
   "metadata": {
    "cellIdentifier": "mu9nuia27r9cou0hzgvj",
    "deletable": false,
    "editable": false,
    "nbgrader": {
     "grade": true,
     "grade_id": "2.14test1",
     "locked": true,
     "points": "1",
     "solution": false
    }
   },
   "outputs": [],
   "source": [
    "###\n",
    "### AUTOGRADER TEST - DO NOT REMOVE\n",
    "###\n"
   ]
  },
  {
   "cell_type": "code",
   "execution_count": 26,
   "metadata": {
    "cellIdentifier": "buo70ppufe725klt5fc8xa",
    "deletable": false,
    "editable": false,
    "nbgrader": {
     "grade": true,
     "grade_id": "2.14test2",
     "locked": true,
     "points": "1",
     "solution": false
    }
   },
   "outputs": [],
   "source": [
    "###\n",
    "### AUTOGRADER TEST - DO NOT REMOVE\n",
    "###\n"
   ]
  },
  {
   "cell_type": "code",
   "execution_count": 27,
   "metadata": {
    "cellIdentifier": "ki0sy2wupu7mo50x8w7uw",
    "deletable": false,
    "editable": false,
    "nbgrader": {
     "grade": true,
     "grade_id": "2.14test3",
     "locked": true,
     "points": "1",
     "solution": false
    }
   },
   "outputs": [],
   "source": [
    "###\n",
    "### AUTOGRADER TEST - DO NOT REMOVE\n",
    "###\n"
   ]
  },
  {
   "cell_type": "code",
   "execution_count": 28,
   "metadata": {
    "cellIdentifier": "tzeah3ejdkgwvpmvgkqui8",
    "deletable": false,
    "editable": false,
    "nbgrader": {
     "grade": true,
     "grade_id": "2.14test4",
     "locked": true,
     "points": "1",
     "solution": false
    }
   },
   "outputs": [],
   "source": [
    "###\n",
    "### AUTOGRADER TEST - DO NOT REMOVE\n",
    "###\n"
   ]
  },
  {
   "cell_type": "markdown",
   "metadata": {
    "cellIdentifier": "ux9qvodr5v27o1wg0uazl",
    "deletable": false,
    "editable": false,
    "nbgrader": {
     "grade": false,
     "locked": true,
     "solution": false
    }
   },
   "source": [
    "### Problem 2.15 ```sequence(n)```"
   ]
  },
  {
   "cell_type": "markdown",
   "metadata": {
    "cellIdentifier": "xb8geedurqy4bia7sklu",
    "colab_type": "text",
    "deletable": false,
    "editable": false,
    "id": "m7LoSD5ldthV",
    "nbgrader": {
     "grade": false,
     "locked": true,
     "solution": false
    }
   },
   "source": [
    "This function takes in a value of ```n``` and returns the value of $S_n$ rounded to four decimal places. \n",
    "\n",
    "$S_n$ is given by: \n",
    "\n",
    "\\begin{equation}\n",
    "S_n = \\sqrt{ \\frac{2n+1}{n+3}}\n",
    "\\end{equation}\n",
    "\n",
    "However, if -3 ≤ ```n``` < -0.5, return ```None```. (Why is this condition specified?) \n",
    "\n",
    "You may assume that ```n``` will always be of type ```int``` or ```float```.\n",
    "\n",
    "Test cases:\n",
    "\n",
    "```python\n",
    "print(sequence(-4.0))\n",
    "print(sequence(-2.0))\n",
    "print(sequence(0.0))\n",
    "print(sequence(2.0))\n",
    "```\n",
    "\n",
    "gives the following output\n",
    "\n",
    "```python \n",
    "2.6458\n",
    "None\n",
    "0.5774\n",
    "1.0\n",
    "```\n",
    "\n",
    "**NOTE** Please note that the test cases above are not exhaustive. \n",
    "Write your own, considering the acceptable and unacceptable values of ```n```.\n",
    "\n",
    "\n"
   ]
  },
  {
   "cell_type": "markdown",
   "metadata": {
    "cellIdentifier": "mjx8cy2b3okktpn145d34",
    "deletable": false,
    "editable": false,
    "nbgrader": {
     "grade": false,
     "locked": true,
     "solution": false
    }
   },
   "source": [
    "#### Your solution below:"
   ]
  },
  {
   "cell_type": "code",
   "execution_count": 2,
   "metadata": {
    "cellIdentifier": "l3d1b2crtzh2d8xlr85e"
   },
   "outputs": [
    {
     "name": "stdout",
     "output_type": "stream",
     "text": [
      "2.6458\n",
      "None\n",
      "0.5774\n",
      "1.0\n"
     ]
    }
   ],
   "source": [
    "### Write code to import the math library\n",
    "def fraction(numerator, denomenator):\n",
    "    return numerator / denomenator\n",
    "\n",
    "def sequence(n):\n",
    "    result = None\n",
    "\n",
    "    if (-3 <= n and n < -0.5):\n",
    "        return\n",
    "    result = fraction(2*n + 1, n + 3)**(0.5)\n",
    "    result = round(result, 4);\n",
    "    return result\n",
    "\n",
    "print(sequence(-4.0))\n",
    "print(sequence(-2.0))\n",
    "print(sequence(0.0))\n",
    "print(sequence(2.0))\n"
   ]
  },
  {
   "cell_type": "markdown",
   "metadata": {
    "cellIdentifier": "qzto7hsq5soim1dnzlj5vl",
    "deletable": false,
    "editable": false,
    "nbgrader": {
     "grade": false,
     "locked": true,
     "solution": false
    }
   },
   "source": [
    "#### hidden test cases: "
   ]
  },
  {
   "cell_type": "code",
   "execution_count": 30,
   "metadata": {
    "cellIdentifier": "v4ohwsjtqcjjijn3gsez9",
    "deletable": false,
    "editable": false,
    "nbgrader": {
     "grade": true,
     "grade_id": "2.15test1",
     "locked": true,
     "points": "1",
     "solution": false
    }
   },
   "outputs": [],
   "source": [
    "###\n",
    "### AUTOGRADER TEST - DO NOT REMOVE\n",
    "###\n"
   ]
  },
  {
   "cell_type": "code",
   "execution_count": 31,
   "metadata": {
    "cellIdentifier": "7l8evbx6qmwswr6zoptai",
    "deletable": false,
    "editable": false,
    "nbgrader": {
     "grade": true,
     "grade_id": "2.15test2",
     "locked": true,
     "points": "1",
     "solution": false
    }
   },
   "outputs": [],
   "source": [
    "###\n",
    "### AUTOGRADER TEST - DO NOT REMOVE\n",
    "###\n"
   ]
  },
  {
   "cell_type": "code",
   "execution_count": 32,
   "metadata": {
    "cellIdentifier": "u95pagr20iea6i3e411y2h",
    "deletable": false,
    "editable": false,
    "nbgrader": {
     "grade": true,
     "grade_id": "2.15test3",
     "locked": true,
     "points": "1",
     "solution": false
    }
   },
   "outputs": [],
   "source": [
    "###\n",
    "### AUTOGRADER TEST - DO NOT REMOVE\n",
    "###\n"
   ]
  },
  {
   "cell_type": "code",
   "execution_count": 33,
   "metadata": {
    "cellIdentifier": "rxmwmy0l7v57vsro5ijn",
    "deletable": false,
    "editable": false,
    "nbgrader": {
     "grade": true,
     "grade_id": "2.15test4",
     "locked": true,
     "points": "1",
     "solution": false
    }
   },
   "outputs": [],
   "source": [
    "###\n",
    "### AUTOGRADER TEST - DO NOT REMOVE\n",
    "###\n"
   ]
  },
  {
   "cell_type": "code",
   "execution_count": 34,
   "metadata": {
    "cellIdentifier": "z3c8a2wg32wbg8w7bty7l",
    "deletable": false,
    "editable": false,
    "nbgrader": {
     "grade": true,
     "grade_id": "2.15test5",
     "locked": true,
     "points": "1",
     "solution": false
    }
   },
   "outputs": [],
   "source": [
    "###\n",
    "### AUTOGRADER TEST - DO NOT REMOVE\n",
    "###\n"
   ]
  },
  {
   "cell_type": "code",
   "execution_count": 35,
   "metadata": {
    "cellIdentifier": "0bee34lck2s2stzs5347xl",
    "deletable": false,
    "editable": false,
    "nbgrader": {
     "grade": true,
     "grade_id": "2.15test6",
     "locked": true,
     "points": "1",
     "solution": false
    }
   },
   "outputs": [],
   "source": [
    "###\n",
    "### AUTOGRADER TEST - DO NOT REMOVE\n",
    "###\n"
   ]
  },
  {
   "cell_type": "markdown",
   "metadata": {
    "cellIdentifier": "ihut7q666veb313sdn9t6",
    "colab_type": "text",
    "deletable": false,
    "editable": false,
    "id": "xX4xKd7FShza",
    "nbgrader": {
     "grade": false,
     "locked": true,
     "solution": false
    }
   },
   "source": [
    "### Problem 2.16 ```check_value(n1, n2, n3, x)```\n",
    "\n",
    "This function takes four integers ```n1```, ```n2```, ```n3```, and ```x``` as inputs. \n",
    "\n",
    "The function returns ```True``` if ```x``` is greater than ```n1``` and ```n2```\n",
    "but is less than ```n3```, otherwise, it returns ```False```. \n",
    "\n",
    "Observe that you can solve this problem by writing a boolean expression using logical operators. \n",
    "\n",
    "Test cases: \n",
    "\n",
    "```python \n",
    "ans=check_value(1,4,8,7)\n",
    "print(ans)\n",
    "ans=check_value(10,4,8,7)\n",
    "print(ans)\n",
    "ans=check_value(1,10,8,7)\n",
    "print(ans)\n",
    "ans=check_value(1,4,5,7)\n",
    "print(ans) \n",
    "```\n",
    "gives the following output: \n",
    "\n",
    "```python\n",
    "True \n",
    "False\n",
    "False\n",
    "False\n",
    "``` "
   ]
  },
  {
   "cell_type": "markdown",
   "metadata": {
    "cellIdentifier": "9t1hkth8yaesziu4t5ri3",
    "deletable": false,
    "editable": false,
    "nbgrader": {
     "grade": false,
     "locked": true,
     "solution": false
    }
   },
   "source": [
    "#### Your solution here:"
   ]
  },
  {
   "cell_type": "code",
   "execution_count": null,
   "metadata": {
    "cellIdentifier": "f6jq2vk8uetwr67maezx"
   },
   "outputs": [
    {
     "name": "stdout",
     "output_type": "stream",
     "text": [
      "True\n",
      "False\n",
      "False\n",
      "False\n"
     ]
    }
   ],
   "source": [
    "def check_value( n1, n2, n3, x):\n",
    "    return (x > n1 and x > n2 and x < n3)\n",
    "    \n",
    "ans=check_value(1,4,8,7)\n",
    "print(ans)\n",
    "ans=check_value(10,4,8,7)\n",
    "print(ans)\n",
    "ans=check_value(1,10,8,7)\n",
    "print(ans)\n",
    "ans=check_value(1,4,5,7)\n",
    "print(ans) "
   ]
  },
  {
   "cell_type": "markdown",
   "metadata": {
    "cellIdentifier": "p6r2fn99m193eipsgiesgo",
    "deletable": false,
    "editable": false,
    "nbgrader": {
     "grade": false,
     "locked": true,
     "solution": false
    }
   },
   "source": [
    "#### hidden test cases"
   ]
  },
  {
   "cell_type": "code",
   "execution_count": 37,
   "metadata": {
    "cellIdentifier": "bke51q8qobsaq294g1w05g",
    "deletable": false,
    "editable": false,
    "nbgrader": {
     "grade": true,
     "grade_id": "2.16test1",
     "locked": true,
     "points": "1",
     "solution": false
    }
   },
   "outputs": [],
   "source": [
    "###\n",
    "### AUTOGRADER TEST - DO NOT REMOVE\n",
    "###\n"
   ]
  },
  {
   "cell_type": "code",
   "execution_count": 38,
   "metadata": {
    "cellIdentifier": "oizqu0f22t9ywwt30dusm7",
    "deletable": false,
    "editable": false,
    "nbgrader": {
     "grade": true,
     "grade_id": "2.16test2",
     "locked": true,
     "points": "1",
     "solution": false
    }
   },
   "outputs": [],
   "source": [
    "###\n",
    "### AUTOGRADER TEST - DO NOT REMOVE\n",
    "###\n"
   ]
  },
  {
   "cell_type": "code",
   "execution_count": 39,
   "metadata": {
    "cellIdentifier": "zf2jcc1bx6gb3cd6x76bzn",
    "deletable": false,
    "editable": false,
    "nbgrader": {
     "grade": true,
     "grade_id": "2.16test3",
     "locked": true,
     "points": "1",
     "solution": false
    }
   },
   "outputs": [],
   "source": [
    "###\n",
    "### AUTOGRADER TEST - DO NOT REMOVE\n",
    "###\n"
   ]
  },
  {
   "cell_type": "code",
   "execution_count": 40,
   "metadata": {
    "cellIdentifier": "hwe0a2wr3aagdee73avavn",
    "deletable": false,
    "editable": false,
    "nbgrader": {
     "grade": true,
     "grade_id": "2.16test4",
     "locked": true,
     "points": "1",
     "solution": false
    }
   },
   "outputs": [],
   "source": [
    "###\n",
    "### AUTOGRADER TEST - DO NOT REMOVE\n",
    "###\n"
   ]
  }
 ],
 "metadata": {
  "colab": {
   "collapsed_sections": [
    "arNs5SvnU411",
    "eWLQYfgKMFqZ"
   ],
   "name": "Lesson 2.ipynb",
   "provenance": []
  },
  "kernelspec": {
   "display_name": "base",
   "language": "python",
   "name": "python3"
  },
  "language_info": {
   "codemirror_mode": {
    "name": "ipython",
    "version": 3
   },
   "file_extension": ".py",
   "mimetype": "text/x-python",
   "name": "python",
   "nbconvert_exporter": "python",
   "pygments_lexer": "ipython3",
   "version": "3.11.5"
  }
 },
 "nbformat": 4,
 "nbformat_minor": 4
}
