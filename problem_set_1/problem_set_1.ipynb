{
 "cells": [
  {
   "cell_type": "markdown",
   "metadata": {},
   "source": [
    "Problem 1.01 Body Mass Index "
   ]
  },
  {
   "cell_type": "code",
   "execution_count": 68,
   "metadata": {},
   "outputs": [
    {
     "name": "stdout",
     "output_type": "stream",
     "text": [
      "Your BMI is 20.81\n"
     ]
    }
   ],
   "source": [
    "def BMI(weight: float, height:float):\n",
    "    return round(weight/(height*height), 2)\n",
    "\n",
    "weight = (float)(input('What is your weight in kg?'))\n",
    "height = (float)(input('What is your height in m?'))\n",
    "\n",
    "bmi = BMI(weight, height)\n",
    "print('Your BMI is', bmi)"
   ]
  },
  {
   "cell_type": "markdown",
   "metadata": {},
   "source": [
    "Problem 1.02 Quadratic Equation "
   ]
  },
  {
   "cell_type": "code",
   "execution_count": 39,
   "metadata": {},
   "outputs": [
    {
     "name": "stdout",
     "output_type": "stream",
     "text": [
      "The value of f(x) is 2\n"
     ]
    }
   ],
   "source": [
    "def f(x: float):\n",
    "    return x**2 + 5*x - 4\n",
    "\n",
    "x = (int)(input('Enter a value of x:'))\n",
    "print(f\"The value of f(x) is {f(x)}\")\n"
   ]
  },
  {
   "cell_type": "markdown",
   "metadata": {},
   "source": [
    "Problem 1.03 Geometric Series"
   ]
  },
  {
   "cell_type": "code",
   "execution_count": null,
   "metadata": {},
   "outputs": [
    {
     "name": "stdout",
     "output_type": "stream",
     "text": [
      "a=|2|, r=|0.5|, n=|10|\n",
      "The sum is 3.99609375\n"
     ]
    }
   ],
   "source": [
    "def geometricSeries(a: int, r: float, n: int):\n",
    "    numerator = a * (1 - r**n)\n",
    "    denomenator = 1 - r\n",
    "\n",
    "    return(numerator/denomenator)\n",
    "\n",
    "a = 2\n",
    "r = 0.5\n",
    "n = 10\n",
    "print(f\"a=|{a}|, r=|{r}|, n=|{n}|\")\n",
    "print(f\"The sum is {geometricSeries(a, r, n)}\")"
   ]
  },
  {
   "cell_type": "markdown",
   "metadata": {},
   "source": [
    "Problem 1.04 Address Format "
   ]
  },
  {
   "cell_type": "code",
   "execution_count": 30,
   "metadata": {},
   "outputs": [
    {
     "name": "stdout",
     "output_type": "stream",
     "text": [
      "Singapore Post Pte Ltd\n",
      "10 Eunos Road 8\n",
      "10 block 59\n",
      "Singapore 485999\n"
     ]
    }
   ],
   "source": [
    "addressee = \"Singapore Post Pte Ltd\"\n",
    "house_number = \"10\"\n",
    "road_name = \"Eunos Road 8\"\n",
    "unit_number = \"10\"\n",
    "building_name = \"block 59\"\n",
    "postal_code = \"485999\"\n",
    "\n",
    "s = addressee + \"\\n\" \\\n",
    "    + house_number + \" \" + road_name + \"\\n\" \\\n",
    "    + unit_number + \" \" + building_name + \"\\n\" \\\n",
    "    + \"Singapore\" + \" \" + postal_code\n",
    "\n",
    "print(s)"
   ]
  },
  {
   "cell_type": "markdown",
   "metadata": {},
   "source": [
    "Problem 1.05 Income tax"
   ]
  },
  {
   "cell_type": "code",
   "execution_count": 33,
   "metadata": {},
   "outputs": [
    {
     "data": {
      "text/plain": [
       "['The tax payable on an income 15000 is 0',\n",
       " 'The tax payable on an income 30000 is 1500.0',\n",
       " 'The tax payable on an income 25000 is 1250.0']"
      ]
     },
     "execution_count": 33,
     "metadata": {},
     "output_type": "execute_result"
    }
   ],
   "source": [
    "def incomeTax(annual_income: float):\n",
    "    if(annual_income < 20000):\n",
    "        return 0\n",
    "    else:\n",
    "        return annual_income * 0.05\n",
    "    \n",
    "annual_incomes = [15000, 30000, 25000]\n",
    "\n",
    "tax_result = [f\"The tax payable on an income {income} is {incomeTax(income)}\" for income in annual_incomes]\n",
    "tax_result"
   ]
  },
  {
   "cell_type": "markdown",
   "metadata": {},
   "source": [
    "Problem 1.06 Green Bottles "
   ]
  },
  {
   "cell_type": "code",
   "execution_count": 36,
   "metadata": {},
   "outputs": [
    {
     "name": "stdout",
     "output_type": "stream",
     "text": [
      "green bottle 1\n",
      "green bottle 3\n",
      "green bottle 5\n",
      "green bottle 7\n",
      "green bottle 9\n"
     ]
    }
   ],
   "source": [
    "for i in range(10):\n",
    "    if (i % 2 != 0):\n",
    "        print(f\"green bottle {i}\")"
   ]
  },
  {
   "cell_type": "markdown",
   "metadata": {},
   "source": [
    "Problem 1.07 General term of sequence"
   ]
  },
  {
   "cell_type": "code",
   "execution_count": 44,
   "metadata": {},
   "outputs": [
    {
     "name": "stdout",
     "output_type": "stream",
     "text": [
      "n = 0: 5.0\n",
      "n = 1: 4.5\n",
      "n = 2: 3.8\n"
     ]
    }
   ],
   "source": [
    "def fraction(numerator, denomenator):\n",
    "    return numerator / denomenator\n",
    "\n",
    "def sequence(n: int):\n",
    "    numerator = n**3 + 3*n + 5\n",
    "    denomenator = n**2 + 1\n",
    "    return fraction(numerator, denomenator)\n",
    "\n",
    "number_of_terms = 3\n",
    "for n in range(number_of_terms):\n",
    "    print(f\"n = {n}: {sequence(n)}\")"
   ]
  },
  {
   "cell_type": "markdown",
   "metadata": {},
   "source": [
    "Problem 1.08 Sum using a loop"
   ]
  },
  {
   "cell_type": "code",
   "execution_count": 50,
   "metadata": {},
   "outputs": [
    {
     "name": "stdout",
     "output_type": "stream",
     "text": [
      "The sum is 55\n"
     ]
    }
   ],
   "source": [
    "n = 10\n",
    "total = 0\n",
    "for i in range(n + 1):\n",
    "    total += i\n",
    "\n",
    "print(f\"The sum is {total}\")"
   ]
  },
  {
   "cell_type": "markdown",
   "metadata": {},
   "source": [
    "Problem 1.09 Sum using a loop (2)"
   ]
  },
  {
   "cell_type": "code",
   "execution_count": 53,
   "metadata": {},
   "outputs": [
    {
     "name": "stdout",
     "output_type": "stream",
     "text": [
      "The sum of 10 terms is 110.0\n"
     ]
    }
   ],
   "source": [
    "number_of_terms = 10\n",
    "total = 0\n",
    "for n in range(number_of_terms + 1):\n",
    "    total += i\n",
    "\n",
    "total = float(total)\n",
    "print(f\"The sum of {number_of_terms} terms is {total}\")"
   ]
  },
  {
   "cell_type": "markdown",
   "metadata": {},
   "source": [
    "Problem 1.10 Swap"
   ]
  },
  {
   "cell_type": "code",
   "execution_count": 66,
   "metadata": {},
   "outputs": [
    {
     "name": "stdout",
     "output_type": "stream",
     "text": [
      "before\n",
      "10 apple\n",
      "\n",
      "\n",
      "after\n",
      "apple 10\n"
     ]
    }
   ],
   "source": [
    "a = 10\n",
    "b = \"apple\"\n",
    "\n",
    "print('before')\n",
    "print(a, b)\n",
    "print(\"\\n\")\n",
    "\n",
    "def swap(a, b):\n",
    "    tmp = a\n",
    "    a = b\n",
    "    b = tmp\n",
    "\n",
    "    return a, b\n",
    "\n",
    "a, b = swap(a, b)\n",
    "print('after')\n",
    "print(a, b)"
   ]
  },
  {
   "cell_type": "markdown",
   "metadata": {},
   "source": [
    "Problem 1.11 Write a program from a flowchart"
   ]
  },
  {
   "cell_type": "code",
   "execution_count": 70,
   "metadata": {},
   "outputs": [
    {
     "name": "stdout",
     "output_type": "stream",
     "text": [
      "Moderate Risk\n"
     ]
    }
   ],
   "source": [
    "height = 1.70\n",
    "weight = 69.0\n",
    "\n",
    "bmi = BMI(weight, height)\n",
    "\n",
    "if (bmi >= 27.5):\n",
    "    print(\"High Risk\")\n",
    "elif(bmi >= 23):\n",
    "    print('Moderate Risk')\n",
    "else:\n",
    "    print('Low Risk')"
   ]
  },
  {
   "cell_type": "markdown",
   "metadata": {},
   "source": [
    "Problem 1.12 Draw a regular polygon"
   ]
  },
  {
   "cell_type": "code",
   "execution_count": null,
   "metadata": {},
   "outputs": [],
   "source": [
    "from turtle import *\n",
    "\n",
    "color('red', 'yellow')\n",
    "begin_fill()\n",
    "while True:\n",
    "    forward(200)\n",
    "    left(170)\n",
    "    if abs(pos()) < 1:\n",
    "        break\n",
    "end_fill()\n",
    "done()"
   ]
  },
  {
   "cell_type": "code",
   "execution_count": null,
   "metadata": {},
   "outputs": [],
   "source": []
  }
 ],
 "metadata": {
  "kernelspec": {
   "display_name": "base",
   "language": "python",
   "name": "python3"
  },
  "language_info": {
   "codemirror_mode": {
    "name": "ipython",
    "version": 3
   },
   "file_extension": ".py",
   "mimetype": "text/x-python",
   "name": "python",
   "nbconvert_exporter": "python",
   "pygments_lexer": "ipython3",
   "version": "3.11.5"
  }
 },
 "nbformat": 4,
 "nbformat_minor": 2
}
