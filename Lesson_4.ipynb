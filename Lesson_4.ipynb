{
 "cells": [
  {
   "cell_type": "markdown",
   "metadata": {
    "cellIdentifier": "2ymfktyk38wtevxrjrkp1",
    "colab_type": "text",
    "deletable": false,
    "editable": false,
    "id": "e0ZPC4DjacRV",
    "nbgrader": {
     "grade": false,
     "locked": true,
     "solution": false
    }
   },
   "source": [
    "### 10.014 Computational Thinking For Design, Fall 2024\n",
    "\n",
    "## Problem Set 4\n",
    "\n",
    "© Singapore University of Technology and Design, 2024     \n"
   ]
  },
  {
   "cell_type": "markdown",
   "metadata": {
    "cellIdentifier": "ipwf14myiugl9m9m46dija",
    "colab_type": "text",
    "deletable": false,
    "editable": false,
    "id": "TPJXjFvN98c8",
    "nbgrader": {
     "grade": false,
     "locked": true,
     "solution": false
    }
   },
   "source": [
    "### Problem 4.00 ```bmi_information(weight, height)```"
   ]
  },
  {
   "cell_type": "markdown",
   "metadata": {
    "cellIdentifier": "eqzd8xg1c1rgoeb4icg0vd",
    "colab_type": "text",
    "deletable": false,
    "editable": false,
    "id": "-0l0cWIi-EH_",
    "nbgrader": {
     "grade": false,
     "locked": true,
     "solution": false
    }
   },
   "source": [
    "This function \n",
    "- takes in the weight in kg and height in cm of a person\n",
    "- calculates the BMI of the person\n",
    "- determines its risk category \n",
    "- returns a string that describes both information. \n",
    "\n",
    "Use the ```format()``` method of a string.\n",
    "\n",
    "You can reuse the functions ```calculate_bmi()``` and ```describe_bmi()``` in **Problem Set 2**.\n",
    "\n",
    "```python\n",
    "info = bmi_information( 70, 167) \n",
    "print(info)\n",
    "```\n",
    "```\n",
    "Your BMI is 25.1 and your category is moderate risk.\n",
    "```\n",
    "Please note that \n",
    "- the BMI is displayed to one decimal place \n",
    "- there is a full-stop at the end of the sentence.\n"
   ]
  },
  {
   "cell_type": "markdown",
   "metadata": {
    "cellIdentifier": "sleioa8wsrcuofinqlvgwh",
    "deletable": false,
    "editable": false,
    "nbgrader": {
     "grade": false,
     "locked": true,
     "solution": false
    }
   },
   "source": [
    "#### Your solution here:\n",
    "\n",
    "Reminder: after writing your solution, don't forget to write code to execute the function and display its output"
   ]
  },
  {
   "cell_type": "code",
   "execution_count": null,
   "metadata": {
    "cellIdentifier": "ongfyw9vsp9ifp0qfstex"
   },
   "outputs": [],
   "source": [
    "def calculate_bmi( weight, height):\n",
    "    height = height/100\n",
    "    bmi = weight/height**2\n",
    "    return(round(bmi,1))\n",
    "\n",
    "def describe_bmi(bmi):\n",
    "    if( bmi >= 27.5):\n",
    "        return 'high risk'\n",
    "    elif( bmi >= 23): \n",
    "        return 'moderate risk'\n",
    "    elif( bmi >= 18.5):\n",
    "        return 'low risk'\n",
    "    else:\n",
    "        return 'nutritional deficiency'\n",
    "\n",
    "def bmi_information(weight, height):\n",
    "    bmivalue = calculate_bmi(weight, height)\n",
    "    bmicat = describe_bmi(bmivalue)\n",
    "    return(f\"Your BMI is {bmivalue} and your category is {bmicat}.\")"
   ]
  },
  {
   "cell_type": "code",
   "execution_count": null,
   "metadata": {
    "cellIdentifier": "jb17vo4iotjjugb8pxm1p",
    "deletable": false,
    "editable": false,
    "nbgrader": {
     "grade": true,
     "grade_id": "4.00test1",
     "locked": true,
     "points": "1",
     "solution": false
    }
   },
   "outputs": [],
   "source": [
    "###\n",
    "### AUTOGRADER TEST - DO NOT REMOVE\n",
    "###\n"
   ]
  },
  {
   "cell_type": "code",
   "execution_count": null,
   "metadata": {
    "cellIdentifier": "l4o4enrt6hs1ar5r8lwydt",
    "deletable": false,
    "editable": false,
    "nbgrader": {
     "grade": true,
     "grade_id": "4.00test2",
     "locked": true,
     "points": "1",
     "solution": false
    }
   },
   "outputs": [],
   "source": [
    "###\n",
    "### AUTOGRADER TEST - DO NOT REMOVE\n",
    "###\n"
   ]
  },
  {
   "cell_type": "markdown",
   "metadata": {
    "cellIdentifier": "c86nzl9uedoa5lufptsqcv",
    "colab_type": "text",
    "deletable": false,
    "editable": false,
    "id": "TWpZ6yP-aeWp",
    "nbgrader": {
     "grade": false,
     "locked": true,
     "solution": false
    }
   },
   "source": [
    "### Problem 4.01a ```reverse(s)```"
   ]
  },
  {
   "cell_type": "markdown",
   "metadata": {
    "cellIdentifier": "s6qjmz2t038k7su252sjtc",
    "colab_type": "text",
    "deletable": false,
    "editable": false,
    "id": "WJRKwPdKXTnU",
    "nbgrader": {
     "grade": false,
     "locked": true,
     "solution": false
    }
   },
   "source": [
    "This function takes in a string ```s```. \n",
    "\n",
    "It returns another string with the characters in reverse order. \n",
    "\n",
    "One solution is to use a loop. \n",
    "\n",
    "----\n",
    "\n",
    "1. ```out``` is an empty string \n",
    "\n",
    "2. for index ```i``` starting from the last index of ```s``` to index zero  \n",
    "\n",
    "    a. concatenate the character at  ```i``` with ```out``` and assign the result back to ```out```\n",
    "    \n",
    "--- \n",
    "\n",
    "Another solution is to use a suitable slice to reverse the string. \n",
    "\n",
    "Explore both solutions if you can . \n",
    "\n",
    "Test case: \n",
    "\n",
    "```python \n",
    "result = reverse('I choose you')\n",
    "print(result)\n",
    "```\n",
    "\n",
    "Output: \n",
    "```\n",
    "uoy esoohc I\n",
    "```\n",
    "\n",
    "\n"
   ]
  },
  {
   "cell_type": "markdown",
   "metadata": {
    "cellIdentifier": "vzpdep7rz4k1tx88kbl713",
    "deletable": false,
    "editable": false,
    "nbgrader": {
     "grade": false,
     "locked": true,
     "solution": false
    }
   },
   "source": [
    "#### Your solution here:"
   ]
  },
  {
   "cell_type": "code",
   "execution_count": null,
   "metadata": {
    "cellIdentifier": "8svy5zxfyo67fcolofxvwt"
   },
   "outputs": [],
   "source": [
    "def reverse(s):\n",
    "    out = \"\"\n",
    "    for i in s[::-1]:\n",
    "        out += i\n",
    "    return out"
   ]
  },
  {
   "cell_type": "code",
   "execution_count": null,
   "metadata": {
    "cellIdentifier": "jfgwxo70jbb96p23vh2fg",
    "deletable": false,
    "editable": false,
    "nbgrader": {
     "grade": true,
     "grade_id": "4.01atest1",
     "locked": true,
     "points": "1",
     "solution": false
    }
   },
   "outputs": [],
   "source": [
    "###\n",
    "### AUTOGRADER TEST - DO NOT REMOVE\n",
    "###\n"
   ]
  },
  {
   "cell_type": "code",
   "execution_count": null,
   "metadata": {
    "cellIdentifier": "bi71jtx46bmvkseupomavs",
    "deletable": false,
    "editable": false,
    "nbgrader": {
     "grade": true,
     "grade_id": "4.01atest2",
     "locked": true,
     "points": "1",
     "solution": false
    }
   },
   "outputs": [],
   "source": [
    "###\n",
    "### AUTOGRADER TEST - DO NOT REMOVE\n",
    "###\n"
   ]
  },
  {
   "cell_type": "markdown",
   "metadata": {
    "cellIdentifier": "uveg90mtqcgeydyu9eac9",
    "deletable": false,
    "editable": false,
    "nbgrader": {
     "grade": false,
     "locked": true,
     "solution": false
    }
   },
   "source": [
    "### Problem 4.01b ```make_name(first, last)```"
   ]
  },
  {
   "cell_type": "markdown",
   "metadata": {
    "cellIdentifier": "ece4zsxa60ab93deq6q4b",
    "deletable": false,
    "editable": false,
    "nbgrader": {
     "grade": false,
     "locked": true,
     "solution": false
    }
   },
   "source": [
    "This function takes in a two strings ```first``` and ```last```. \n",
    "\n",
    "They represent the first name and last name of a person. \n",
    "\n",
    "The first name should be in title case, and the last name should be in upper case e.g. \"Ash KETCHUM\". \n",
    "\n",
    "This function \n",
    "* makes the string in ```first``` title case using the string method ```title()``` \n",
    "* makes the string in ```last``` upper case using the string method ```upper()```\n",
    "* concatenates them in the format,  ```first_name<space>last_name``` \n",
    "* then returns the resulting string. See the test case below.  \n",
    "\n",
    "```python \n",
    "print( make_name(\"ash\", \"ketchum\") )\n",
    "```\n",
    "displays \n",
    "\n",
    "``` \n",
    "Ash KETCHUM\n",
    "```"
   ]
  },
  {
   "cell_type": "code",
   "execution_count": null,
   "metadata": {
    "cellIdentifier": "k3zk7uo4z4ffornh49b3j"
   },
   "outputs": [],
   "source": [
    "def make_name(first, last):\n",
    "    first_name = first.title()\n",
    "    last_name = last.upper()\n",
    "    nameawa = f\"{first_name} {last_name}\"\n",
    "    return nameawa"
   ]
  },
  {
   "cell_type": "code",
   "execution_count": null,
   "metadata": {
    "cellIdentifier": "27mfdgro6xbebjgzh01c9",
    "deletable": false,
    "editable": false,
    "nbgrader": {
     "grade": true,
     "grade_id": "4.01btest1",
     "locked": true,
     "points": "1",
     "solution": false
    }
   },
   "outputs": [],
   "source": [
    "###\n",
    "### AUTOGRADER TEST - DO NOT REMOVE\n",
    "###\n"
   ]
  },
  {
   "cell_type": "code",
   "execution_count": null,
   "metadata": {
    "cellIdentifier": "sb73behdvri96wz3f8k27j",
    "deletable": false,
    "editable": false,
    "nbgrader": {
     "grade": true,
     "grade_id": "4.01btest2",
     "locked": true,
     "points": "1",
     "solution": false
    }
   },
   "outputs": [],
   "source": [
    "###\n",
    "### AUTOGRADER TEST - DO NOT REMOVE\n",
    "###\n"
   ]
  },
  {
   "cell_type": "markdown",
   "metadata": {
    "cellIdentifier": "qcaslhmvw3gjqvxm6okzf",
    "colab_type": "text",
    "deletable": false,
    "editable": false,
    "id": "pPte2RsKamqX",
    "nbgrader": {
     "grade": false,
     "locked": true,
     "solution": false
    }
   },
   "source": [
    "### Problem 4.02 ```is_palindrome(s)```"
   ]
  },
  {
   "cell_type": "markdown",
   "metadata": {
    "cellIdentifier": "3xz0k4qz1tnq6tylip4z58",
    "colab_type": "text",
    "deletable": false,
    "editable": false,
    "id": "LYeWDAb3YO5Z",
    "nbgrader": {
     "grade": false,
     "locked": true,
     "solution": false
    }
   },
   "source": [
    "This function takes in a string ```s```.\n",
    "\n",
    "If ```s``` is a palindrome, \n",
    "- it returns ```True```\n",
    "- else, it returns ```False``` \n",
    "\n",
    "\n",
    "You should try two solutions, \n",
    "- one using loops\n",
    "- the other using slicing \n",
    "\n",
    "Test case: \n",
    "\n",
    "```python\n",
    "result = is_palindrome('civic')\n",
    "print(result)\n",
    "result = is_palindrome('sonar')\n",
    "print(result)\n",
    "```\n",
    "\n",
    "Output:\n",
    "\n",
    "```\n",
    "True\n",
    "False\n",
    "```"
   ]
  },
  {
   "cell_type": "markdown",
   "metadata": {
    "cellIdentifier": "t14l69f9okkyqefg5843ks",
    "deletable": false,
    "editable": false,
    "nbgrader": {
     "grade": false,
     "locked": true,
     "solution": false
    }
   },
   "source": [
    "#### Your solution here: "
   ]
  },
  {
   "cell_type": "code",
   "execution_count": null,
   "metadata": {
    "cellIdentifier": "g0upgjw4gqkituh89zymdf"
   },
   "outputs": [],
   "source": [
    "def is_palindrome(s):\n",
    "    for i in range(len(s)//2):\n",
    "        print(s[i])\n",
    "        if(s[i] != s[-i-1]):\n",
    "            return False\n",
    "    return True\n",
    " \n",
    "def is_palindrome2(s):\n",
    "    return s[::1] == s [::-1]"
   ]
  },
  {
   "cell_type": "code",
   "execution_count": null,
   "metadata": {
    "cellIdentifier": "1is62qnpwbcji03cakku9r",
    "deletable": false,
    "editable": false,
    "nbgrader": {
     "grade": true,
     "grade_id": "4.02test1",
     "locked": true,
     "points": "1",
     "solution": false
    }
   },
   "outputs": [],
   "source": [
    "###\n",
    "### AUTOGRADER TEST - DO NOT REMOVE\n",
    "###\n"
   ]
  },
  {
   "cell_type": "code",
   "execution_count": null,
   "metadata": {
    "cellIdentifier": "5wh8io8z1hff4qdt3o2j8e",
    "deletable": false,
    "editable": false,
    "nbgrader": {
     "grade": true,
     "grade_id": "4.02test2",
     "locked": true,
     "points": "1",
     "solution": false
    }
   },
   "outputs": [],
   "source": [
    "###\n",
    "### AUTOGRADER TEST - DO NOT REMOVE\n",
    "###\n"
   ]
  },
  {
   "cell_type": "code",
   "execution_count": null,
   "metadata": {
    "cellIdentifier": "9nohmtd63vgpugk5u4wops",
    "deletable": false,
    "editable": false,
    "nbgrader": {
     "grade": true,
     "grade_id": "4.02test3",
     "locked": true,
     "points": "1",
     "solution": false
    }
   },
   "outputs": [],
   "source": [
    "###\n",
    "### AUTOGRADER TEST - DO NOT REMOVE\n",
    "###\n"
   ]
  },
  {
   "cell_type": "markdown",
   "metadata": {
    "cellIdentifier": "if7rq93g0rai1f389dl2w",
    "colab_type": "text",
    "deletable": false,
    "editable": false,
    "id": "LxOe2_Vvayzw",
    "nbgrader": {
     "grade": false,
     "locked": true,
     "solution": false
    }
   },
   "source": [
    "### Problem 4.03 ```match(a,b)```"
   ]
  },
  {
   "cell_type": "markdown",
   "metadata": {
    "cellIdentifier": "oppw7h6laujfz68nvlzrz",
    "colab_type": "text",
    "deletable": false,
    "editable": false,
    "id": "rJnPbh8dofSS",
    "nbgrader": {
     "grade": false,
     "locked": true,
     "solution": false
    }
   },
   "source": [
    "This function takes in two strings, ```a``` and ```b```. \n",
    "\n",
    "Both are never empty and both are always lowercase.\n",
    "\n",
    "String ```a``` is typically a few characters and string ```b``` is a word.\n",
    "\n",
    "If the characters at the end of ```b``` matches ```a```, \n",
    "- return ```True```, \n",
    "- otherwise, return ```False```. \n",
    "\n",
    "One way to solve this problem is to \n",
    "- obtain the length of ```a```\n",
    "- use this length to slice ```b``` at its end\n",
    "- now that you have ```a``` and the slice of ```b```, you are ready to compare them. \n",
    "\n",
    "Test cases: \n",
    "```python\n",
    "ending = 'nus'\n",
    "word = 'parvenus' \n",
    "result = match(ending, word)\n",
    "print(result)\n",
    "\n",
    "ending = 'nus'\n",
    "word = 'aviatrix'\n",
    "result = match(ending, word)\n",
    "print(result)\n",
    "\n",
    "ending = 'lar'\n",
    "word = 'agricolarum'\n",
    "result = match(ending, word)\n",
    "print(result)\n",
    "```\n",
    "\n",
    "the output is\n",
    "\n",
    "```\n",
    "True\n",
    "False\n",
    "False\n",
    "```\n",
    "\n"
   ]
  },
  {
   "cell_type": "markdown",
   "metadata": {
    "cellIdentifier": "irdswcd2s4lxevchnaqob",
    "deletable": false,
    "editable": false,
    "nbgrader": {
     "grade": false,
     "locked": true,
     "solution": false
    }
   },
   "source": [
    "#### Your solution here:"
   ]
  },
  {
   "cell_type": "code",
   "execution_count": null,
   "metadata": {
    "cellIdentifier": "hf2z1f2q4sjk6xjzwppn5p"
   },
   "outputs": [],
   "source": [
    "def match(ending, word):\n",
    "    return word[-len(ending):] == ending"
   ]
  },
  {
   "cell_type": "code",
   "execution_count": null,
   "metadata": {
    "cellIdentifier": "pkc04ms4r2f37ajymyl089",
    "deletable": false,
    "editable": false,
    "nbgrader": {
     "grade": true,
     "grade_id": "4.03test1",
     "locked": true,
     "points": "1",
     "solution": false
    }
   },
   "outputs": [],
   "source": [
    "###\n",
    "### AUTOGRADER TEST - DO NOT REMOVE\n",
    "###\n"
   ]
  },
  {
   "cell_type": "code",
   "execution_count": null,
   "metadata": {
    "cellIdentifier": "pl4qgmun4zjebaxzmz7v9u",
    "deletable": false,
    "editable": false,
    "nbgrader": {
     "grade": true,
     "grade_id": "4.03test2",
     "locked": true,
     "points": "1",
     "solution": false
    }
   },
   "outputs": [],
   "source": [
    "###\n",
    "### AUTOGRADER TEST - DO NOT REMOVE\n",
    "###\n"
   ]
  },
  {
   "cell_type": "code",
   "execution_count": null,
   "metadata": {
    "cellIdentifier": "ew5ogn0g84kbiq2or2gpq",
    "deletable": false,
    "editable": false,
    "nbgrader": {
     "grade": true,
     "grade_id": "4.03test3",
     "locked": true,
     "points": "1",
     "solution": false
    }
   },
   "outputs": [],
   "source": [
    "###\n",
    "### AUTOGRADER TEST - DO NOT REMOVE\n",
    "###\n"
   ]
  },
  {
   "cell_type": "code",
   "execution_count": null,
   "metadata": {
    "cellIdentifier": "wk4nibzry4txk3nsahx3gr",
    "deletable": false,
    "editable": false,
    "nbgrader": {
     "grade": true,
     "grade_id": "4.03test4",
     "locked": true,
     "points": "1",
     "solution": false
    }
   },
   "outputs": [],
   "source": [
    "###\n",
    "### AUTOGRADER TEST - DO NOT REMOVE\n",
    "###\n"
   ]
  },
  {
   "cell_type": "markdown",
   "metadata": {
    "cellIdentifier": "1b5rqhqs3qobf5py1afv15",
    "deletable": false,
    "editable": false,
    "nbgrader": {
     "grade": false,
     "locked": true,
     "solution": false
    }
   },
   "source": [
    "### Problem 4.04 ```clean_string(s)```\n"
   ]
  },
  {
   "cell_type": "markdown",
   "metadata": {
    "cellIdentifier": "grgkbxzu31d237fscl8rg",
    "deletable": false,
    "editable": false,
    "nbgrader": {
     "grade": false,
     "locked": true,
     "solution": false
    }
   },
   "source": [
    "\"cleaning a string\" means to remove unwanted characters from it.\n",
    "\n",
    "This function takes in a string ```s```, processes it and returns a string which has only the alphanumeric characters (e.g. letters and digits) and spaces retained. \n",
    "\n",
    "You can assume that ```s``` does not have any leading or trailing spaces.\n",
    "\n",
    "The algorithm is given below. The idea behind it is to retain the characters you want and add them to a new string. \n",
    "\n",
    "---\n",
    "**Algorithm**\n",
    "\n",
    "Given a string ```s```\n",
    "\n",
    "1. ```out``` is an empty string\n",
    "\n",
    "2. for each character in ```s```\n",
    "\n",
    "   a. if the character is a space or an alphanumeric character, concatenate it with ```out```\n",
    "   \n",
    "   b. else, do nothing \n",
    "   \n",
    "--- \n",
    "\n",
    "**NOTE**: The test cases below are not exhaustive and there can be other unwanted characters.\n",
    "\n",
    "Test cases \n",
    "```python\n",
    "print(clean_string(\"Hello. Are you there?!\"))\n",
    "print(clear_string(\"If you don’t take risks, you can’t create a future!\"))\n",
    "```\n",
    "\n",
    "```\n",
    "Hello Are you there\n",
    "If you dont take risks you cant create a future\n",
    "```"
   ]
  },
  {
   "cell_type": "code",
   "execution_count": null,
   "metadata": {
    "cellIdentifier": "t1od9w78minmwvtslp3xz"
   },
   "outputs": [],
   "source": [
    "def clean_string(s):\n",
    "    out = \"\"\n",
    "    for char in s:\n",
    "        if char.isalnum() or char.isspace():\n",
    "            out += char\n",
    "        else:\n",
    "            pass\n",
    "    return (out)"
   ]
  },
  {
   "cell_type": "code",
   "execution_count": null,
   "metadata": {
    "cellIdentifier": "vwjgkd95t6ndli3jn0e8k7",
    "deletable": false,
    "editable": false,
    "nbgrader": {
     "grade": true,
     "grade_id": "4.04test1",
     "locked": true,
     "points": "1",
     "solution": false
    }
   },
   "outputs": [],
   "source": [
    "###\n",
    "### AUTOGRADER TEST - DO NOT REMOVE\n",
    "###\n"
   ]
  },
  {
   "cell_type": "code",
   "execution_count": null,
   "metadata": {
    "cellIdentifier": "22hzeoy07utxj0u1gc0xyp",
    "deletable": false,
    "editable": false,
    "nbgrader": {
     "grade": true,
     "grade_id": "4.04test2",
     "locked": true,
     "points": "1",
     "solution": false
    }
   },
   "outputs": [],
   "source": [
    "###\n",
    "### AUTOGRADER TEST - DO NOT REMOVE\n",
    "###\n"
   ]
  },
  {
   "cell_type": "markdown",
   "metadata": {
    "cellIdentifier": "5oce1vu9kx88g1zfw79ryb",
    "colab_type": "text",
    "deletable": false,
    "editable": false,
    "id": "YVz2wJBRQnBg",
    "nbgrader": {
     "grade": false,
     "locked": true,
     "solution": false
    }
   },
   "source": [
    "### Problem 4.05 ```check_password(pwd)```"
   ]
  },
  {
   "cell_type": "markdown",
   "metadata": {
    "cellIdentifier": "bjg6xgtlbkhpto63hwk8ts",
    "colab_type": "text",
    "deletable": false,
    "editable": false,
    "id": "6Bd8oV_bbwkC",
    "nbgrader": {
     "grade": false,
     "locked": true,
     "solution": false
    }
   },
   "source": [
    "This function checks whether the string ```pwd``` is a valid password. \n",
    "\n",
    "The rules are \n",
    "- a password must have at least 8 characters\n",
    "- a password must consist of only letters and digits\n",
    "- a password must contain at least two digits \n",
    "\n",
    "\n",
    "First, write a function ```digits_in_string(s)``` which counts the number of digits in ```s``` and returns the value. \n",
    "\n",
    "Then, make use of ```digits_in_string(s)``` within ```check_password(pwd)```. \n",
    "\n",
    "```python\n",
    "ans = digits_in_string('pokemon')\n",
    "print(ans)\n",
    "ans = digits_in_string('poke201mon')\n",
    "print(ans)\n",
    "ans = check_password('test') \n",
    "print(ans)\n",
    "ans=check_password('testtest') \n",
    "print(ans)\n",
    "ans=check_password('testt22') \n",
    "print(ans)\n",
    "ans=check_password('testte22') \n",
    "print(ans)\n",
    "```\n",
    "```\n",
    "0\n",
    "3\n",
    "False\n",
    "False\n",
    "False\n",
    "True\n",
    "```\n"
   ]
  },
  {
   "cell_type": "markdown",
   "metadata": {
    "cellIdentifier": "k8l52vd8o5xmmj6a845g",
    "deletable": false,
    "editable": false,
    "nbgrader": {
     "grade": false,
     "locked": true,
     "solution": false
    }
   },
   "source": [
    "#### your solution here:"
   ]
  },
  {
   "cell_type": "code",
   "execution_count": null,
   "metadata": {
    "cellIdentifier": "a5o0c5or1wubiloffna93a"
   },
   "outputs": [],
   "source": [
    "def digits_in_string(s):\n",
    "    digit_count = 0\n",
    "    for char in s:\n",
    "        if char.isdigit():\n",
    "            digit_count += 1\n",
    "    return digit_count\n",
    "\n",
    "\n",
    "def check_password(pwd):\n",
    "    is_password_eight = len(pwd) >= 8  ##true if password has 8 characters or more, else false\n",
    "    is_password_alnum = pwd.isalnum()  ##true if password is alphanumeric, else false\n",
    "    is_password_2d = (digits_in_string(pwd) >= 2)     ##true if password has 2 digits or more, else false \n",
    "    return (is_password_eight and is_password_alnum and is_password_2d)"
   ]
  },
  {
   "cell_type": "code",
   "execution_count": null,
   "metadata": {
    "cellIdentifier": "uzbwgqc4gw67a23lsy722",
    "deletable": false,
    "editable": false,
    "nbgrader": {
     "grade": true,
     "grade_id": "4.05test1",
     "locked": true,
     "points": "1",
     "solution": false
    }
   },
   "outputs": [],
   "source": [
    "###\n",
    "### AUTOGRADER TEST - DO NOT REMOVE\n",
    "###\n"
   ]
  },
  {
   "cell_type": "code",
   "execution_count": null,
   "metadata": {
    "cellIdentifier": "er97o5rl9vd468bgsxgnu2",
    "deletable": false,
    "editable": false,
    "nbgrader": {
     "grade": true,
     "grade_id": "4.05test2",
     "locked": true,
     "points": "1",
     "solution": false
    }
   },
   "outputs": [],
   "source": [
    "###\n",
    "### AUTOGRADER TEST - DO NOT REMOVE\n",
    "###\n"
   ]
  },
  {
   "cell_type": "code",
   "execution_count": null,
   "metadata": {
    "cellIdentifier": "xa9tgwj6xjrn3ac6knudk",
    "deletable": false,
    "editable": false,
    "nbgrader": {
     "grade": true,
     "grade_id": "4.05test3",
     "locked": true,
     "points": "1",
     "solution": false
    }
   },
   "outputs": [],
   "source": [
    "###\n",
    "### AUTOGRADER TEST - DO NOT REMOVE\n",
    "###\n"
   ]
  },
  {
   "cell_type": "code",
   "execution_count": null,
   "metadata": {
    "cellIdentifier": "6n1tiae7pvdq239h0zvk8j",
    "deletable": false,
    "editable": false,
    "nbgrader": {
     "grade": true,
     "grade_id": "4.05test4",
     "locked": true,
     "points": "1",
     "solution": false
    }
   },
   "outputs": [],
   "source": [
    "###\n",
    "### AUTOGRADER TEST - DO NOT REMOVE\n",
    "###\n"
   ]
  },
  {
   "cell_type": "code",
   "execution_count": null,
   "metadata": {
    "cellIdentifier": "l3iblglv1le4p8ezgep6lq",
    "deletable": false,
    "editable": false,
    "nbgrader": {
     "grade": true,
     "grade_id": "4.05test5",
     "locked": true,
     "points": "1",
     "solution": false
    }
   },
   "outputs": [],
   "source": [
    "###\n",
    "### AUTOGRADER TEST - DO NOT REMOVE\n",
    "###\n"
   ]
  },
  {
   "cell_type": "code",
   "execution_count": null,
   "metadata": {
    "cellIdentifier": "okra3fymlnruhb7u8epk1i",
    "deletable": false,
    "editable": false,
    "nbgrader": {
     "grade": true,
     "grade_id": "4.05test6",
     "locked": true,
     "points": "1",
     "solution": false
    }
   },
   "outputs": [],
   "source": [
    "###\n",
    "### AUTOGRADER TEST - DO NOT REMOVE\n",
    "###\n"
   ]
  },
  {
   "cell_type": "code",
   "execution_count": null,
   "metadata": {
    "cellIdentifier": "0kfyddg9oyimge4gj5wjco",
    "deletable": false,
    "editable": false,
    "nbgrader": {
     "grade": true,
     "grade_id": "4.05test7",
     "locked": true,
     "points": "1",
     "solution": false
    }
   },
   "outputs": [],
   "source": [
    "###\n",
    "### AUTOGRADER TEST - DO NOT REMOVE\n",
    "###\n"
   ]
  },
  {
   "cell_type": "markdown",
   "metadata": {
    "cellIdentifier": "2zl352dl9gq0p5t237mxlfa",
    "colab_type": "text",
    "deletable": false,
    "editable": false,
    "id": "Nk9P0hkgQwzh",
    "nbgrader": {
     "grade": false,
     "locked": true,
     "solution": false
    }
   },
   "source": [
    "### Problem 4.06 ```longest_common_prefix(s1, s2)```"
   ]
  },
  {
   "cell_type": "markdown",
   "metadata": {
    "cellIdentifier": "0db0gq2565kjylrgcr7al3c",
    "colab_type": "text",
    "deletable": false,
    "editable": false,
    "id": "a0OmGWgEQ2lg",
    "nbgrader": {
     "grade": false,
     "locked": true,
     "solution": false
    }
   },
   "source": [
    "This function takes in two strings and returns their longest prefix. \n",
    "\n",
    "For example, the longest common prefix of ```distance``` and ```disinfection``` is ```dis```. \n",
    "\n",
    "If the two strings have no common longest common prefix, the method returns an empty string.\n",
    "\n",
    "Either or both of the strings may be empty, in which case, there is no common prefix as well.\n",
    "\n",
    "```python\n",
    "ans=longest_common_prefix('distance','disinfection') \n",
    "print(ans)\n",
    "ans=longest_common_prefix('testing','technical') \n",
    "print(ans)\n",
    "ans=longest_common_prefix('rosses','crosses') \n",
    "print(ans)\n",
    "```\n",
    "```\n",
    "dis\n",
    "te\n",
    "\n",
    "```\n",
    "\n",
    "\n",
    "\n"
   ]
  },
  {
   "cell_type": "markdown",
   "metadata": {
    "cellIdentifier": "i76nlec9589vsfwnc5afq",
    "deletable": false,
    "editable": false,
    "nbgrader": {
     "grade": false,
     "locked": true,
     "solution": false
    }
   },
   "source": [
    "#### Your solution here:"
   ]
  },
  {
   "cell_type": "code",
   "execution_count": null,
   "metadata": {
    "cellIdentifier": "pwm44lzr73ilsljwnc9fj"
   },
   "outputs": [],
   "source": [
    "def longest_common_prefix(s1, s2):\n",
    "#check the shorter string and then assign to new empty list\n",
    "    newls = \"\"\n",
    "    shortest_length = min(len(s1),len(s2))\n",
    "    for i in range(shortest_length):\n",
    "        if s1[i] == s2[i]:\n",
    "            newls += s1[i]\n",
    "        elif s1[1] != s2[1]:\n",
    "            return \"\"\n",
    "    return(newls)"
   ]
  },
  {
   "cell_type": "code",
   "execution_count": null,
   "metadata": {
    "cellIdentifier": "xwxz1qvwu6php3h9oqtrjo",
    "deletable": false,
    "editable": false,
    "nbgrader": {
     "grade": true,
     "grade_id": "4.06test1",
     "locked": true,
     "points": "1",
     "solution": false
    }
   },
   "outputs": [],
   "source": [
    "###\n",
    "### AUTOGRADER TEST - DO NOT REMOVE\n",
    "###\n"
   ]
  },
  {
   "cell_type": "code",
   "execution_count": null,
   "metadata": {
    "cellIdentifier": "u6uvczwjah9e0h9l16x5",
    "deletable": false,
    "editable": false,
    "nbgrader": {
     "grade": true,
     "grade_id": "4.06test2",
     "locked": true,
     "points": "1",
     "solution": false
    }
   },
   "outputs": [],
   "source": [
    "###\n",
    "### AUTOGRADER TEST - DO NOT REMOVE\n",
    "###\n"
   ]
  },
  {
   "cell_type": "code",
   "execution_count": null,
   "metadata": {
    "cellIdentifier": "q3wf458kh8u25juo6zn9",
    "deletable": false,
    "editable": false,
    "nbgrader": {
     "grade": true,
     "grade_id": "4.06test3",
     "locked": true,
     "points": "1",
     "solution": false
    }
   },
   "outputs": [],
   "source": [
    "###\n",
    "### AUTOGRADER TEST - DO NOT REMOVE\n",
    "###\n"
   ]
  },
  {
   "cell_type": "code",
   "execution_count": null,
   "metadata": {
    "cellIdentifier": "fen2j87swuku0zet9tpvc",
    "deletable": false,
    "editable": false,
    "nbgrader": {
     "grade": true,
     "grade_id": "4.06test4",
     "locked": true,
     "points": "1",
     "solution": false
    }
   },
   "outputs": [],
   "source": [
    "###\n",
    "### AUTOGRADER TEST - DO NOT REMOVE\n",
    "###\n"
   ]
  },
  {
   "cell_type": "markdown",
   "metadata": {
    "cellIdentifier": "2ypbctg55rll4fer9ebxto",
    "colab_type": "text",
    "deletable": false,
    "editable": false,
    "id": "fnFWXVGHQd07",
    "nbgrader": {
     "grade": false,
     "locked": true,
     "solution": false
    }
   },
   "source": [
    "### Problem 4.07 ```binary_to_decimal(s)```"
   ]
  },
  {
   "cell_type": "markdown",
   "metadata": {
    "cellIdentifier": "ayj1nm0ck35h1t6y9xodp",
    "colab_type": "text",
    "deletable": false,
    "editable": false,
    "id": "n8qa0aSgY7QJ",
    "nbgrader": {
     "grade": false,
     "locked": true,
     "solution": false
    }
   },
   "source": [
    "This function takes in a string that represents a binary number. \n",
    "\n",
    "It returns the decimal equivalent as an integer. \n",
    "\n",
    "You may assume that \n",
    "- the string will not be empty\n",
    "- the string will contain only ```1``` and ```0``` \n",
    "\n",
    "\n",
    "```python \n",
    "print(binary_to_decimal('100'))  \n",
    "print(binary_to_decimal('101'))  \n",
    "print(binary_to_decimal('10001'))  \n",
    "print(binary_to_decimal('10101'))  \n",
    "```\n",
    "\n",
    "```python \n",
    "4\n",
    "5\n",
    "17\n",
    "21\n",
    "```"
   ]
  },
  {
   "cell_type": "code",
   "execution_count": null,
   "metadata": {
    "cellIdentifier": "rp56jhfbzf6qhtz5lr2bs"
   },
   "outputs": [],
   "source": [
    "def binary_to_decimal(s):\n",
    "    decimalsum = 0\n",
    "    for i, bit in enumerate(reversed(s)):\n",
    "        decimalsum += int(bit) * (2 ** i)\n",
    "    return decimalsum"
   ]
  },
  {
   "cell_type": "code",
   "execution_count": null,
   "metadata": {
    "cellIdentifier": "462s5xsvwagq0frbqjg6f",
    "deletable": false,
    "editable": false,
    "nbgrader": {
     "grade": true,
     "grade_id": "4.07test1",
     "locked": true,
     "points": "1",
     "solution": false
    }
   },
   "outputs": [],
   "source": [
    "###\n",
    "### AUTOGRADER TEST - DO NOT REMOVE\n",
    "###\n"
   ]
  },
  {
   "cell_type": "code",
   "execution_count": null,
   "metadata": {
    "cellIdentifier": "o3ae5gbwc7e9sxnd12sd74",
    "deletable": false,
    "editable": false,
    "nbgrader": {
     "grade": true,
     "grade_id": "4.07test2",
     "locked": true,
     "points": "1",
     "solution": false
    }
   },
   "outputs": [],
   "source": [
    "###\n",
    "### AUTOGRADER TEST - DO NOT REMOVE\n",
    "###\n"
   ]
  },
  {
   "cell_type": "code",
   "execution_count": null,
   "metadata": {
    "cellIdentifier": "vqcnmb1gkba0m6wfdrjq",
    "deletable": false,
    "editable": false,
    "nbgrader": {
     "grade": true,
     "grade_id": "4.07test3",
     "locked": true,
     "points": "1",
     "solution": false
    }
   },
   "outputs": [],
   "source": [
    "###\n",
    "### AUTOGRADER TEST - DO NOT REMOVE\n",
    "###\n"
   ]
  },
  {
   "cell_type": "code",
   "execution_count": null,
   "metadata": {
    "cellIdentifier": "j3jv8n7f4eh2vo4pc8gdc6",
    "deletable": false,
    "editable": false,
    "nbgrader": {
     "grade": true,
     "grade_id": "4.07test4",
     "locked": true,
     "points": "1",
     "solution": false
    }
   },
   "outputs": [],
   "source": [
    "###\n",
    "### AUTOGRADER TEST - DO NOT REMOVE\n",
    "###\n"
   ]
  },
  {
   "cell_type": "markdown",
   "metadata": {
    "cellIdentifier": "lyh32kf247dyq0doaogp0k",
    "colab_type": "text",
    "deletable": false,
    "editable": false,
    "id": "nN96ZW_ITfKS",
    "nbgrader": {
     "grade": false,
     "locked": true,
     "solution": false
    }
   },
   "source": [
    "### Problem 4.08 ```uncompressed(s)```"
   ]
  },
  {
   "cell_type": "markdown",
   "metadata": {
    "cellIdentifier": "m1pp6pgznes0n0iiz4ml8ld",
    "colab_type": "text",
    "deletable": false,
    "editable": false,
    "id": "-lfK6kpUSiOh",
    "nbgrader": {
     "grade": false,
     "locked": true,
     "solution": false
    }
   },
   "source": [
    "This function takes in a string that is encoded and decodes it.\n",
    "\n",
    "The string is encoded using what is known as **run-length encoding**: \n",
    "- Each alphabetic character is preceded by a single digit. \n",
    "- This indicates the number of times that the character is repeated. \n",
    "\n",
    "For example, \n",
    "- decoding ```1x1y``` gives ```xy```\n",
    "- decoding ```2a5b1c``` gives ```aabbbbbc```\n",
    "- decoding ```1a1b2c``` gives ```abcc```\n",
    "- decoding ```1a9b3b1c``` gives ```abbbbbbbbbbbbc```"
   ]
  },
  {
   "cell_type": "markdown",
   "metadata": {
    "cellIdentifier": "z9w0pkrek1q4qorifhvmn",
    "deletable": false,
    "editable": false,
    "nbgrader": {
     "grade": false,
     "locked": true,
     "solution": false
    }
   },
   "source": [
    "#### Your solution here: "
   ]
  },
  {
   "cell_type": "code",
   "execution_count": null,
   "metadata": {
    "cellIdentifier": "bv1hfprpxxlqm3p5d7yeu"
   },
   "outputs": [],
   "source": [
    "def uncompressed(s):\n",
    "    zipper = \"\"\n",
    "    if len(s) % 2 != 0 or s == zipper:\n",
    "            return None\n",
    "    for i in range(0, len(s), 2):\n",
    "        alpha = s[i+1]\n",
    "        num = int(s[i])\n",
    "        zipper += alpha * num\n",
    "    return zipper"
   ]
  },
  {
   "cell_type": "code",
   "execution_count": null,
   "metadata": {
    "cellIdentifier": "62h83vw4azibcflrv8m88j",
    "deletable": false,
    "editable": false,
    "nbgrader": {
     "grade": true,
     "grade_id": "4.08test1",
     "locked": true,
     "points": "1",
     "solution": false
    }
   },
   "outputs": [],
   "source": [
    "###\n",
    "### AUTOGRADER TEST - DO NOT REMOVE\n",
    "###\n"
   ]
  },
  {
   "cell_type": "code",
   "execution_count": null,
   "metadata": {
    "cellIdentifier": "fikuiadfpsmkl2pb2kpv7",
    "deletable": false,
    "editable": false,
    "nbgrader": {
     "grade": true,
     "grade_id": "4.08test2",
     "locked": true,
     "points": "1",
     "solution": false
    }
   },
   "outputs": [],
   "source": [
    "###\n",
    "### AUTOGRADER TEST - DO NOT REMOVE\n",
    "###\n"
   ]
  },
  {
   "cell_type": "code",
   "execution_count": null,
   "metadata": {
    "cellIdentifier": "kkzas8u19lcb6nhnzu6h95",
    "deletable": false,
    "editable": false,
    "nbgrader": {
     "grade": true,
     "grade_id": "4.08test3",
     "locked": true,
     "points": "1",
     "solution": false
    }
   },
   "outputs": [],
   "source": [
    "###\n",
    "### AUTOGRADER TEST - DO NOT REMOVE\n",
    "###\n"
   ]
  },
  {
   "cell_type": "code",
   "execution_count": null,
   "metadata": {
    "cellIdentifier": "13sbq7clmnwqd6k5p0kraaa",
    "deletable": false,
    "editable": false,
    "nbgrader": {
     "grade": true,
     "grade_id": "4.08test4",
     "locked": true,
     "points": "1",
     "solution": false
    }
   },
   "outputs": [],
   "source": [
    "###\n",
    "### AUTOGRADER TEST - DO NOT REMOVE\n",
    "###\n"
   ]
  },
  {
   "cell_type": "markdown",
   "metadata": {
    "cellIdentifier": "bz6xp59vtwz1f98x793jf",
    "colab_type": "text",
    "deletable": false,
    "editable": false,
    "id": "PnZGoROcVxzM",
    "nbgrader": {
     "grade": false,
     "locked": true,
     "solution": false
    }
   },
   "source": [
    "### Problem 4.09 ```get_base_counts(dna)```"
   ]
  },
  {
   "cell_type": "markdown",
   "metadata": {
    "cellIdentifier": "0sazb1ih6htv975k8pt5e",
    "colab_type": "text",
    "deletable": false,
    "editable": false,
    "id": "bszht8KzU-vR",
    "nbgrader": {
     "grade": false,
     "locked": true,
     "solution": false
    }
   },
   "source": [
    "\n",
    "This function takes a DNA string as an input. As a DNA string,  it should contain only the letters ```A```, ```C```, ```G```, and ```T``` (upper case only). The DNA string will have length of at least one.\n",
    "\n",
    "The function returns the count of the number of times each of the four letters A, C, G, and T appear in the input string, in the form of a list. \n",
    "\n",
    "If the input string contains other letters the function will return an empty list. \n",
    "\n",
    "**NOTE** In Problem Set 5, there will be another version of this problem. Don't forget to save your solution for this problem set.\n",
    "\n",
    "```python\n",
    "result = get_base_counts('AACCCGT')\n",
    "print(result)\n",
    "result = get_base_counts('AACCG')\n",
    "print(result)\n",
    "result = get_base_counts('AAB')\n",
    "print(result)\n",
    "```\n",
    "\n",
    "```python \n",
    "[2, 3, 1, 1]\n",
    "[2, 2, 1, 0]\n",
    "[]\n",
    "```"
   ]
  },
  {
   "cell_type": "markdown",
   "metadata": {
    "cellIdentifier": "tsx8btu87v3kxz3hqc5jg",
    "deletable": false,
    "editable": false,
    "nbgrader": {
     "grade": false,
     "locked": true,
     "solution": false
    }
   },
   "source": [
    "#### Your solution below:"
   ]
  },
  {
   "cell_type": "code",
   "execution_count": null,
   "metadata": {
    "cellIdentifier": "gtarqay7cko60launi96ta"
   },
   "outputs": [],
   "source": [
    "def repetition(letter, string):\n",
    "    count = 0\n",
    "    for char in string:\n",
    "        if char == letter:\n",
    "            count += 1\n",
    "    return(count)\n",
    "\n",
    "def get_base_counts(dna):\n",
    "    ls = []\n",
    "    for char in dna:\n",
    "        if char not in ['A', 'C', 'G', 'T']:\n",
    "            return ls\n",
    "    ls.append(repetition(\"A\",dna))\n",
    "    ls.append(repetition(\"C\",dna))\n",
    "    ls.append(repetition(\"G\",dna))\n",
    "    ls.append(repetition(\"T\",dna))\n",
    "    return ls"
   ]
  },
  {
   "cell_type": "code",
   "execution_count": null,
   "metadata": {
    "cellIdentifier": "dcx6s2xxx0bshqcafzpmg",
    "deletable": false,
    "editable": false,
    "nbgrader": {
     "grade": true,
     "grade_id": "4.09test1",
     "locked": true,
     "points": "1",
     "solution": false
    }
   },
   "outputs": [],
   "source": [
    "###\n",
    "### AUTOGRADER TEST - DO NOT REMOVE\n",
    "###\n"
   ]
  },
  {
   "cell_type": "code",
   "execution_count": null,
   "metadata": {
    "cellIdentifier": "ufpah8oa0d1oz55ko7nqu",
    "deletable": false,
    "editable": false,
    "nbgrader": {
     "grade": true,
     "grade_id": "4.09test2",
     "locked": true,
     "points": "1",
     "solution": false
    }
   },
   "outputs": [],
   "source": [
    "###\n",
    "### AUTOGRADER TEST - DO NOT REMOVE\n",
    "###\n"
   ]
  },
  {
   "cell_type": "code",
   "execution_count": null,
   "metadata": {
    "cellIdentifier": "qgi76ov6ckcdkxmuogy0mf",
    "deletable": false,
    "editable": false,
    "nbgrader": {
     "grade": true,
     "grade_id": "4.09test3",
     "locked": true,
     "points": "1",
     "solution": false
    }
   },
   "outputs": [],
   "source": [
    "###\n",
    "### AUTOGRADER TEST - DO NOT REMOVE\n",
    "###\n"
   ]
  },
  {
   "cell_type": "code",
   "execution_count": null,
   "metadata": {
    "cellIdentifier": "vhtfqhyfnbl4rijmrldkfv",
    "deletable": false,
    "editable": false,
    "nbgrader": {
     "grade": true,
     "grade_id": "4.09test4",
     "locked": true,
     "points": "1",
     "solution": false
    }
   },
   "outputs": [],
   "source": [
    "###\n",
    "### AUTOGRADER TEST - DO NOT REMOVE\n",
    "###\n"
   ]
  },
  {
   "cell_type": "code",
   "execution_count": null,
   "metadata": {
    "cellIdentifier": "e1p4x09nskdra9caoe0uv",
    "deletable": false,
    "editable": false,
    "nbgrader": {
     "grade": true,
     "grade_id": "4.09test5",
     "locked": true,
     "points": "1",
     "solution": false
    }
   },
   "outputs": [],
   "source": [
    "###\n",
    "### AUTOGRADER TEST - DO NOT REMOVE\n",
    "###\n"
   ]
  }
 ],
 "metadata": {
  "colab": {
   "name": "Lesson 4.ipynb",
   "provenance": []
  },
  "kernelspec": {
   "display_name": "Python 3 [3.10]",
   "language": "python",
   "name": "python3"
  },
  "language_info": {
   "codemirror_mode": {
    "name": "ipython",
    "version": 3
   },
   "file_extension": ".py",
   "mimetype": "text/x-python",
   "name": "python",
   "nbconvert_exporter": "python",
   "pygments_lexer": "ipython3",
   "version": "3.10.2"
  }
 },
 "nbformat": 4,
 "nbformat_minor": 4
}
